{
  "nbformat": 4,
  "nbformat_minor": 0,
  "metadata": {
    "colab": {
      "provenance": [],
      "authorship_tag": "ABX9TyMi3JEXLYcXl2bxb07iD1uF",
      "include_colab_link": true
    },
    "kernelspec": {
      "name": "python3",
      "display_name": "Python 3"
    },
    "language_info": {
      "name": "python"
    }
  },
  "cells": [
    {
      "cell_type": "markdown",
      "metadata": {
        "id": "view-in-github",
        "colab_type": "text"
      },
      "source": [
        "<a href=\"https://colab.research.google.com/github/enjoyPG/2023Gifted/blob/main/students/joon0425/20230303/predict_function.ipynb\" target=\"_parent\"><img src=\"https://colab.research.google.com/assets/colab-badge.svg\" alt=\"Open In Colab\"/></a>"
      ]
    },
    {
      "cell_type": "code",
      "source": [
        "import numpy as np\n",
        "import matplotlib as mpl\n",
        "import matplotlib.pyplot as plt\n",
        "import torch\n",
        "import torch.nn as nn\n",
        "import torch.optim as optim\n",
        "!pip install torchviz | tail -n 1\n",
        "from torchviz import make_dot\n",
        "%matplotlib inline"
      ],
      "metadata": {
        "colab": {
          "base_uri": "https://localhost:8080/"
        },
        "id": "8blwKppueb7G",
        "outputId": "262a874f-8e56-47fd-d538-22fc21cb81f7"
      },
      "execution_count": 38,
      "outputs": [
        {
          "output_type": "stream",
          "name": "stdout",
          "text": [
            "Requirement already satisfied: typing-extensions in /usr/local/lib/python3.8/dist-packages (from torch->torchviz) (4.5.0)\n"
          ]
        }
      ]
    },
    {
      "cell_type": "markdown",
      "source": [
        "# 예측함수의 구현"
      ],
      "metadata": {
        "id": "506PVs40dnjv"
      }
    },
    {
      "cell_type": "code",
      "execution_count": 41,
      "metadata": {
        "colab": {
          "base_uri": "https://localhost:8080/",
          "height": 284
        },
        "id": "1nSpWZVudVRO",
        "outputId": "99aac345-a228-471c-ab1a-49426bb874f1"
      },
      "outputs": [
        {
          "output_type": "display_data",
          "data": {
            "text/plain": [
              "<Figure size 432x288 with 1 Axes>"
            ],
            "image/png": "[encoded data removed]"
          },
          "metadata": {
            "needs_background": "light"
          }
        },
        {
          "output_type": "display_data",
          "data": {
            "text/plain": [
              "<Figure size 720x720 with 0 Axes>"
            ]
          },
          "metadata": {}
        }
      ],
      "source": [
        "np.random.seed(123) # 시드 설정\n",
        "x=np.random.randn(100,1) # 표준 정규분포 값 행렬 100(행)*1(열)\n",
        "y=x**2+np.random.randn(100,1)*0.1\n",
        "\n",
        "# 학습 데이터\n",
        "x_train=x[:50]\n",
        "y_train=y[:50]\n",
        "# 검증 데이터\n",
        "x_test=x[50:]\n",
        "y_test=y[50:]\n",
        "\n",
        "inputs=torch.tensor(x_train).float()\n",
        "labels=torch.tensor(y_train).float()\n",
        "inputs_test=torch.tensor(x_test).float()\n",
        "labels_test=torch.tensor(y_test).float()\n",
        "\n",
        "plt.scatter(x_train,y_train,c='b',label='train_data')\n",
        "plt.scatter(x_test,y_test,c='k',marker='x',label='test_data')\n",
        "plt.legend()\n",
        "plt.figure(figsize=(10,10))\n",
        "plt.show()"
      ]
    },
    {
      "cell_type": "markdown",
      "source": [
        "#### Module1 : Linear1\n",
        "#### Module2 : Linear1->Linear2->Linear3\n",
        "#### Module3 : Linear1->ReLU->Linear2->ReLU->Linear3"
      ],
      "metadata": {
        "id": "3fXSFCIzkIcu"
      }
    },
    {
      "cell_type": "code",
      "source": [
        "def model_test(net,name): # model test function\n",
        "  lr=0.01 # learning rate\n",
        "  optimizer=optim.SGD(net.parameters(), lr=lr) # optimizer : gradient descent\n",
        "  criterion=nn.MSELoss() # loss func : mean square\n",
        "  num_epochs=10000 # nRepeat\n",
        "  history=np.zeros((0,2))\n",
        "  for epoch in range(num_epochs):\n",
        "    optimizer.zero_grad() # initial gradients\n",
        "    outputs=net(inputs) # predict\n",
        "    loss=criterion(outputs,labels) # calc loss\n",
        "    loss.backward() # calc gradients\n",
        "    optimizer.step() # optimize\n",
        "    if epoch%1000==0: # log history\n",
        "      history=np.vstack((history,np.array([epoch,loss.item()])))\n",
        "      print(f'Epoch {epoch} loss : {loss.item():.5f}')\n",
        "  labels_pred=net(inputs_test)\n",
        "  plt.title(name)\n",
        "  plt.scatter(inputs_test[:,0].data,labels_pred[:,0].data,c='b',label='예측값')\n",
        "  plt.scatter(inputs_test[:,0].data,labels_test[:,0].data,c='k',marker='x',label='정답')\n",
        "  plt.legend()\n",
        "  plt.show()"
      ],
      "metadata": {
        "id": "jwsT4qSYkZ3Y"
      },
      "execution_count": 51,
      "outputs": []
    },
    {
      "cell_type": "code",
      "source": [
        "# Model definition\n",
        "class Net1(nn.Module):\n",
        "  def __init__(self): \n",
        "    super().__init__() # initial nn.Module\n",
        "    self.l1=nn.Linear(1,1) # define output layer\n",
        "  def forward(self,x): # prediction func\n",
        "    x1=self.l1(x) \n",
        "    return x1 # input->Linear func\n",
        "class Net2(nn.Module):\n",
        "  def __init__(self):\n",
        "    super().__init__()\n",
        "    self.l1=nn.Linear(1,10)\n",
        "    self.l2=nn.Linear(10,10)\n",
        "    self.l3=nn.Linear(10,1)\n",
        "  def forward(self,x):\n",
        "    x1=self.l3(self.l2(self.l1(x))) # input->Linear->Linear->Linear->output\n",
        "    return x1\n",
        "class Net3(nn.Module):\n",
        "  def __init__(self):\n",
        "    super().__init__()\n",
        "    self.l1=nn.Linear(1,10)\n",
        "    self.l2=nn.Linear(10,10)\n",
        "    self.l3=nn.Linear(10,1)\n",
        "    self.relu=nn.ReLU(inplace=True)\n",
        "  def forward(self,x):\n",
        "    x1=self.l3(self.relu(self.l2(self.relu(self.l1(x))))) # input->Linear->ReLU->Linear->ReLU->Linear->output\n",
        "    return x1\n",
        "net1=Net1()\n",
        "net2=Net2()\n",
        "net3=Net3()"
      ],
      "metadata": {
        "id": "pSeALK8Tji62"
      },
      "execution_count": 55,
      "outputs": []
    },
    {
      "cell_type": "code",
      "source": [
        "model_test(net1,'1 Linear function')\n",
        "model_test(net2,'3 Linear functions')\n",
        "model_test(net3,'3 Linear functions with ReLU')"
      ],
      "metadata": {
        "colab": {
          "base_uri": "https://localhost:8080/",
          "height": 1000
        },
        "id": "U10jghkmt4s3",
        "outputId": "65af2297-52c5-4ba8-cd51-927490904798"
      },
      "execution_count": 56,
      "outputs": [
        {
          "output_type": "stream",
          "name": "stdout",
          "text": [
            "Epoch 0 loss : 5.16374\n",
            "Epoch 1000 loss : 3.21544\n",
            "Epoch 2000 loss : 3.21544\n",
            "Epoch 3000 loss : 3.21544\n",
            "Epoch 4000 loss : 3.21544\n",
            "Epoch 5000 loss : 3.21544\n",
            "Epoch 6000 loss : 3.21544\n",
            "Epoch 7000 loss : 3.21544\n",
            "Epoch 8000 loss : 3.21544\n",
            "Epoch 9000 loss : 3.21544\n"
          ]
        },
        {
          "output_type": "display_data",
          "data": {
            "text/plain": [
              "<Figure size 432x288 with 1 Axes>"
            ],
            "image/png": "[encoded data removed]"
          },
          "metadata": {
            "needs_background": "light"
          }
        },
        {
          "output_type": "stream",
          "name": "stdout",
          "text": [
            "Epoch 0 loss : 4.57696\n",
            "Epoch 1000 loss : 3.21544\n",
            "Epoch 2000 loss : 3.21544\n",
            "Epoch 3000 loss : 3.21544\n",
            "Epoch 4000 loss : 3.21544\n",
            "Epoch 5000 loss : 3.21544\n",
            "Epoch 6000 loss : 3.21544\n",
            "Epoch 7000 loss : 3.21544\n",
            "Epoch 8000 loss : 3.21544\n",
            "Epoch 9000 loss : 3.21544\n"
          ]
        },
        {
          "output_type": "display_data",
          "data": {
            "text/plain": [
              "<Figure size 432x288 with 1 Axes>"
            ],
            "image/png": "[encoded data removed]"
          },
          "metadata": {
            "needs_background": "light"
          }
        },
        {
          "output_type": "stream",
          "name": "stdout",
          "text": [
            "Epoch 0 loss : 5.46693\n",
            "Epoch 1000 loss : 0.01733\n",
            "Epoch 2000 loss : 0.00913\n",
            "Epoch 3000 loss : 0.00865\n",
            "Epoch 4000 loss : 0.00859\n",
            "Epoch 5000 loss : 0.00856\n",
            "Epoch 6000 loss : 0.00853\n",
            "Epoch 7000 loss : 0.00851\n",
            "Epoch 8000 loss : 0.00849\n",
            "Epoch 9000 loss : 0.00847\n"
          ]
        },
        {
          "output_type": "display_data",
          "data": {
            "text/plain": [
              "<Figure size 432x288 with 1 Axes>"
            ],
            "image/png": "[encoded data removed]"
          },
          "metadata": {
            "needs_background": "light"
          }
        }
      ]
    }
  ]
}