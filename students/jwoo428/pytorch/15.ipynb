{
  "nbformat": 4,
  "nbformat_minor": 0,
  "metadata": {
    "colab": {
      "provenance": [],
      "include_colab_link": true
    },
    "kernelspec": {
      "name": "python3",
      "display_name": "Python 3"
    },
    "language_info": {
      "name": "python"
    }
  },
  "cells": [
    {
      "cell_type": "markdown",
      "metadata": {
        "id": "view-in-github",
        "colab_type": "text"
      },
      "source": [
        "<a href=\"https://colab.research.google.com/github/enjoyPG/2023Gifted/blob/main/students/jwoo428/pytorch/15.ipynb\" target=\"_parent\"><img src=\"https://colab.research.google.com/assets/colab-badge.svg\" alt=\"Open In Colab\"/></a>"
      ]
    },
    {
      "cell_type": "code",
      "source": [
        "from google.colab import drive\n",
        "drive.mount('/content/drive')"
      ],
      "metadata": {
        "colab": {
          "base_uri": "https://localhost:8080/"
        },
        "id": "amH6p07uhdBs",
        "outputId": "56c65c9b-dd36-4be7-eb6c-e5a8472630e8"
      },
      "execution_count": 1,
      "outputs": [
        {
          "output_type": "stream",
          "name": "stdout",
          "text": [
            "Mounted at /content/drive\n"
          ]
        }
      ]
    },
    {
      "cell_type": "markdown",
      "source": [
        "# 데이터 전처리 정의"
      ],
      "metadata": {
        "id": "6Lf4T0JVOChR"
      }
    },
    {
      "cell_type": "code",
      "source": [
        "import tqdm\n",
        "import torch\n",
        "import torch.nn as nn\n",
        "\n",
        "from torchvision.datasets.cifar import CIFAR10\n",
        "from torchvision.transforms import Compose, ToTensor\n",
        "from torchvision.transforms import RandomHorizontalFlip, RandomCrop\n",
        "from torchvision.transforms import Normalize\n",
        "from torch.utils.data.dataloader import DataLoader\n",
        "from torchvision.models.resnet import resnet34, resnet18\n",
        "\n",
        "\n",
        "from torch.optim.adam import Adam\n",
        "\n",
        "# 학습할 때 이용할 전처리 정의\n",
        "transforms = Compose([\n",
        "   RandomCrop((32, 32), padding=4),\n",
        "   RandomHorizontalFlip(p=0.5),\n",
        "   ToTensor(),\n",
        "   Normalize(mean=(0.4914, 0.4822, 0.4465),\n",
        "             std=(0.247, 0.243, 0.261))\n",
        "])"
      ],
      "metadata": {
        "id": "8aUCI-5TOBkf"
      },
      "execution_count": 2,
      "outputs": []
    },
    {
      "cell_type": "markdown",
      "source": [
        "# 교사모델 학습에 필요한 요소 정의"
      ],
      "metadata": {
        "id": "-rxIHlp1OX7j"
      }
    },
    {
      "cell_type": "code",
      "source": [
        "# 학습용 데이터 준비\n",
        "training_data = CIFAR10(root=\"./\", \n",
        "                        train=True, \n",
        "                        download=True, \n",
        "                        transform=transforms)\n",
        "test_data = CIFAR10(root=\"./\", \n",
        "                    train=False, \n",
        "                    download=True, \n",
        "                    transform=transforms)\n",
        "\n",
        "# 검증용 데이터 준비\n",
        "train_loader = DataLoader(\n",
        "    training_data, \n",
        "    batch_size=32, \n",
        "    shuffle=True)\n",
        "test_loader = DataLoader(\n",
        "    test_data, \n",
        "    batch_size=32, \n",
        "    shuffle=False)\n",
        "\n",
        "device = \"cuda\" if torch.cuda.is_available() else \"cpu\"\n",
        "\n",
        "# 교사 모델 정의\n",
        "teacher = resnet34(pretrained=False, num_classes=10)\n",
        "teacher.to(device)\n",
        "\n",
        "lr = 1e-5\n",
        "optim = Adam(teacher.parameters(), lr=lr)"
      ],
      "metadata": {
        "id": "S4wmquf2sdt2",
        "colab": {
          "base_uri": "https://localhost:8080/"
        },
        "outputId": "e689243f-f273-4ef5-ec80-ec6d4ca44757"
      },
      "execution_count": 3,
      "outputs": [
        {
          "output_type": "stream",
          "name": "stdout",
          "text": [
            "Downloading https://www.cs.toronto.edu/~kriz/cifar-10-python.tar.gz to ./cifar-10-python.tar.gz\n"
          ]
        },
        {
          "output_type": "stream",
          "name": "stderr",
          "text": [
            "100%|██████████| 170498071/170498071 [00:01<00:00, 99030213.54it/s] \n"
          ]
        },
        {
          "output_type": "stream",
          "name": "stdout",
          "text": [
            "Extracting ./cifar-10-python.tar.gz to ./\n",
            "Files already downloaded and verified\n"
          ]
        },
        {
          "output_type": "stream",
          "name": "stderr",
          "text": [
            "/usr/local/lib/python3.10/dist-packages/torchvision/models/_utils.py:208: UserWarning: The parameter 'pretrained' is deprecated since 0.13 and may be removed in the future, please use 'weights' instead.\n",
            "  warnings.warn(\n",
            "/usr/local/lib/python3.10/dist-packages/torchvision/models/_utils.py:223: UserWarning: Arguments other than a weight enum or `None` for 'weights' are deprecated since 0.13 and may be removed in the future. The current behavior is equivalent to passing `weights=None`.\n",
            "  warnings.warn(msg)\n"
          ]
        }
      ]
    },
    {
      "cell_type": "markdown",
      "source": [
        "# 교사모델 학습 루프 정의"
      ],
      "metadata": {
        "id": "ebDE25MZOfwp"
      }
    },
    {
      "cell_type": "code",
      "source": [
        "# 학습 루프\n",
        "for epoch in range(30):\n",
        "   iterator = tqdm.tqdm(train_loader)\n",
        "   for data, label in iterator:\n",
        "       optim.zero_grad()\n",
        "\n",
        "       preds = teacher(data.to(device))\n",
        "\n",
        "       loss = nn.CrossEntropyLoss()(preds, label.to(device))\n",
        "       loss.backward()\n",
        "       optim.step()\n",
        "\n",
        "       iterator.set_description(f\"epoch:{epoch+1} loss:{loss.item()}\")\n",
        "\n",
        "# 교사 모델의 가중치 저장\n",
        "torch.save(teacher.state_dict(), \"teacher.pth\")"
      ],
      "metadata": {
        "id": "tOcZqDmFOcSi",
        "colab": {
          "base_uri": "https://localhost:8080/"
        },
        "outputId": "ecd32848-5655-40c3-e2fc-639d1de19b25"
      },
      "execution_count": null,
      "outputs": [
        {
          "output_type": "stream",
          "name": "stderr",
          "text": [
            "epoch:1 loss:2.195847272872925:  21%|██        | 327/1563 [03:00<11:39,  1.77it/s]"
          ]
        }
      ]
    },
    {
      "cell_type": "markdown",
      "source": [
        "# 교사 모델 성능 평가하기"
      ],
      "metadata": {
        "id": "0njqFZ1fOreb"
      }
    },
    {
      "cell_type": "code",
      "source": [
        "# 교사 모델의 가중치 불러오기\n",
        "teacher.load_state_dict(torch.load(\"./teahcer.pth\", map_location=device))\n",
        "\n",
        "num_corr = 0\n",
        "\n",
        "# 교사 모델의 성능 검증\n",
        "with torch.no_grad():\n",
        "   for data, label in test_loader:\n",
        "\n",
        "       output = teacher(data.to(device))\n",
        "       preds = output.data.max(1)[1]\n",
        "       corr = preds.eq(label.to(device).data).sum().item()\n",
        "       num_corr += corr\n",
        "\n",
        "   print(f\"Accuracy:{num_corr/len(test_data)}\")"
      ],
      "metadata": {
        "id": "QkJZanWJOj_C"
      },
      "execution_count": null,
      "outputs": []
    },
    {
      "cell_type": "markdown",
      "source": [
        "# 데이터 생성자 정의"
      ],
      "metadata": {
        "id": "V__l9UaLQJ2c"
      }
    },
    {
      "cell_type": "code",
      "source": [
        "import torch.nn.functional as F\n",
        "\n",
        "class Generator(nn.Module):\n",
        "   def __init__(self, dims=256, channels=3):\n",
        "       super(Generator, self).__init__()\n",
        "\n",
        "       # 256 차원 벡터를 입력받아 128채널 8X8 이미지 생성\n",
        "       self.l1 = nn.Sequential(nn.Linear(dims, 128 * 8 * 8))\n",
        "\n",
        "       self.conv_blocks0 = nn.Sequential(\n",
        "           nn.BatchNorm2d(128),\n",
        "       )\n",
        "       self.conv_blocks1 = nn.Sequential(\n",
        "           nn.Conv2d(128, 128, 3, stride=1, padding=1),\n",
        "           nn.BatchNorm2d(128),\n",
        "           nn.LeakyReLU(0.2),  # ① 활성화 함수\n",
        "       )\n",
        "       self.conv_blocks2 = nn.Sequential(\n",
        "           nn.Conv2d(128, 64, 3, stride=1, padding=1),\n",
        "           nn.BatchNorm2d(64),\n",
        "           nn.LeakyReLU(0.2),\n",
        "           nn.Conv2d(64, channels, 3, stride=1, padding=1),\n",
        "           nn.Tanh(),\n",
        "           nn.BatchNorm2d(channels, affine=False)  # ② 배치 정규화\n",
        "       )\n",
        "\n",
        "   def forward(self, z):\n",
        "       # 256차원 벡터를 128채널 8X8 이미지로 변환\n",
        "       out = self.l1(z.view(z.shape[0], -1))\n",
        "       out = out.view(out.shape[0], -1, 8, 8)\n",
        "\n",
        "       out = self.conv_blocks0(out)\n",
        "       # ③ 이미지를 두 배로 늘려줌\n",
        "       out = nn.functional.interpolate(out, scale_factor=2)\n",
        "       out = self.conv_blocks1(out)\n",
        "       out = nn.functional.interpolate(out, scale_factor=2)\n",
        "       out = self.conv_blocks2(out)\n",
        "       return out"
      ],
      "metadata": {
        "id": "5G6UmmyLOxBL"
      },
      "execution_count": null,
      "outputs": []
    },
    {
      "cell_type": "markdown",
      "source": [
        "# 학생모델과 생성자 학습"
      ],
      "metadata": {
        "id": "rTnxnrnuQkI6"
      }
    },
    {
      "cell_type": "code",
      "source": [
        "from torch.optim.sgd import SGD\n",
        "\n",
        "# ❶ 교사 모델 불러오기\n",
        "teacher = resnet34(pretrained=False, num_classes=10)\n",
        "teacher.load_state_dict(torch.load(\"./teahcer.pth\", map_location=device))\n",
        "teacher.to(device)\n",
        "teacher.eval()\n",
        "\n",
        "# ❷ 학생 모델 정의\n",
        "student = resnet18(pretrained=False, num_classes=10)\n",
        "student.to(device)\n",
        "\n",
        "# ❸ 생성자 정의\n",
        "generator = Generator()\n",
        "generator.to(device)\n",
        "\n",
        "# ❹ 생성자는 Adam으로, 학생 모델은 SGD를 이용해서 학습\n",
        "G_optim = Adam(generator.parameters(), lr=1e-3)\n",
        "S_optim = SGD(student.parameters(), lr=0.1, weight_decay=5e-4, momentum=0.9)"
      ],
      "metadata": {
        "id": "06bTsSuNQMc_"
      },
      "execution_count": null,
      "outputs": []
    },
    {
      "cell_type": "markdown",
      "source": [
        "# 학습 루프 정의"
      ],
      "metadata": {
        "id": "2fYLgV0XQ6Cc"
      }
    },
    {
      "cell_type": "code",
      "source": [
        "for epoch in range(500):\n",
        "    # ⓵학생 모델을 5번, 생성자는 1번 가중치를 학습\n",
        "    for _ in range(5):\n",
        "        # ❶이미지 생성을 위한 노이즈 생성\n",
        "        noise = torch.randn(256, 256, 1, 1, device=device)\n",
        "        S_optim.zero_grad()\n",
        "        # ❷이미지 생성\n",
        "        fake = generator(noise).detach()\n",
        "        # ❸교사의 예측\n",
        "        teacher_output = teacher(fake)\n",
        "        # ❹학생의 예측\n",
        "        student_output = student(fake)\n",
        "        # ❺학생의 오차 계산\n",
        "        S_loss = nn.L1Loss()(student_output, teacher_output.detach())\n",
        "\n",
        "        print(f\"epoch{epoch}: S_loss {S_loss}\")\n",
        "        # ➏ 오차 역전파\n",
        "        S_loss.backward()\n",
        "        S_optim.step()\n",
        "    # ➊ 이미지 생성을 위한 노이즈 정의\n",
        "    noise = torch.randn(256, 256, 1, 1, device=device)\n",
        "    G_optim.zero_grad()\n",
        "    # ➋ 이미지 생성\n",
        "    fake = generator(noise)\n",
        "\n",
        "    # ➌ 교사와 학생 모델의 출력 계산\n",
        "    teacher_output = teacher(fake)\n",
        "    student_output = student(fake)\n",
        "\n",
        "    # ➍ 생성자의 오차 계산\n",
        "    G_loss = -1 * nn.L1Loss()(student_output, teacher_output)\n",
        "\n",
        "    # ➎ 오차 역전파\n",
        "    G_loss.backward()\n",
        "    G_optim.step()\n",
        "\n",
        "    print(f\"epoch{epoch}: G_loss {G_loss}\")"
      ],
      "metadata": {
        "id": "M4JVQ_44QnQy"
      },
      "execution_count": null,
      "outputs": []
    },
    {
      "cell_type": "markdown",
      "source": [
        "# 학생 모델 성능 평가하기"
      ],
      "metadata": {
        "id": "bRAn9HatVAJm"
      }
    },
    {
      "cell_type": "code",
      "source": [
        "num_corr = 0\n",
        "\n",
        "student.load_state_dict(\n",
        "    torch.load(\"./student.pth\", map_location=device))\n",
        "\n",
        "# 학습용 데이터에 대한 정확도\n",
        "with torch.no_grad():\n",
        "    for data, label in train_loader:\n",
        "\n",
        "        output = student(data.to(device))\n",
        "        preds = output.data.max(1)[1]\n",
        "        corr = preds.eq(label.to(device).data).sum().item()\n",
        "        num_corr += corr\n",
        "\n",
        "    print(f\"Accuracy:{num_corr/len(training_data)}\")\n",
        "\n",
        "num_corr = 0\n",
        "\n",
        "# 검증용 데이터에 대한 정확도\n",
        "with torch.no_grad():\n",
        "    for data, label in test_loader:\n",
        "\n",
        "        output = student(data.to(device))\n",
        "        preds = output.data.max(1)[1]\n",
        "        corr = preds.eq(label.to(device).data).sum().item()\n",
        "        num_corr += corr\n",
        "\n",
        "    print(f\"Accuracy:{num_corr/len(test_data)}\")"
      ],
      "metadata": {
        "id": "7LdkdB1jRcco"
      },
      "execution_count": null,
      "outputs": []
    },
    {
      "cell_type": "code",
      "source": [],
      "metadata": {
        "id": "nvNGiiAoVEEm"
      },
      "execution_count": null,
      "outputs": []
    }
  ]
}