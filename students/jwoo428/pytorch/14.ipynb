{
  "nbformat": 4,
  "nbformat_minor": 0,
  "metadata": {
    "colab": {
      "provenance": [],
      "include_colab_link": true
    },
    "kernelspec": {
      "name": "python3",
      "display_name": "Python 3"
    },
    "language_info": {
      "name": "python"
    },
    "accelerator": "GPU",
    "widgets": {
      "application/vnd.jupyter.widget-state+json": {
        "c6ea35089c6a4bacb6bdf107709453f0": {
          "model_module": "@jupyter-widgets/controls",
          "model_name": "HBoxModel",
          "model_module_version": "1.5.0",
          "state": {
            "_dom_classes": [],
            "_model_module": "@jupyter-widgets/controls",
            "_model_module_version": "1.5.0",
            "_model_name": "HBoxModel",
            "_view_count": null,
            "_view_module": "@jupyter-widgets/controls",
            "_view_module_version": "1.5.0",
            "_view_name": "HBoxView",
            "box_style": "",
            "children": [
              "IPY_MODEL_d7f0aa115e1b49d6b401b23c9b3f01d9",
              "IPY_MODEL_6ad2ea59649b4ae98e28e34bcc1115e1",
              "IPY_MODEL_ec28b74f70534786a7f1b1ec6676262f"
            ],
            "layout": "IPY_MODEL_bcb5a5f6db33472cb2419f727d150e20"
          }
        },
        "d7f0aa115e1b49d6b401b23c9b3f01d9": {
          "model_module": "@jupyter-widgets/controls",
          "model_name": "HTMLModel",
          "model_module_version": "1.5.0",
          "state": {
            "_dom_classes": [],
            "_model_module": "@jupyter-widgets/controls",
            "_model_module_version": "1.5.0",
            "_model_name": "HTMLModel",
            "_view_count": null,
            "_view_module": "@jupyter-widgets/controls",
            "_view_module_version": "1.5.0",
            "_view_name": "HTMLView",
            "description": "",
            "description_tooltip": null,
            "layout": "IPY_MODEL_28257b36d3d14ec1baf1d3d035e7d05f",
            "placeholder": "​",
            "style": "IPY_MODEL_a3de63a0c6604063a6a9c160f108e8a6",
            "value": "100%"
          }
        },
        "6ad2ea59649b4ae98e28e34bcc1115e1": {
          "model_module": "@jupyter-widgets/controls",
          "model_name": "FloatProgressModel",
          "model_module_version": "1.5.0",
          "state": {
            "_dom_classes": [],
            "_model_module": "@jupyter-widgets/controls",
            "_model_module_version": "1.5.0",
            "_model_name": "FloatProgressModel",
            "_view_count": null,
            "_view_module": "@jupyter-widgets/controls",
            "_view_module_version": "1.5.0",
            "_view_name": "ProgressView",
            "bar_style": "success",
            "description": "",
            "description_tooltip": null,
            "layout": "IPY_MODEL_3aeced9e4d2e4d2091609ca854e31caa",
            "max": 574673361,
            "min": 0,
            "orientation": "horizontal",
            "style": "IPY_MODEL_23969e7b0db7441b8ebd35e6dc3a1e62",
            "value": 574673361
          }
        },
        "ec28b74f70534786a7f1b1ec6676262f": {
          "model_module": "@jupyter-widgets/controls",
          "model_name": "HTMLModel",
          "model_module_version": "1.5.0",
          "state": {
            "_dom_classes": [],
            "_model_module": "@jupyter-widgets/controls",
            "_model_module_version": "1.5.0",
            "_model_name": "HTMLModel",
            "_view_count": null,
            "_view_module": "@jupyter-widgets/controls",
            "_view_module_version": "1.5.0",
            "_view_name": "HTMLView",
            "description": "",
            "description_tooltip": null,
            "layout": "IPY_MODEL_b142639252164252a3cf4874e94cc9a9",
            "placeholder": "​",
            "style": "IPY_MODEL_ed05807c7469433d901d315cb7edaf1a",
            "value": " 548M/548M [00:06&lt;00:00, 94.1MB/s]"
          }
        },
        "bcb5a5f6db33472cb2419f727d150e20": {
          "model_module": "@jupyter-widgets/base",
          "model_name": "LayoutModel",
          "model_module_version": "1.2.0",
          "state": {
            "_model_module": "@jupyter-widgets/base",
            "_model_module_version": "1.2.0",
            "_model_name": "LayoutModel",
            "_view_count": null,
            "_view_module": "@jupyter-widgets/base",
            "_view_module_version": "1.2.0",
            "_view_name": "LayoutView",
            "align_content": null,
            "align_items": null,
            "align_self": null,
            "border": null,
            "bottom": null,
            "display": null,
            "flex": null,
            "flex_flow": null,
            "grid_area": null,
            "grid_auto_columns": null,
            "grid_auto_flow": null,
            "grid_auto_rows": null,
            "grid_column": null,
            "grid_gap": null,
            "grid_row": null,
            "grid_template_areas": null,
            "grid_template_columns": null,
            "grid_template_rows": null,
            "height": null,
            "justify_content": null,
            "justify_items": null,
            "left": null,
            "margin": null,
            "max_height": null,
            "max_width": null,
            "min_height": null,
            "min_width": null,
            "object_fit": null,
            "object_position": null,
            "order": null,
            "overflow": null,
            "overflow_x": null,
            "overflow_y": null,
            "padding": null,
            "right": null,
            "top": null,
            "visibility": null,
            "width": null
          }
        },
        "28257b36d3d14ec1baf1d3d035e7d05f": {
          "model_module": "@jupyter-widgets/base",
          "model_name": "LayoutModel",
          "model_module_version": "1.2.0",
          "state": {
            "_model_module": "@jupyter-widgets/base",
            "_model_module_version": "1.2.0",
            "_model_name": "LayoutModel",
            "_view_count": null,
            "_view_module": "@jupyter-widgets/base",
            "_view_module_version": "1.2.0",
            "_view_name": "LayoutView",
            "align_content": null,
            "align_items": null,
            "align_self": null,
            "border": null,
            "bottom": null,
            "display": null,
            "flex": null,
            "flex_flow": null,
            "grid_area": null,
            "grid_auto_columns": null,
            "grid_auto_flow": null,
            "grid_auto_rows": null,
            "grid_column": null,
            "grid_gap": null,
            "grid_row": null,
            "grid_template_areas": null,
            "grid_template_columns": null,
            "grid_template_rows": null,
            "height": null,
            "justify_content": null,
            "justify_items": null,
            "left": null,
            "margin": null,
            "max_height": null,
            "max_width": null,
            "min_height": null,
            "min_width": null,
            "object_fit": null,
            "object_position": null,
            "order": null,
            "overflow": null,
            "overflow_x": null,
            "overflow_y": null,
            "padding": null,
            "right": null,
            "top": null,
            "visibility": null,
            "width": null
          }
        },
        "a3de63a0c6604063a6a9c160f108e8a6": {
          "model_module": "@jupyter-widgets/controls",
          "model_name": "DescriptionStyleModel",
          "model_module_version": "1.5.0",
          "state": {
            "_model_module": "@jupyter-widgets/controls",
            "_model_module_version": "1.5.0",
            "_model_name": "DescriptionStyleModel",
            "_view_count": null,
            "_view_module": "@jupyter-widgets/base",
            "_view_module_version": "1.2.0",
            "_view_name": "StyleView",
            "description_width": ""
          }
        },
        "3aeced9e4d2e4d2091609ca854e31caa": {
          "model_module": "@jupyter-widgets/base",
          "model_name": "LayoutModel",
          "model_module_version": "1.2.0",
          "state": {
            "_model_module": "@jupyter-widgets/base",
            "_model_module_version": "1.2.0",
            "_model_name": "LayoutModel",
            "_view_count": null,
            "_view_module": "@jupyter-widgets/base",
            "_view_module_version": "1.2.0",
            "_view_name": "LayoutView",
            "align_content": null,
            "align_items": null,
            "align_self": null,
            "border": null,
            "bottom": null,
            "display": null,
            "flex": null,
            "flex_flow": null,
            "grid_area": null,
            "grid_auto_columns": null,
            "grid_auto_flow": null,
            "grid_auto_rows": null,
            "grid_column": null,
            "grid_gap": null,
            "grid_row": null,
            "grid_template_areas": null,
            "grid_template_columns": null,
            "grid_template_rows": null,
            "height": null,
            "justify_content": null,
            "justify_items": null,
            "left": null,
            "margin": null,
            "max_height": null,
            "max_width": null,
            "min_height": null,
            "min_width": null,
            "object_fit": null,
            "object_position": null,
            "order": null,
            "overflow": null,
            "overflow_x": null,
            "overflow_y": null,
            "padding": null,
            "right": null,
            "top": null,
            "visibility": null,
            "width": null
          }
        },
        "23969e7b0db7441b8ebd35e6dc3a1e62": {
          "model_module": "@jupyter-widgets/controls",
          "model_name": "ProgressStyleModel",
          "model_module_version": "1.5.0",
          "state": {
            "_model_module": "@jupyter-widgets/controls",
            "_model_module_version": "1.5.0",
            "_model_name": "ProgressStyleModel",
            "_view_count": null,
            "_view_module": "@jupyter-widgets/base",
            "_view_module_version": "1.2.0",
            "_view_name": "StyleView",
            "bar_color": null,
            "description_width": ""
          }
        },
        "b142639252164252a3cf4874e94cc9a9": {
          "model_module": "@jupyter-widgets/base",
          "model_name": "LayoutModel",
          "model_module_version": "1.2.0",
          "state": {
            "_model_module": "@jupyter-widgets/base",
            "_model_module_version": "1.2.0",
            "_model_name": "LayoutModel",
            "_view_count": null,
            "_view_module": "@jupyter-widgets/base",
            "_view_module_version": "1.2.0",
            "_view_name": "LayoutView",
            "align_content": null,
            "align_items": null,
            "align_self": null,
            "border": null,
            "bottom": null,
            "display": null,
            "flex": null,
            "flex_flow": null,
            "grid_area": null,
            "grid_auto_columns": null,
            "grid_auto_flow": null,
            "grid_auto_rows": null,
            "grid_column": null,
            "grid_gap": null,
            "grid_row": null,
            "grid_template_areas": null,
            "grid_template_columns": null,
            "grid_template_rows": null,
            "height": null,
            "justify_content": null,
            "justify_items": null,
            "left": null,
            "margin": null,
            "max_height": null,
            "max_width": null,
            "min_height": null,
            "min_width": null,
            "object_fit": null,
            "object_position": null,
            "order": null,
            "overflow": null,
            "overflow_x": null,
            "overflow_y": null,
            "padding": null,
            "right": null,
            "top": null,
            "visibility": null,
            "width": null
          }
        },
        "ed05807c7469433d901d315cb7edaf1a": {
          "model_module": "@jupyter-widgets/controls",
          "model_name": "DescriptionStyleModel",
          "model_module_version": "1.5.0",
          "state": {
            "_model_module": "@jupyter-widgets/controls",
            "_model_module_version": "1.5.0",
            "_model_name": "DescriptionStyleModel",
            "_view_count": null,
            "_view_module": "@jupyter-widgets/base",
            "_view_module_version": "1.2.0",
            "_view_name": "StyleView",
            "description_width": ""
          }
        }
      }
    }
  },
  "cells": [
    {
      "cell_type": "markdown",
      "metadata": {
        "id": "view-in-github",
        "colab_type": "text"
      },
      "source": [
        "<a href=\"https://colab.research.google.com/github/enjoyPG/2023Gifted/blob/main/students/jwoo428/pytorch/14.ipynb\" target=\"_parent\"><img src=\"https://colab.research.google.com/assets/colab-badge.svg\" alt=\"Open In Colab\"/></a>"
      ]
    },
    {
      "cell_type": "code",
      "source": [
        "from google.colab import drive\n",
        "drive.mount('/content/drive')"
      ],
      "metadata": {
        "colab": {
          "base_uri": "https://localhost:8080/"
        },
        "id": "tNRYiHjcU6kS",
        "outputId": "5217b55c-bc30-426b-ea7c-0fbd172c67b7"
      },
      "execution_count": null,
      "outputs": [
        {
          "output_type": "stream",
          "name": "stdout",
          "text": [
            "Mounted at /content/drive\n"
          ]
        }
      ]
    },
    {
      "cell_type": "markdown",
      "source": [
        "# 데이터 불러오기"
      ],
      "metadata": {
        "id": "Nf-lo7PkU70t"
      }
    },
    {
      "cell_type": "code",
      "execution_count": null,
      "metadata": {
        "id": "bQzORSwZUbul"
      },
      "outputs": [],
      "source": [
        "!cp \"/content/drive/MyDrive/Colab Notebooks/data/img_align_celeba.zip\" \".\"\n",
        "!unzip \"./img_align_celeba.zip\" -d \"./GAN/\""
      ]
    },
    {
      "cell_type": "markdown",
      "source": [
        "# 학습에 사용할 데이터셋 정의"
      ],
      "metadata": {
        "id": "jZC_GLQEVku3"
      }
    },
    {
      "cell_type": "code",
      "source": [
        "import glob\n",
        "import torchvision.transforms as tf\n",
        "\n",
        "from torch.utils.data.dataset import Dataset\n",
        "from PIL import Image\n",
        "\n",
        "\n",
        "class CelebA(Dataset):\n",
        "   def __init__(self):\n",
        "       self.imgs = glob.glob(\"./GAN/img_align_celeba/*.jpg\")\n",
        "      \n",
        "       # ❶ 정규화에 이용할 평균과 공분산\n",
        "       mean_std = (0.5, 0.5, 0.5)\n",
        "      \n",
        "       # ❷ 입력용 이미지 생성\n",
        "       self.low_res_tf = tf.Compose([\n",
        "           tf.Resize((32, 32)),\n",
        "           tf.ToTensor(),\n",
        "           tf.Normalize(mean_std, mean_std)\n",
        "       ])\n",
        "\n",
        "       # ❸ 정답용 이미지 생성\n",
        "       self.high_res_tf = tf.Compose([\n",
        "           tf.Resize((64, 64)),\n",
        "           tf.ToTensor(),\n",
        "           tf.Normalize(mean_std, mean_std)\n",
        "       ])\n",
        "   def __len__(self):\n",
        "       return len(self.imgs) # ❶ \n",
        "\n",
        "   def __getitem__(self, i):\n",
        "       img = Image.open(self.imgs[i])\n",
        "      \n",
        "       # ❷ 저화질 이미지는 입력으로\n",
        "       img_low_res = self.low_res_tf(img)\n",
        "       # ❸ 고화질 입력은 정답으로\n",
        "       img_high_res = self.high_res_tf(img)\n",
        "\n",
        "       return [img_low_res, img_high_res]"
      ],
      "metadata": {
        "id": "H5K8LTgzVDo9"
      },
      "execution_count": null,
      "outputs": []
    },
    {
      "cell_type": "markdown",
      "source": [
        "# SRGAN 기본 합성곱 블록"
      ],
      "metadata": {
        "id": "cxddrv5XWFxr"
      }
    },
    {
      "cell_type": "code",
      "source": [
        "import torch.nn as nn\n",
        "\n",
        "\n",
        "class ResidualBlock(nn.Module):\n",
        "   def __init__(self, in_channels, out_channels):\n",
        "       super(ResidualBlock, self).__init__()\n",
        "      \n",
        "       # 생성자의 구성요소 정의\n",
        "       self.layers = nn.Sequential(\n",
        "           nn.Conv2d(in_channels, out_channels, \n",
        "                     kernel_size=3, stride=1, padding=1),\n",
        "           nn.BatchNorm2d(out_channels),\n",
        "           nn.PReLU(),\n",
        "           nn.Conv2d(out_channels, out_channels, \n",
        "                     kernel_size=3, stride=1, padding=1),\n",
        "           nn.BatchNorm2d(out_channels)\n",
        "       )\n",
        "\n",
        "   def forward(self, x):\n",
        "       x_ = x\n",
        "       x = self.layers(x)\n",
        "      \n",
        "       # 합성곱층을 거친 후 원래의 입력 텐서와 더해줌\n",
        "       x = x_ + x\n",
        "\n",
        "       return x"
      ],
      "metadata": {
        "id": "Ra0pBHpVV44c"
      },
      "execution_count": null,
      "outputs": []
    },
    {
      "cell_type": "markdown",
      "source": [
        "# 업샘플링층 정의"
      ],
      "metadata": {
        "id": "hwLfEVnAWLBB"
      }
    },
    {
      "cell_type": "code",
      "source": [
        "# 업샘플링층의 정의\n",
        "class UpSample(nn.Sequential):\n",
        "   def __init__(self, in_channels, out_channels):\n",
        "       super(UpSample, self).__init__(\n",
        "           nn.Conv2d(in_channels, out_channels, \n",
        "                     kernel_size=3, stride=1, padding=1),\n",
        "           nn.PixelShuffle(upscale_factor=2),\n",
        "           nn.PReLU()\n",
        "       )"
      ],
      "metadata": {
        "id": "Xkvrg2_5WHhb"
      },
      "execution_count": null,
      "outputs": []
    },
    {
      "cell_type": "markdown",
      "source": [
        "# 생성자 정의"
      ],
      "metadata": {
        "id": "NhuFjmDxWQZi"
      }
    },
    {
      "cell_type": "code",
      "source": [
        "class Generator(nn.Module):\n",
        "   def __init__(self):\n",
        "       super(Generator, self).__init__()\n",
        "\n",
        "       # ➊ 첫 번째 합성곱층\n",
        "       self.conv1 = nn.Sequential(\n",
        "           nn.Conv2d(3, 64, \n",
        "                     kernel_size=9, stride=1, padding=4),\n",
        "           nn.PReLU()\n",
        "       )\n",
        "      \n",
        "       # ➋ 합성곱 블록\n",
        "       self.res_blocks = nn.Sequential(\n",
        "           ResidualBlock(in_channels=64, out_channels=64),\n",
        "           ResidualBlock(in_channels=64, out_channels=64),\n",
        "           ResidualBlock(in_channels=64, out_channels=64),\n",
        "       )\n",
        "      \n",
        "       self.conv2 = nn.Conv2d(64, 64, \n",
        "                           kernel_size=3, stride=1, padding=1)\n",
        "       self.bn2 = nn.BatchNorm2d(64)\n",
        "      \n",
        "       # ➌ 업샘플링층\n",
        "       self.upsample_blocks = nn.Sequential(\n",
        "           UpSample(in_channels=64, out_channels=256)\n",
        "       )\n",
        "\n",
        "       # ➍ 마지막 합성곱층\n",
        "       self.conv3 = nn.Conv2d(64, 3, \n",
        "                           kernel_size=9, stride=1, padding=4)\n",
        "   def forward(self, x):\n",
        "       # ➊ 첫 번째 합성곱층\n",
        "       x = self.conv1(x)\n",
        "       # ➋ 합성곱 블록을 거친 결과와 더하기 위해\n",
        "       # 값을 저장\n",
        "       x_ = x\n",
        "\n",
        "       # ➌ 합성곱 블록\n",
        "       x = self.res_blocks(x)\n",
        "       x = self.conv2(x)\n",
        "       x = self.bn2(x)\n",
        "       # ➍ 합성곱 블록과 첫 번째 합성곱층의 결과를 더함\n",
        "       x = x + x_\n",
        "\n",
        "       # ➎ 업샘플링 블록\n",
        "       x = self.upsample_blocks(x)\n",
        "       # ➏ 마지막 합성곱층\n",
        "       x = self.conv3(x)\n",
        "\n",
        "       return x"
      ],
      "metadata": {
        "id": "msWru-E_WNvP"
      },
      "execution_count": null,
      "outputs": []
    },
    {
      "cell_type": "markdown",
      "source": [
        "# 감별자 기본 블록 정의"
      ],
      "metadata": {
        "id": "itnHevrgWWYh"
      }
    },
    {
      "cell_type": "code",
      "source": [
        "# 한 번 거칠 때마다 이미지 크기가 절반이 되는 합성곱층\n",
        "class DiscBlock(nn.Module):\n",
        "   def __init__(self, in_channels, out_channels):\n",
        "       super(DiscBlock, self).__init__()\n",
        "      \n",
        "       self.layers = nn.Sequential(\n",
        "           nn.Conv2d(in_channels, out_channels, \n",
        "                     kernel_size=3, stride=2, padding=1),\n",
        "           nn.BatchNorm2d(out_channels),\n",
        "           nn.LeakyReLU()\n",
        "       )\n",
        "\n",
        "   def forward(self, x):\n",
        "       return self.layers(x)"
      ],
      "metadata": {
        "id": "-E2sSCB9WThI"
      },
      "execution_count": null,
      "outputs": []
    },
    {
      "cell_type": "markdown",
      "source": [
        "# 감별자 정의"
      ],
      "metadata": {
        "id": "fx66NZzNWh7P"
      }
    },
    {
      "cell_type": "code",
      "source": [
        "class Discriminator(nn.Module):\n",
        "   def __init__(self):\n",
        "       super(Discriminator, self).__init__()\n",
        "      \n",
        "       self.conv1 = nn.Sequential(\n",
        "           nn.Conv2d(3, 64, \n",
        "                     kernel_size=3, stride=1, padding=1),\n",
        "           nn.LeakyReLU()\n",
        "       )\n",
        "\n",
        "       self.blocks = DiscBlock(in_channels=64, out_channels=64)\n",
        "\n",
        "       self.fc1 = nn.Linear(65536, 1024)\n",
        "       self.activation = nn.LeakyReLU()\n",
        "       self.fc2 = nn.Linear(1024, 1)\n",
        "       self.sigmoid = nn.Sigmoid()\n",
        "\n",
        "   def forward(self, x):\n",
        "       # ➊ 컨볼루션 층\n",
        "       x = self.conv1(x)\n",
        "       x = self.blocks(x)\n",
        "      \n",
        "       # ➋ 1차원으로 펼쳐줌\n",
        "       x = torch.flatten(x, start_dim=1)\n",
        "      \n",
        "       # ➌ 이진분류 단계\n",
        "       x = self.fc1(x)\n",
        "       x = self.activation(x)\n",
        "       x = self.fc2(x)\n",
        "       x = self.sigmoid(x)\n",
        "\n",
        "       return x"
      ],
      "metadata": {
        "id": "D4Dr0c7QWYh5"
      },
      "execution_count": null,
      "outputs": []
    },
    {
      "cell_type": "markdown",
      "source": [
        "# 특징 추출기 정의"
      ],
      "metadata": {
        "id": "LhwxiqCjWnIP"
      }
    },
    {
      "cell_type": "code",
      "source": [
        "import torch\n",
        "from torchvision.models.vgg import vgg19\n",
        "\n",
        "\n",
        "# VGG19 특징 추출기\n",
        "class FeatureExtractor(nn.Module):\n",
        "   def __init__(self):\n",
        "       super(FeatureExtractor, self).__init__()\n",
        "       # ➊ 사전 학습된 vgg19 모델 정의\n",
        "       vgg19_model = vgg19(pretrained=True)\n",
        "\n",
        "       # ➋ VGG19의 9개 층만을 이용\n",
        "       self.feature_extractor = nn.Sequential(\n",
        "           *list(vgg19_model.features.children())[:9])\n",
        "\n",
        "   def forward(self, img):\n",
        "       return self.feature_extractor(img)"
      ],
      "metadata": {
        "id": "8zAay4aNWj5G"
      },
      "execution_count": null,
      "outputs": []
    },
    {
      "cell_type": "markdown",
      "source": [
        "# 학습에 필요한 요소 정의"
      ],
      "metadata": {
        "id": "x_lOYiRDWr-6"
      }
    },
    {
      "cell_type": "code",
      "source": [
        "import tqdm\n",
        "\n",
        "from torch.utils.data.dataloader import DataLoader\n",
        "from torch.optim.adam import Adam\n",
        "\n",
        "device = \"cuda\" if torch.cuda.is_available() else \"cpu\"\n",
        "\n",
        "# ➊ 데이터로더 정의\n",
        "dataset = CelebA()\n",
        "batch_size = 8\n",
        "loader = DataLoader(dataset, batch_size=batch_size, shuffle=True)\n",
        "\n",
        "# ➋ 생성자와 감별자 정의\n",
        "G = Generator().to(device)\n",
        "D = Discriminator().to(device)\n",
        "feature_extractor = FeatureExtractor().to(device)\n",
        "feature_extractor.eval()\n",
        "\n",
        "\n",
        "# ➌ 생성자와 감별자의 최적화 정의\n",
        "G_optim = Adam(G.parameters(), lr=0.0001, betas=(0.5, 0.999))\n",
        "D_optim = Adam(D.parameters(), lr=0.0001, betas=(0.5, 0.999))"
      ],
      "metadata": {
        "colab": {
          "base_uri": "https://localhost:8080/",
          "height": 67,
          "referenced_widgets": [
            "c6ea35089c6a4bacb6bdf107709453f0",
            "d7f0aa115e1b49d6b401b23c9b3f01d9",
            "6ad2ea59649b4ae98e28e34bcc1115e1",
            "ec28b74f70534786a7f1b1ec6676262f",
            "bcb5a5f6db33472cb2419f727d150e20",
            "28257b36d3d14ec1baf1d3d035e7d05f",
            "a3de63a0c6604063a6a9c160f108e8a6",
            "3aeced9e4d2e4d2091609ca854e31caa",
            "23969e7b0db7441b8ebd35e6dc3a1e62",
            "b142639252164252a3cf4874e94cc9a9",
            "ed05807c7469433d901d315cb7edaf1a"
          ]
        },
        "id": "6kbKkeU2Woih",
        "outputId": "bbb465d9-5051-480b-8669-bfe4c0ab6d55"
      },
      "execution_count": null,
      "outputs": [
        {
          "output_type": "stream",
          "name": "stderr",
          "text": [
            "Downloading: \"https://download.pytorch.org/models/vgg19-dcbb9e9d.pth\" to /root/.cache/torch/hub/checkpoints/vgg19-dcbb9e9d.pth\n"
          ]
        },
        {
          "output_type": "display_data",
          "data": {
            "text/plain": [
              "  0%|          | 0.00/548M [00:00<?, ?B/s]"
            ],
            "application/vnd.jupyter.widget-view+json": {
              "version_major": 2,
              "version_minor": 0,
              "model_id": "c6ea35089c6a4bacb6bdf107709453f0"
            }
          },
          "metadata": {}
        }
      ]
    },
    {
      "cell_type": "markdown",
      "source": [
        "# 학습 루프 정의"
      ],
      "metadata": {
        "id": "qFd27d-YWyDX"
      }
    },
    {
      "cell_type": "code",
      "source": [
        "for epoch in range(1):\n",
        "   iterator = tqdm.tqdm(loader)\n",
        "\n",
        "   for i, (low_res, high_res) in enumerate(iterator):\n",
        "       # ❶기울기의 초기화\n",
        "       G_optim.zero_grad()\n",
        "       D_optim.zero_grad()\n",
        "\n",
        "       # ➋ 진짜 이미지와 가짜 이미지의 정답\n",
        "       label_true = torch.ones(batch_size, dtype=torch.float32).to(device)\n",
        "       label_false = torch.zeros(batch_size, dtype=torch.float32).to(device)\n",
        "\n",
        "       # ➌ 생성자 학습\n",
        "       fake_hr = G(low_res.to(device))\n",
        "       GAN_loss = nn.MSELoss()(D(fake_hr), label_true)\n",
        "       # CNN 특징추출기로부터 추출된 특징의 비교\n",
        "       # ➊ 가짜 이미지의 특징 추출\n",
        "       fake_features = feature_extractor(fake_hr)\n",
        "       # ➋ 진짜 이미지의 특징 추출\n",
        "       real_features = feature_extractor(high_res.to(device))\n",
        "       # ➌ 둘의 차이 비교\n",
        "       content_loss = nn.L1Loss()(fake_features, real_features)\n",
        "       # 생성자의 손실 정의\n",
        "       loss_G = content_loss + 0.001*GAN_loss\n",
        "       loss_G.backward()\n",
        "       G_optim.step()\n",
        "       # 감별자 학습\n",
        "       # ➊ 진짜 이미지의 손실\n",
        "       real_loss = nn.MSELoss()(D(high_res.to(device)), label_true)\n",
        "       # ➋ 가짜 이미지의 손실\n",
        "       fake_loss = nn.MSELoss()(D(fake_hr.detach()), label_false)\n",
        "       # ➌ 두 손실의 평균값을 최종 오차로 설정\n",
        "       loss_D = (real_loss + fake_loss) / 2\n",
        "       # ➍ 오차 역전파\n",
        "       loss_D.backward()\n",
        "       D_optim.step()\n",
        "\n",
        "       iterator.set_description(\n",
        "           f\"epoch:{epoch} G_loss:{GAN_loss} D_loss:{loss_D}\")\n",
        "\n",
        "torch.save(G.state_dict(), \"SRGAN_G.pth\")\n",
        "torch.save(D.state_dict(), \"SRGAN_D.pth\")"
      ],
      "metadata": {
        "colab": {
          "base_uri": "https://localhost:8080/"
        },
        "id": "mgbOjpHaWtY_",
        "outputId": "b62f7ffd-d1bf-4a1b-8c46-7abd456f1965"
      },
      "execution_count": null,
      "outputs": [
        {
          "output_type": "stream",
          "name": "stderr",
          "text": [
            "\r  0%|          | 0/25325 [00:00<?, ?it/s]/usr/local/lib/python3.7/dist-packages/torch/nn/modules/loss.py:529: UserWarning: Using a target size (torch.Size([8])) that is different to the input size (torch.Size([8, 1])). This will likely lead to incorrect results due to broadcasting. Please ensure they have the same size.\n",
            "  return F.mse_loss(input, target, reduction=self.reduction)\n",
            "epoch:0 G_loss:1.0 D_loss:0.0: 100%|█████████▉| 25323/25325 [41:27<00:00, 10.36it/s]/usr/local/lib/python3.7/dist-packages/torch/nn/modules/loss.py:529: UserWarning: Using a target size (torch.Size([8])) that is different to the input size (torch.Size([7, 1])). This will likely lead to incorrect results due to broadcasting. Please ensure they have the same size.\n",
            "  return F.mse_loss(input, target, reduction=self.reduction)\n",
            "epoch:0 G_loss:1.0 D_loss:0.0: 100%|██████████| 25325/25325 [41:28<00:00, 10.18it/s]\n"
          ]
        }
      ]
    },
    {
      "cell_type": "markdown",
      "source": [
        "# 모델 성능 평가하기"
      ],
      "metadata": {
        "id": "UD_hdq-NXrLd"
      }
    },
    {
      "cell_type": "code",
      "source": [
        "import matplotlib.pyplot as plt\n",
        "\n",
        "G.load_state_dict(torch.load(\"SRGAN_G.pth\", map_location=device))\n",
        "\n",
        "with torch.no_grad():\n",
        "   low_res, high_res = dataset[10]\n",
        "  \n",
        "   # ➊ 생성자의 입력\n",
        "   input_tensor = torch.unsqueeze(low_res, dim=0).to(device)\n",
        "  \n",
        "   # ➋ 생성자가 생성한 고화질 이미지\n",
        "   pred = G(input_tensor)\n",
        "   pred = pred.squeeze()\n",
        "   pred = pred.permute(1, 2, 0).cpu().numpy()\n",
        "  \n",
        "   # ➌ 저화질 이미지의 채널 차원을 가장 마지막으로\n",
        "   low_res = low_res.permute(1, 2, 0).numpy()\n",
        "  \n",
        "   # ➍ 저화질 입력과 생성자가 만든 고화질 이미지의 비교\n",
        "   plt.subplot(1, 2, 1)\n",
        "   plt.title(\"low resolution image\")\n",
        "   plt.imshow(low_res)\n",
        "   plt.subplot(1, 2, 2)\n",
        "   plt.imshow(pred)\n",
        "   plt.title(\"predicted high resolution image\")\n",
        "   plt.show()"
      ],
      "metadata": {
        "colab": {
          "base_uri": "https://localhost:8080/",
          "height": 252
        },
        "id": "5iS2AFa5W36u",
        "outputId": "ff019264-0648-4d2a-f6c1-edf2837ba49e"
      },
      "execution_count": null,
      "outputs": [
        {
          "output_type": "stream",
          "name": "stderr",
          "text": [
            "Clipping input data to the valid range for imshow with RGB data ([0..1] for floats or [0..255] for integers).\n",
            "Clipping input data to the valid range for imshow with RGB data ([0..1] for floats or [0..255] for integers).\n"
          ]
        },
        {
          "output_type": "display_data",
          "data": {
            "text/plain": [
              "<Figure size 432x288 with 2 Axes>"
            ],
            "image/png": "[encoded data removed]"
          },
          "metadata": {
            "needs_background": "light"
          }
        }
      ]
    },
    {
      "cell_type": "code",
      "source": [],
      "metadata": {
        "id": "FbE7ZOXgX-hY"
      },
      "execution_count": null,
      "outputs": []
    }
  ]
}