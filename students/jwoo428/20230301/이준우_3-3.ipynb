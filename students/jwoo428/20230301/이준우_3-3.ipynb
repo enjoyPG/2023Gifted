{
  "cells": [
    {
      "cell_type": "markdown",
      "metadata": {
        "id": "XjTc5n2flYUu"
      },
      "source": [
        "# 특성 공학과 규제"
      ]
    },
    {
      "cell_type": "markdown",
      "metadata": {
        "id": "B8YOr2hElYUv"
      },
      "source": [
        "<table align=\"left\">\n",
        "  <td>\n",
        "    <a target=\"_blank\" href=\"https://colab.research.google.com/github/rickiepark/hg-mldl/blob/master/3-3.ipynb\"><img src=\"https://www.tensorflow.org/images/colab_logo_32px.png\" />구글 코랩에서 실행하기</a>\n",
        "  </td>\n",
        "</table>"
      ]
    },
    {
      "cell_type": "markdown",
      "source": [
        "##키워드\n",
        "\n",
        "###다중회귀\n",
        "* 여러개의 특성을 사용하는 회귀 모델\n",
        "* 특성이 많을 수록 강한 성능\n",
        "\n",
        "###특성 공학\n",
        "* 주어진 특성을 조합하여 새로운 특성 만듬\n",
        "\n",
        "###릿지\n",
        "* 규제가 있는 선형회귀 모델중 하나\n",
        "* 선형 모델의 계수를 작게 만들어서 과대적합을 완화시킴\n",
        "\n",
        "###라쏘\n",
        "* 또 다른 규제가 있는 회귀모델\n",
        "* 릿지와 다르게 계수값을 0으로 만들 수 있음\n",
        "\n",
        "###하이퍼파라미터\n",
        "* 머신러닝 알고리즘을 학습하지 않는 파라미터\n",
        "* 사전에 지정해야함\n",
        "* 릿지와 라쏘의 규제강도 alpha파라미터"
      ],
      "metadata": {
        "id": "4XGBHh6REuMY"
      }
    },
    {
      "cell_type": "markdown",
      "metadata": {
        "id": "fZwhQU2l8tI6"
      },
      "source": [
        "## 데이터 준비"
      ]
    },
    {
      "cell_type": "markdown",
      "source": [
        "###여러개의 특성을 활용한 선형회귀를 다중 회귀라고 함"
      ],
      "metadata": {
        "id": "mukl_rjSBUAC"
      }
    },
    {
      "cell_type": "markdown",
      "source": [
        "###특성공학 = 기존의 특성을 사용하여 새로운 특성을 뽑아내는 작업(feature engineering)"
      ],
      "metadata": {
        "id": "IqUCSH4tBh1R"
      }
    },
    {
      "cell_type": "markdown",
      "source": [
        "##pandas = 유명한 데이터 분석 라이브러리\n",
        "\n",
        "* 데이터프레임(dataframe)은 판다스의 핵심 데이터 구조"
      ],
      "metadata": {
        "id": "wkcw4aX_Bqb5"
      }
    },
    {
      "cell_type": "code",
      "execution_count": 1,
      "metadata": {
        "id": "3kjaTfOqEVwY"
      },
      "outputs": [],
      "source": [
        "import pandas as pd"
      ]
    },
    {
      "cell_type": "code",
      "execution_count": 2,
      "metadata": {
        "colab": {
          "base_uri": "https://localhost:8080/"
        },
        "id": "8qmTS1RzKRKT",
        "outputId": "d45f021f-94e3-430b-e25b-f93508779fce"
      },
      "outputs": [
        {
          "output_type": "stream",
          "name": "stdout",
          "text": [
            "[[ 8.4   2.11  1.41]\n",
            " [13.7   3.53  2.  ]\n",
            " [15.    3.82  2.43]\n",
            " [16.2   4.59  2.63]\n",
            " [17.4   4.59  2.94]\n",
            " [18.    5.22  3.32]\n",
            " [18.7   5.2   3.12]\n",
            " [19.    5.64  3.05]\n",
            " [19.6   5.14  3.04]\n",
            " [20.    5.08  2.77]\n",
            " [21.    5.69  3.56]\n",
            " [21.    5.92  3.31]\n",
            " [21.    5.69  3.67]\n",
            " [21.3   6.38  3.53]\n",
            " [22.    6.11  3.41]\n",
            " [22.    5.64  3.52]\n",
            " [22.    6.11  3.52]\n",
            " [22.    5.88  3.52]\n",
            " [22.    5.52  4.  ]\n",
            " [22.5   5.86  3.62]\n",
            " [22.5   6.79  3.62]\n",
            " [22.7   5.95  3.63]\n",
            " [23.    5.22  3.63]\n",
            " [23.5   6.28  3.72]\n",
            " [24.    7.29  3.72]\n",
            " [24.    6.38  3.82]\n",
            " [24.6   6.73  4.17]\n",
            " [25.    6.44  3.68]\n",
            " [25.6   6.56  4.24]\n",
            " [26.5   7.17  4.14]\n",
            " [27.3   8.32  5.14]\n",
            " [27.5   7.17  4.34]\n",
            " [27.5   7.05  4.34]\n",
            " [27.5   7.28  4.57]\n",
            " [28.    7.82  4.2 ]\n",
            " [28.7   7.59  4.64]\n",
            " [30.    7.62  4.77]\n",
            " [32.8  10.03  6.02]\n",
            " [34.5  10.26  6.39]\n",
            " [35.   11.49  7.8 ]\n",
            " [36.5  10.88  6.86]\n",
            " [36.   10.61  6.74]\n",
            " [37.   10.84  6.26]\n",
            " [37.   10.57  6.37]\n",
            " [39.   11.14  7.49]\n",
            " [39.   11.14  6.  ]\n",
            " [39.   12.43  7.35]\n",
            " [40.   11.93  7.11]\n",
            " [40.   11.73  7.22]\n",
            " [40.   12.38  7.46]\n",
            " [40.   11.14  6.63]\n",
            " [42.   12.8   6.87]\n",
            " [43.   11.93  7.28]\n",
            " [43.   12.51  7.42]\n",
            " [43.5  12.6   8.14]\n",
            " [44.   12.49  7.6 ]]\n"
          ]
        }
      ],
      "source": [
        "df = pd.read_csv('https://bit.ly/perch_csv_data')\n",
        "perch_full = df.to_numpy()\n",
        "print(perch_full)"
      ]
    },
    {
      "cell_type": "code",
      "execution_count": 3,
      "metadata": {
        "id": "PsRC7rvE9SbL"
      },
      "outputs": [],
      "source": [
        "import numpy as np\n",
        "\n",
        "perch_weight = np.array(\n",
        "    [5.9, 32.0, 40.0, 51.5, 70.0, 100.0, 78.0, 80.0, 85.0, 85.0, \n",
        "     110.0, 115.0, 125.0, 130.0, 120.0, 120.0, 130.0, 135.0, 110.0, \n",
        "     130.0, 150.0, 145.0, 150.0, 170.0, 225.0, 145.0, 188.0, 180.0, \n",
        "     197.0, 218.0, 300.0, 260.0, 265.0, 250.0, 250.0, 300.0, 320.0, \n",
        "     514.0, 556.0, 840.0, 685.0, 700.0, 700.0, 690.0, 900.0, 650.0, \n",
        "     820.0, 850.0, 900.0, 1015.0, 820.0, 1100.0, 1000.0, 1100.0, \n",
        "     1000.0, 1000.0]\n",
        "     )"
      ]
    },
    {
      "cell_type": "code",
      "execution_count": 4,
      "metadata": {
        "id": "cRKkoWoZ9J0m"
      },
      "outputs": [],
      "source": [
        "from sklearn.model_selection import train_test_split\n",
        "\n",
        "train_input, test_input, train_target, test_target = train_test_split(perch_full, perch_weight, random_state=42)"
      ]
    },
    {
      "cell_type": "markdown",
      "metadata": {
        "id": "y5uMFE_8V1tx"
      },
      "source": [
        "## 사이킷런의 변환기"
      ]
    },
    {
      "cell_type": "markdown",
      "source": [
        "## = PolynomiaFeatures"
      ],
      "metadata": {
        "id": "M7qk5RqdB4QC"
      }
    },
    {
      "cell_type": "code",
      "execution_count": 5,
      "metadata": {
        "id": "EclugdXmSs-L"
      },
      "outputs": [],
      "source": [
        "from sklearn.preprocessing import PolynomialFeatures"
      ]
    },
    {
      "cell_type": "markdown",
      "source": [
        "###두개의 특성([2,3])을 가진 샘플이 6개의 특성([1,2,3,4,6,9])를 가진 샘플로 변형"
      ],
      "metadata": {
        "id": "13OmyaTaCE9i"
      }
    },
    {
      "cell_type": "code",
      "execution_count": 6,
      "metadata": {
        "colab": {
          "base_uri": "https://localhost:8080/"
        },
        "id": "V5is7cZhKbPU",
        "outputId": "30402b0d-5db8-4524-84e1-b1af46ec7e03"
      },
      "outputs": [
        {
          "output_type": "stream",
          "name": "stdout",
          "text": [
            "[[1. 2. 3. 4. 6. 9.]]\n"
          ]
        }
      ],
      "source": [
        "poly = PolynomialFeatures()\n",
        "poly.fit([[2, 3]])\n",
        "print(poly.transform([[2, 3]]))"
      ]
    },
    {
      "cell_type": "code",
      "execution_count": 8,
      "metadata": {
        "colab": {
          "base_uri": "https://localhost:8080/"
        },
        "id": "bKXkK0oJc4nG",
        "outputId": "d187d1ba-004b-4d4c-896f-286ecb5303bf"
      },
      "outputs": [
        {
          "output_type": "stream",
          "name": "stdout",
          "text": [
            "[[2. 3. 4. 6. 9.]]\n"
          ]
        }
      ],
      "source": [
        "poly = PolynomialFeatures(include_bias=False)\n",
        "poly.fit([[2, 3]])\n",
        "print(poly.transform([[2, 3]]))"
      ]
    },
    {
      "cell_type": "code",
      "execution_count": 9,
      "metadata": {
        "id": "__kE6eJdNZfm"
      },
      "outputs": [],
      "source": [
        "poly = PolynomialFeatures(include_bias=False)\n",
        "\n",
        "poly.fit(train_input)\n",
        "train_poly = poly.transform(train_input)"
      ]
    },
    {
      "cell_type": "code",
      "execution_count": 10,
      "metadata": {
        "colab": {
          "base_uri": "https://localhost:8080/"
        },
        "id": "2a_lmkKle4kF",
        "outputId": "6f625cb4-d0ee-4e79-bdaa-cd1aed21b5dd"
      },
      "outputs": [
        {
          "output_type": "stream",
          "name": "stdout",
          "text": [
            "(42, 9)\n"
          ]
        }
      ],
      "source": [
        "print(train_poly.shape)"
      ]
    },
    {
      "cell_type": "code",
      "execution_count": 11,
      "metadata": {
        "colab": {
          "base_uri": "https://localhost:8080/"
        },
        "id": "X6GUwfXTfKbl",
        "outputId": "9d78d98b-dbc6-4d8d-c2e3-d254e296f694"
      },
      "outputs": [
        {
          "output_type": "execute_result",
          "data": {
            "text/plain": [
              "array(['x0', 'x1', 'x2', 'x0^2', 'x0 x1', 'x0 x2', 'x1^2', 'x1 x2',\n",
              "       'x2^2'], dtype=object)"
            ]
          },
          "metadata": {},
          "execution_count": 11
        }
      ],
      "source": [
        "poly.get_feature_names_out()"
      ]
    },
    {
      "cell_type": "code",
      "execution_count": 12,
      "metadata": {
        "id": "DJMPxe2mgbOo"
      },
      "outputs": [],
      "source": [
        "test_poly = poly.transform(test_input)"
      ]
    },
    {
      "cell_type": "markdown",
      "metadata": {
        "id": "PdDAslHzNk3H"
      },
      "source": [
        "## 다중 회귀 모델 훈련하기"
      ]
    },
    {
      "cell_type": "markdown",
      "source": [
        "###LinearRegression()클래스를 임포트 하고 train_poly()를 이용하여 훈련"
      ],
      "metadata": {
        "id": "7LGDPZBzCeSS"
      }
    },
    {
      "cell_type": "code",
      "execution_count": 13,
      "metadata": {
        "colab": {
          "base_uri": "https://localhost:8080/"
        },
        "id": "E9ygy-8WOvIP",
        "outputId": "51401260-c8fd-4836-df73-11463c815792"
      },
      "outputs": [
        {
          "output_type": "stream",
          "name": "stdout",
          "text": [
            "0.9903183436982124\n"
          ]
        }
      ],
      "source": [
        "from sklearn.linear_model import LinearRegression\n",
        "\n",
        "lr = LinearRegression()\n",
        "lr.fit(train_poly, train_target)\n",
        "print(lr.score(train_poly, train_target))"
      ]
    },
    {
      "cell_type": "code",
      "execution_count": 14,
      "metadata": {
        "colab": {
          "base_uri": "https://localhost:8080/"
        },
        "id": "GKKyfFcAd7zm",
        "outputId": "fb986e82-76d5-4cd9-a5d4-9bdf34745827"
      },
      "outputs": [
        {
          "output_type": "stream",
          "name": "stdout",
          "text": [
            "0.9714559911594133\n"
          ]
        }
      ],
      "source": [
        "print(lr.score(test_poly, test_target))"
      ]
    },
    {
      "cell_type": "markdown",
      "source": [
        "##degree 매개변수를 사용하여 필요한 고차항의 최대 차수를 지정할 수 있음"
      ],
      "metadata": {
        "id": "kHvekjdACtxA"
      }
    },
    {
      "cell_type": "code",
      "execution_count": 18,
      "metadata": {
        "id": "2fDt5mrReMwU"
      },
      "outputs": [],
      "source": [
        "poly = PolynomialFeatures(degree=5, include_bias=False)\n",
        "\n",
        "poly.fit(train_input)\n",
        "train_poly = poly.transform(train_input)\n",
        "test_poly = poly.transform(test_input)"
      ]
    },
    {
      "cell_type": "code",
      "execution_count": 19,
      "metadata": {
        "colab": {
          "base_uri": "https://localhost:8080/"
        },
        "id": "hcM8R4VHSzR8",
        "outputId": "f269b9be-5f21-4867-c56d-121230c95023"
      },
      "outputs": [
        {
          "output_type": "stream",
          "name": "stdout",
          "text": [
            "(42, 55)\n"
          ]
        }
      ],
      "source": [
        "print(train_poly.shape)"
      ]
    },
    {
      "cell_type": "code",
      "execution_count": 20,
      "metadata": {
        "colab": {
          "base_uri": "https://localhost:8080/"
        },
        "id": "UffVFVTGP8xj",
        "outputId": "cb3ba8a8-7815-41c3-b9f6-2e1b905e4b52"
      },
      "outputs": [
        {
          "output_type": "stream",
          "name": "stdout",
          "text": [
            "0.9999999999991096\n"
          ]
        }
      ],
      "source": [
        "lr.fit(train_poly, train_target)\n",
        "print(lr.score(train_poly, train_target))"
      ]
    },
    {
      "cell_type": "markdown",
      "source": [
        "##특성의 개수를 늘리면 선형모델 자체는 강해 지지만 훈련세트에 지나치게 과대적합되어서 테슽트 세트에서는 형편없어진다"
      ],
      "metadata": {
        "id": "5QAm7Ij1C4lj"
      }
    },
    {
      "cell_type": "code",
      "execution_count": 21,
      "metadata": {
        "colab": {
          "base_uri": "https://localhost:8080/"
        },
        "id": "GtITdlYFg7AY",
        "outputId": "47074f54-911f-4809-a06a-0b5f7619fef4"
      },
      "outputs": [
        {
          "output_type": "stream",
          "name": "stdout",
          "text": [
            "-144.40579242684694\n"
          ]
        }
      ],
      "source": [
        "print(lr.score(test_poly, test_target))"
      ]
    },
    {
      "cell_type": "markdown",
      "metadata": {
        "id": "K2YMPSelQBpO"
      },
      "source": [
        "## 규제\n",
        "\n",
        "* 규제는 머신러닝 모델이 훈련세트를 너무 과도하게 학습하지 못하도록 방해하는 것을 의미함"
      ]
    },
    {
      "cell_type": "markdown",
      "source": [
        "* 사이킷런의 StandardScaler = 변환기의 일종"
      ],
      "metadata": {
        "id": "LcJWwmJnDMCJ"
      }
    },
    {
      "cell_type": "markdown",
      "source": [
        "##훈련세트로 학습한 변환기를 사용해 테스트 세트까지 변환해야함"
      ],
      "metadata": {
        "id": "ytSYxu5tDXMh"
      }
    },
    {
      "cell_type": "code",
      "execution_count": 23,
      "metadata": {
        "id": "hCC7wKy3QQrE"
      },
      "outputs": [],
      "source": [
        "from sklearn.preprocessing import StandardScaler\n",
        "\n",
        "ss = StandardScaler()\n",
        "ss.fit(train_poly)\n",
        "\n",
        "train_scaled = ss.transform(train_poly)\n",
        "test_scaled = ss.transform(test_poly)"
      ]
    },
    {
      "cell_type": "markdown",
      "metadata": {
        "id": "qyLI7JQsJ7RQ"
      },
      "source": [
        "## 릿지\n",
        "\n",
        "* 계수를 제곱한 값을 기준으로 규제를 적용함"
      ]
    },
    {
      "cell_type": "code",
      "execution_count": 24,
      "metadata": {
        "colab": {
          "base_uri": "https://localhost:8080/"
        },
        "id": "LdNuDNQGQipv",
        "outputId": "e7e16eed-4f8e-4844-a0f4-cb63ea959c79"
      },
      "outputs": [
        {
          "output_type": "stream",
          "name": "stdout",
          "text": [
            "0.9896101671037343\n"
          ]
        }
      ],
      "source": [
        "from sklearn.linear_model import Ridge\n",
        "\n",
        "ridge = Ridge()\n",
        "ridge.fit(train_scaled, train_target)\n",
        "print(ridge.score(train_scaled, train_target))"
      ]
    },
    {
      "cell_type": "code",
      "execution_count": 25,
      "metadata": {
        "colab": {
          "base_uri": "https://localhost:8080/"
        },
        "id": "p5mXLecwhdnF",
        "outputId": "fbf9e3ca-f848-45b4-ca8b-f4b2b54653bb"
      },
      "outputs": [
        {
          "output_type": "stream",
          "name": "stdout",
          "text": [
            "0.9790693977615391\n"
          ]
        }
      ],
      "source": [
        "print(ridge.score(test_scaled, test_target))"
      ]
    },
    {
      "cell_type": "code",
      "execution_count": 26,
      "metadata": {
        "id": "wXd3_Kq6hlbM"
      },
      "outputs": [],
      "source": [
        "import matplotlib.pyplot as plt\n",
        "\n",
        "train_score = []\n",
        "test_score = []"
      ]
    },
    {
      "cell_type": "markdown",
      "source": [
        "###적절한 alpha값을 찾는 방법\n",
        "\n",
        "* alpha값에 대한 R**2값의 그래프를 그려보기"
      ],
      "metadata": {
        "id": "WRpXg3MtDwRJ"
      }
    },
    {
      "cell_type": "code",
      "execution_count": 30,
      "metadata": {
        "id": "9MvIvQOrhfqC"
      },
      "outputs": [],
      "source": [
        "alpha_list = [0.001, 0.01, 0.1, 1, 10, 100]\n",
        "for alpha in alpha_list:\n",
        "    # 릿지 모델을 만듭니다\n",
        "    ridge = Ridge(alpha=alpha)\n",
        "    # 릿지 모델을 훈련합니다\n",
        "    ridge.fit(train_scaled, train_target)\n",
        "    # 훈련 점수와 테스트 점수를 저장합니다\n",
        "    train_score.append(ridge.score(train_scaled, train_target))\n",
        "    test_score.append(ridge.score(test_scaled, test_target))"
      ]
    },
    {
      "cell_type": "code",
      "execution_count": 28,
      "metadata": {
        "colab": {
          "base_uri": "https://localhost:8080/",
          "height": 279
        },
        "id": "95DjrJxlhiow",
        "outputId": "923cc91c-a24d-4685-e447-396397027ef8"
      },
      "outputs": [
        {
          "output_type": "display_data",
          "data": {
            "text/plain": [
              "<Figure size 432x288 with 1 Axes>"
            ],
            "image/png": "[encoded data removed]"
          },
          "metadata": {
            "needs_background": "light"
          }
        }
      ],
      "source": [
        "plt.plot(np.log10(alpha_list), train_score)\n",
        "plt.plot(np.log10(alpha_list), test_score)\n",
        "plt.xlabel('alpha')\n",
        "plt.ylabel('R^2')\n",
        "plt.show()"
      ]
    },
    {
      "cell_type": "code",
      "execution_count": 29,
      "metadata": {
        "colab": {
          "base_uri": "https://localhost:8080/"
        },
        "id": "5S5vhi-vhjzT",
        "outputId": "e904daef-1f74-437f-8f1e-7888a8fd37a6"
      },
      "outputs": [
        {
          "output_type": "stream",
          "name": "stdout",
          "text": [
            "0.9903815817570365\n",
            "0.9827976465386884\n"
          ]
        }
      ],
      "source": [
        "ridge = Ridge(alpha=0.1)\n",
        "ridge.fit(train_scaled, train_target)\n",
        "\n",
        "print(ridge.score(train_scaled, train_target))\n",
        "print(ridge.score(test_scaled, test_target))"
      ]
    },
    {
      "cell_type": "markdown",
      "metadata": {
        "id": "jUph9pH_KA9_"
      },
      "source": [
        "## 라쏘\n",
        "\n",
        "* 계수의 절댓값을 기준으로 규제를 적용함"
      ]
    },
    {
      "cell_type": "markdown",
      "source": [
        "* Lidge클래스와 방법은 같지만 Lidge를 Lasso로 바꿔주어야 함\n",
        "\n",
        "* 라쏘 모델의 계수는 coef_속성에 저장되어 있음"
      ],
      "metadata": {
        "id": "QB6gYQTGES9w"
      }
    },
    {
      "cell_type": "code",
      "execution_count": 31,
      "metadata": {
        "colab": {
          "base_uri": "https://localhost:8080/"
        },
        "id": "Ymu-jmekh0IK",
        "outputId": "3413c342-07ac-4fd6-83a4-eb95f6d1074c"
      },
      "outputs": [
        {
          "output_type": "stream",
          "name": "stdout",
          "text": [
            "0.989789897208096\n"
          ]
        }
      ],
      "source": [
        "from sklearn.linear_model import Lasso\n",
        "\n",
        "lasso = Lasso()\n",
        "lasso.fit(train_scaled, train_target)\n",
        "print(lasso.score(train_scaled, train_target))"
      ]
    },
    {
      "cell_type": "code",
      "execution_count": 32,
      "metadata": {
        "colab": {
          "base_uri": "https://localhost:8080/"
        },
        "id": "t3jO37UMh2iI",
        "outputId": "853d5a13-70d0-4597-a121-f3195cfbfd36"
      },
      "outputs": [
        {
          "output_type": "stream",
          "name": "stdout",
          "text": [
            "0.9800593698421883\n"
          ]
        }
      ],
      "source": [
        "print(lasso.score(test_scaled, test_target))"
      ]
    },
    {
      "cell_type": "code",
      "execution_count": 33,
      "metadata": {
        "colab": {
          "base_uri": "https://localhost:8080/"
        },
        "id": "uoL2oJ6Ih4Jw",
        "outputId": "79b5cfb0-f7e1-4136-b590-685bca2db424",
        "scrolled": true
      },
      "outputs": [
        {
          "output_type": "stream",
          "name": "stderr",
          "text": [
            "/usr/local/lib/python3.8/dist-packages/sklearn/linear_model/_coordinate_descent.py:647: ConvergenceWarning: Objective did not converge. You might want to increase the number of iterations, check the scale of the features or consider increasing regularisation. Duality gap: 1.878e+04, tolerance: 5.183e+02\n",
            "  model = cd_fast.enet_coordinate_descent(\n",
            "/usr/local/lib/python3.8/dist-packages/sklearn/linear_model/_coordinate_descent.py:647: ConvergenceWarning: Objective did not converge. You might want to increase the number of iterations, check the scale of the features or consider increasing regularisation. Duality gap: 1.297e+04, tolerance: 5.183e+02\n",
            "  model = cd_fast.enet_coordinate_descent(\n"
          ]
        }
      ],
      "source": [
        "train_score = []\n",
        "test_score = []\n",
        "\n",
        "alpha_list = [0.001, 0.01, 0.1, 1, 10, 100]\n",
        "for alpha in alpha_list:\n",
        "    # 라쏘 모델을 만듭니다\n",
        "    lasso = Lasso(alpha=alpha, max_iter=10000)\n",
        "    # 라쏘 모델을 훈련합니다\n",
        "    lasso.fit(train_scaled, train_target)\n",
        "    # 훈련 점수와 테스트 점수를 저장합니다\n",
        "    train_score.append(lasso.score(train_scaled, train_target))\n",
        "    test_score.append(lasso.score(test_scaled, test_target))"
      ]
    },
    {
      "cell_type": "code",
      "execution_count": 34,
      "metadata": {
        "colab": {
          "base_uri": "https://localhost:8080/",
          "height": 279
        },
        "id": "7rkH8Dvzh9UI",
        "outputId": "7f299207-7082-4912-be52-61272a1cb53e"
      },
      "outputs": [
        {
          "output_type": "display_data",
          "data": {
            "text/plain": [
              "<Figure size 432x288 with 1 Axes>"
            ],
            "image/png": "[encoded data removed]"
          },
          "metadata": {
            "needs_background": "light"
          }
        }
      ],
      "source": [
        "plt.plot(np.log10(alpha_list), train_score)\n",
        "plt.plot(np.log10(alpha_list), test_score)\n",
        "plt.xlabel('alpha')\n",
        "plt.ylabel('R^2')\n",
        "plt.show()"
      ]
    },
    {
      "cell_type": "code",
      "execution_count": 35,
      "metadata": {
        "colab": {
          "base_uri": "https://localhost:8080/"
        },
        "id": "t4uFD9Flh_Dw",
        "outputId": "9ac60101-84e0-4a84-9470-e0a2fcb2dc0b"
      },
      "outputs": [
        {
          "output_type": "stream",
          "name": "stdout",
          "text": [
            "0.9888067471131867\n",
            "0.9824470598706695\n"
          ]
        }
      ],
      "source": [
        "lasso = Lasso(alpha=10)\n",
        "lasso.fit(train_scaled, train_target)\n",
        "\n",
        "print(lasso.score(train_scaled, train_target))\n",
        "print(lasso.score(test_scaled, test_target))"
      ]
    },
    {
      "cell_type": "code",
      "execution_count": null,
      "metadata": {
        "colab": {
          "base_uri": "https://localhost:8080/"
        },
        "id": "z_bQc3s8Uoai",
        "outputId": "41abe8f0-1bfa-4fe9-b398-4164f46c0852"
      },
      "outputs": [
        {
          "name": "stdout",
          "output_type": "stream",
          "text": [
            "40\n"
          ]
        }
      ],
      "source": [
        "print(np.sum(lasso.coef_ == 0))"
      ]
    }
  ],
  "metadata": {
    "colab": {
      "name": "3-3 특성 공학과 규제.ipynb",
      "provenance": []
    },
    "kernelspec": {
      "display_name": "default:Python",
      "language": "python",
      "name": "conda-env-default-py"
    },
    "language_info": {
      "codemirror_mode": {
        "name": "ipython",
        "version": 3
      },
      "file_extension": ".py",
      "mimetype": "text/x-python",
      "name": "python",
      "nbconvert_exporter": "python",
      "pygments_lexer": "ipython3",
      "version": "3.9.10"
    }
  },
  "nbformat": 4,
  "nbformat_minor": 0
}