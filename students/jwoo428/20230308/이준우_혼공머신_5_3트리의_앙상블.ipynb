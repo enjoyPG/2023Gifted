{
  "nbformat": 4,
  "nbformat_minor": 0,
  "metadata": {
    "colab": {
      "provenance": [],
      "authorship_tag": "ABX9TyPItOnQvCHRaTTCBfrllpS/",
      "include_colab_link": true
    },
    "kernelspec": {
      "name": "python3",
      "display_name": "Python 3"
    },
    "language_info": {
      "name": "python"
    }
  },
  "cells": [
    {
      "cell_type": "markdown",
      "metadata": {
        "id": "view-in-github",
        "colab_type": "text"
      },
      "source": [
        "<a href=\"https://colab.research.google.com/github/enjoyPG/2023Gifted/blob/main/students/jwoo428/20230308/%EC%9D%B4%EC%A4%80%EC%9A%B0_%ED%98%BC%EA%B3%B5%EB%A8%B8%EC%8B%A0_5_3%ED%8A%B8%EB%A6%AC%EC%9D%98_%EC%95%99%EC%83%81%EB%B8%94.ipynb\" target=\"_parent\"><img src=\"https://colab.research.google.com/assets/colab-badge.svg\" alt=\"Open In Colab\"/></a>"
      ]
    },
    {
      "cell_type": "markdown",
      "source": [
        "#트리의 앙상블"
      ],
      "metadata": {
        "id": "gdUKJrffH8Zg"
      }
    },
    {
      "cell_type": "markdown",
      "source": [
        "#핵심키워드\n",
        "###앙상블 학습\n",
        "* 더 좋은 예측 결과를 만들기 위해 여러개의 모델을 훈련하는 머신러닝 알고리즘을 말함\n",
        "###랜덤포레스트\n",
        "* 대표적인 결정 트리 기반의 앙상블 학습 방법입니다.\n",
        "* 부트스트랩 샘플을 사용하고 랜덤하게 일부 특성을 선택하여 트리를 만드는 것이 특징입니다.\n",
        "###엑스트라 트리\n",
        "* 랜덤 포레스트와 비슷하게 결정 트리를 사용하여 앙상블 모델을 만들지만 부트스트랩 샘플을 사용하지 않는다.\n",
        "* 대신 랜덤하게 노드를 분할해 과대적합을 감소시킴\n",
        "###그레이디언트 부스팅\n",
        "* 랜덤포레스트나 엑스트라 트리와 달리 결정트리를 연속적으로 추가하여 손실함수를 최소화 하는 앙상블 방법임\n",
        "* 이런 이유로 훈련 속도가 조금 느리지만 더 좋은 성능을 기대할 수 있음\n",
        "###히스토그램 기반 그레이디언트 부스팅\n",
        "* 그레이디언트 부스팅의 속도를 개선한 것이다."
      ],
      "metadata": {
        "id": "WtUR0Ob6StmQ"
      }
    },
    {
      "cell_type": "markdown",
      "source": [
        "#핵심패키지와 함수\n",
        "###RandomForestClassifier\n",
        "* 랜덤포레스트 분류클래스\n",
        "###ExtraTreesClassifier\n",
        "* 엑스트라 트리 분류 클래스\n",
        "###GradientBoostingClassifier\n",
        "* 그레이디언트 부스팅 분류 클래스\n",
        "###HistGradientBoostingClassifier\n",
        "* 히스토그램 기반 그레이디언트 부스팅 분류 클래스"
      ],
      "metadata": {
        "id": "ldgNRCm1TcJu"
      }
    },
    {
      "cell_type": "markdown",
      "source": [
        "###정형데이터와 비정형데이터\n",
        "* 정형데이터는 어떠한 구조로 되어 있는 데이터이다.(csv나 데이터베이스, 엑셀에 저장하기 쉬움)\n",
        "* 비정형데이터는 데이터베이스나 엑셀로 표현하기 어려운 것들이다."
      ],
      "metadata": {
        "id": "lvlVUb9aIGvF"
      }
    },
    {
      "cell_type": "markdown",
      "source": [
        "##앙상블 학습\n",
        "* 정형 데이터를 다루는 가장 뛰어난 성과를 내는 알고리즘"
      ],
      "metadata": {
        "id": "nlOrSVMhId7I"
      }
    },
    {
      "cell_type": "markdown",
      "source": [
        "##랜덤포레스트\n",
        "* 랜덤포레스트는 앙상블 학습의 대표 주자 중 하나로 안정적인 성능 덕에 널리 사용되고 있다.\n",
        "* 결정트리를 랜덤하게 만들어 결정 트리의 숲을 만들고 각 결정트리의 예측을 통해 최종예측을 만듬.\n",
        "\n",
        "##부트스트랩 샘플\n",
        "* 1000개의 샘플이 들어있는 가방에서 100개의 샘플을 뽑느다면 먼저 1개를 뽑고, 뽑았던 1개를 다시 가방에 넣고, 계속해서 100개를 가방에서 뽑으면 중복된 샘플을 뽑을 수 있음. 이러한 샘플을 부트스트랩 샘플이라고 함."
      ],
      "metadata": {
        "id": "uciuW3Q3InrW"
      }
    },
    {
      "cell_type": "markdown",
      "source": [
        "###분류모델인 RandomForestClassifier는 기본적으로 전체 특성 개수의 제곱근만큼의 특성을 선택함.\n",
        "###RandomForestRegressor는 전체특성을 사용한다."
      ],
      "metadata": {
        "id": "so8ct2UKJpDz"
      }
    },
    {
      "cell_type": "code",
      "execution_count": 1,
      "metadata": {
        "id": "bCceeYGxH3bh"
      },
      "outputs": [],
      "source": [
        "import numpy as np\n",
        "import pandas as pd\n",
        "from sklearn.model_selection import train_test_split\n",
        "wine = pd.read_csv('https://bit.ly/wine_csv_data')\n",
        "data = wine[['alcohol','sugar','pH']].to_numpy()\n",
        "target = wine['class'].to_numpy()\n",
        "train_input,test_input,train_target, test_target = train_test_split(data, target, test_size = 0.2, random_state=42)"
      ]
    },
    {
      "cell_type": "code",
      "source": [
        "from sklearn.model_selection import cross_validate\n",
        "from sklearn.ensemble import RandomForestClassifier\n",
        "rf = RandomForestClassifier(n_jobs=-1, random_state=42)\n",
        "scores = cross_validate(rf, train_input, train_target, return_train_score=True, n_jobs=-1)\n",
        "print(np.mean(scores['train_score']), np.mean(scores['test_score']))"
      ],
      "metadata": {
        "colab": {
          "base_uri": "https://localhost:8080/"
        },
        "id": "uwp2au2XKw_9",
        "outputId": "a8bb4ae0-cc5f-49fd-96e5-2cfa4b2cf2ab"
      },
      "execution_count": 3,
      "outputs": [
        {
          "output_type": "stream",
          "name": "stdout",
          "text": [
            "0.9973541965122431 0.8905151032797809\n"
          ]
        }
      ]
    },
    {
      "cell_type": "code",
      "source": [
        "rf.fit(train_input, train_target)\n",
        "print(rf.feature_importances_)"
      ],
      "metadata": {
        "colab": {
          "base_uri": "https://localhost:8080/"
        },
        "id": "NzA-RA-WLE4M",
        "outputId": "fc6a930d-e1d1-4cd9-f803-d421ad620151"
      },
      "execution_count": 6,
      "outputs": [
        {
          "output_type": "stream",
          "name": "stdout",
          "text": [
            "[0.23167441 0.50039841 0.26792718]\n"
          ]
        }
      ]
    },
    {
      "cell_type": "markdown",
      "source": [
        "###랜덤 포레스트가 특성의 일부를 랜덤하게 선택하여 결정트리를 훈련하기 때문에 하나의 특성에 과도하게 집중하지 않고 좀 더 많은 특성이 훈련에 기여할 기회를 얻음(이는 과대적합을 줄이고 일반화 성능을 높이는 데 도움이 됨)"
      ],
      "metadata": {
        "id": "1z9IiSeUL9er"
      }
    },
    {
      "cell_type": "markdown",
      "source": [
        "###OOB샘플\n",
        "* 랜덤포레스트는 훈련세트에서 중복을 허용하여 부트스트랩 샘플을 만들어 결정트리를 훈련함.\n",
        "* 이때 부트스트랩 샘플에 포함되지 않고 남는 샘플들을 out of bag 즉 oob샘플이라고 한다."
      ],
      "metadata": {
        "id": "-7Bnal8LMTNJ"
      }
    },
    {
      "cell_type": "code",
      "source": [
        "rf = RandomForestClassifier(oob_score=True, n_jobs=-1, random_state=42)\n",
        "rf.fit(train_input, train_target)\n",
        "print(rf.oob_score_)"
      ],
      "metadata": {
        "colab": {
          "base_uri": "https://localhost:8080/"
        },
        "id": "Uzmpy8dOLh4S",
        "outputId": "2034ea31-56d6-4b69-96fe-a70aca5fde3f"
      },
      "execution_count": 7,
      "outputs": [
        {
          "output_type": "stream",
          "name": "stdout",
          "text": [
            "0.8934000384837406\n"
          ]
        }
      ]
    },
    {
      "cell_type": "markdown",
      "source": [
        "###엑스트라 트리\n",
        "* 엑스트라 트리는 랜덤포레스트와 비슷하게 작동함\n",
        "* 엑스트라 트리가 사용하는 결정 트리가 바로 splitter='random'인 결정트리"
      ],
      "metadata": {
        "id": "E1OmIESoMzhu"
      }
    },
    {
      "cell_type": "code",
      "source": [
        "from sklearn.ensemble import ExtraTreesClassifier\n",
        "et = ExtraTreesClassifier(n_jobs=-1, random_state=42)\n",
        "scores = cross_validate(et,train_input, train_target,return_train_score=True, n_jobs=-1)\n",
        "print(np.mean(scores['train_score']),np.mean(scores['test_score']))"
      ],
      "metadata": {
        "colab": {
          "base_uri": "https://localhost:8080/"
        },
        "id": "kcjcoRqbMsg0",
        "outputId": "a3092b2e-2f9e-4633-f1d5-0d52c44af4a6"
      },
      "execution_count": 8,
      "outputs": [
        {
          "output_type": "stream",
          "name": "stdout",
          "text": [
            "0.9974503966084433 0.8887848893166506\n"
          ]
        }
      ]
    },
    {
      "cell_type": "markdown",
      "source": [
        "* 엑스트라 트리와 랜덤포레스트의 차이\n",
        "* 엑스트라 트리가 무작위성이 좀 더 크기 때문에 랜덤 포레스트보다 더 많은 결정트리를 훈련해야 한다. \n",
        "* 랜덤하게 노드를 분할하기 때문에 빠른 계산속도가 엑스트라 트리의 장점이다."
      ],
      "metadata": {
        "id": "9EWg2andNrka"
      }
    },
    {
      "cell_type": "code",
      "source": [
        "et.fit(train_input, train_target)\n",
        "print(et.feature_importances_)"
      ],
      "metadata": {
        "colab": {
          "base_uri": "https://localhost:8080/"
        },
        "id": "9NmVmBK7Nkgf",
        "outputId": "8bd024fa-2760-4536-b8e2-d957a4062389"
      },
      "execution_count": 9,
      "outputs": [
        {
          "output_type": "stream",
          "name": "stdout",
          "text": [
            "[0.20183568 0.52242907 0.27573525]\n"
          ]
        }
      ]
    },
    {
      "cell_type": "markdown",
      "source": [
        "###그레이디언트 부스팅\n",
        "* 그레이디언트 부스팅은 깊이가 얕은 결정트리를 사용하여 이전 트리의 오차를 보완하는 방식으로 앙상블 하는 방법이다."
      ],
      "metadata": {
        "id": "f9JnqyidODQC"
      }
    },
    {
      "cell_type": "code",
      "source": [
        "from sklearn.ensemble import GradientBoostingClassifier\n",
        "gb = GradientBoostingClassifier(random_state=42)\n",
        "scores = cross_validate(gb, train_input, train_target, return_train_score=True, n_jobs=-1)\n",
        "print(np.mean(scores['train_score']), np.mean(scores['test_score']))"
      ],
      "metadata": {
        "colab": {
          "base_uri": "https://localhost:8080/"
        },
        "id": "GhHNwpNRN--E",
        "outputId": "f045324b-335e-41b5-f274-0c0fd7ee792e"
      },
      "execution_count": 10,
      "outputs": [
        {
          "output_type": "stream",
          "name": "stdout",
          "text": [
            "0.8881086892152563 0.8720430147331015\n"
          ]
        }
      ]
    },
    {
      "cell_type": "code",
      "source": [
        "gb = GradientBoostingClassifier(n_estimators=500, learning_rate=0.2,random_state=42)\n",
        "scores = cross_validate(gb,train_input, train_target, return_train_score=True, n_jobs=-1)\n",
        "print(np.mean(scores['train_score']),np.mean(scores['test_score']))"
      ],
      "metadata": {
        "colab": {
          "base_uri": "https://localhost:8080/"
        },
        "id": "wFnue-QXOgaS",
        "outputId": "4d37644e-dfa4-4400-e240-d8b95989bc83"
      },
      "execution_count": 11,
      "outputs": [
        {
          "output_type": "stream",
          "name": "stdout",
          "text": [
            "0.9464595437171814 0.8780082549788999\n"
          ]
        }
      ]
    },
    {
      "cell_type": "code",
      "source": [
        "gb.fit(train_input, train_target)\n",
        "print(gb.feature_importances_)"
      ],
      "metadata": {
        "colab": {
          "base_uri": "https://localhost:8080/"
        },
        "id": "EWBS4rtNO6zU",
        "outputId": "2cafbd32-247c-4c90-9e01-647fce0fc9a3"
      },
      "execution_count": 13,
      "outputs": [
        {
          "output_type": "stream",
          "name": "stdout",
          "text": [
            "[0.15872278 0.68010884 0.16116839]\n"
          ]
        }
      ]
    },
    {
      "cell_type": "markdown",
      "source": [
        "###히스토그램 기반 그레이디언트 부스팅\n",
        "* 히스토그램 기반 그레이디언트 부스팅은 정형 데이터를 다루는 머신러닝 알고리즘이다.\n",
        "* 입력 특성을 256개의 구간으로 나눈다. 따라서 노드를 분할할 때 최적의 분할을 매우 빠르게 찾을 수 있다.\n"
      ],
      "metadata": {
        "id": "LiQMJmL6PHPu"
      }
    },
    {
      "cell_type": "code",
      "source": [
        "from sklearn.experimental import enable_hist_gradient_boosting\n",
        "from sklearn.ensemble import HistGradientBoostingClassifier\n",
        "hgb = HistGradientBoostingClassifier(random_state=42)\n",
        "scores = cross_validate(hgb, train_input, train_target, return_train_score=True)\n",
        "print(np.mean(scores['train_score']), np.mean(scores['test_score']))"
      ],
      "metadata": {
        "colab": {
          "base_uri": "https://localhost:8080/"
        },
        "id": "SGwvPhPAPCOP",
        "outputId": "9433e2f0-b73f-41db-dba2-6e368bf802a0"
      },
      "execution_count": 14,
      "outputs": [
        {
          "output_type": "stream",
          "name": "stderr",
          "text": [
            "/usr/local/lib/python3.8/dist-packages/sklearn/experimental/enable_hist_gradient_boosting.py:16: UserWarning: Since version 1.0, it is not needed to import enable_hist_gradient_boosting anymore. HistGradientBoostingClassifier and HistGradientBoostingRegressor are now stable and can be normally imported from sklearn.ensemble.\n",
            "  warnings.warn(\n"
          ]
        },
        {
          "output_type": "stream",
          "name": "stdout",
          "text": [
            "0.9321723946453317 0.8801241948619236\n"
          ]
        }
      ]
    },
    {
      "cell_type": "markdown",
      "source": [
        "* 히스토그램 기반 그레이디언트 부스팅의 특성 중요도를 계산하기 위해 permutation_importances()함수를 사용함.\n",
        "* n_repeats매개변수는 랜덤하게 섞을 횟수를 지정함"
      ],
      "metadata": {
        "id": "QfkyQr6JP7F9"
      }
    },
    {
      "cell_type": "code",
      "source": [
        "from sklearn.inspection import permutation_importance\n",
        "\n",
        "hgb.fit(train_input, train_target)\n",
        "result = permutation_importance(hgb,train_input, train_target, n_repeats=10, random_state=42, n_jobs=-1)\n",
        "print(result.importances_mean)"
      ],
      "metadata": {
        "colab": {
          "base_uri": "https://localhost:8080/"
        },
        "id": "zS3lnt3TP3Ie",
        "outputId": "52ec8b02-bb9f-4e67-8829-a89326c1f793"
      },
      "execution_count": 15,
      "outputs": [
        {
          "output_type": "stream",
          "name": "stdout",
          "text": [
            "[0.08876275 0.23438522 0.08027708]\n"
          ]
        }
      ]
    },
    {
      "cell_type": "code",
      "source": [
        "result = permutation_importance(hgb,test_input, test_target, n_repeats=10,random_state=42, n_jobs=1)\n",
        "print(result.importances_mean)"
      ],
      "metadata": {
        "colab": {
          "base_uri": "https://localhost:8080/"
        },
        "id": "kyFWC08vQman",
        "outputId": "faefbc8a-7f67-46bf-b689-d12e83921eb1"
      },
      "execution_count": 16,
      "outputs": [
        {
          "output_type": "stream",
          "name": "stdout",
          "text": [
            "[0.05969231 0.20238462 0.049     ]\n"
          ]
        }
      ]
    },
    {
      "cell_type": "code",
      "source": [
        "hgb.score(test_input, test_target)"
      ],
      "metadata": {
        "colab": {
          "base_uri": "https://localhost:8080/"
        },
        "id": "U19AQFV8Qzyl",
        "outputId": "31044bb5-d8df-4fbf-d075-4abc48693633"
      },
      "execution_count": 18,
      "outputs": [
        {
          "output_type": "execute_result",
          "data": {
            "text/plain": [
              "0.8723076923076923"
            ]
          },
          "metadata": {},
          "execution_count": 18
        }
      ]
    },
    {
      "cell_type": "markdown",
      "source": [
        "###사이킷런말고 그레이디언트 부스팅 알고리즘을 구현한 라이브러리가 여럿있다.\n",
        "* XGBoost(tree_method매개변수를 'hist'로 지정하면 히스토그램 기반 그레이디언트 부스팅을 사용할 수 있음\n",
        "* LightGBM(최신기술 다량 함유)"
      ],
      "metadata": {
        "id": "B3dIIKXxR2DA"
      }
    },
    {
      "cell_type": "code",
      "source": [
        "#XGBoost\n",
        "from xgboost import XGBClassifier\n",
        "xgb = XGBClassifier(tree_method='hist', random_state=42)\n",
        "scores = cross_validate(xgb,train_input, train_target, return_train_score=True)\n",
        "print(np.mean(scores['train_score']), np.mean(scores['test_score']))"
      ],
      "metadata": {
        "colab": {
          "base_uri": "https://localhost:8080/"
        },
        "id": "QpyU-cSMQ9US",
        "outputId": "60f1b5b2-c6fe-4751-c387-23f0606d2b3a"
      },
      "execution_count": 20,
      "outputs": [
        {
          "output_type": "stream",
          "name": "stdout",
          "text": [
            "0.9555033709953124 0.8799326275264677\n"
          ]
        }
      ]
    },
    {
      "cell_type": "code",
      "source": [
        "#LightGBM\n",
        "from lightgbm import LGBMClassifier\n",
        "lgb = LGBMClassifier(random_state=42)\n",
        "scores = cross_validate(lgb, train_input, train_target, return_train_score=True, n_jobs=-1)\n",
        "print(np.mean(scores['train_score']), np.mean(scores['test_score']))"
      ],
      "metadata": {
        "colab": {
          "base_uri": "https://localhost:8080/"
        },
        "id": "9FtVyqhiRo6G",
        "outputId": "b2aada8d-1b12-43d5-a5a7-6c15e01514ab"
      },
      "execution_count": 22,
      "outputs": [
        {
          "output_type": "stream",
          "name": "stdout",
          "text": [
            "0.9338079582727165 0.8789710890649293\n"
          ]
        }
      ]
    },
    {
      "cell_type": "code",
      "source": [],
      "metadata": {
        "id": "tS4SKpfsSlS2"
      },
      "execution_count": null,
      "outputs": []
    }
  ]
}