{
  "nbformat": 4,
  "nbformat_minor": 0,
  "metadata": {
    "colab": {
      "provenance": [],
      "include_colab_link": true
    },
    "kernelspec": {
      "name": "python3",
      "display_name": "Python 3"
    },
    "language_info": {
      "name": "python"
    }
  },
  "cells": [
    {
      "cell_type": "markdown",
      "metadata": {
        "id": "view-in-github",
        "colab_type": "text"
      },
      "source": [
        "<a href=\"https://colab.research.google.com/github/enjoyPG/2023Gifted/blob/main/students/jwoo428/20230415/%EC%9D%B4%EC%A4%80%EC%9A%B0_9_2%EC%88%9C%ED%99%98_%EC%8B%A0%EA%B2%BD%EB%A7%9D%EC%9C%BC%EB%A1%9C_IMDB%EB%A6%AC%EB%B7%B0_%EB%B6%84%EB%A5%98%ED%95%98%EA%B8%B0.ipynb\" target=\"_parent\"><img src=\"https://colab.research.google.com/assets/colab-badge.svg\" alt=\"Open In Colab\"/></a>"
      ]
    },
    {
      "cell_type": "markdown",
      "source": [
        "#9-2 IMDB리뷰 분류하기\n",
        "\n",
        "\n",
        "토큰<BR/>\n",
        "* 문장에서 분리된 단어"
      ],
      "metadata": {
        "id": "0CvA8XZ5xqBg"
      }
    },
    {
      "cell_type": "code",
      "execution_count": null,
      "metadata": {
        "id": "9x-3uEK__viB",
        "colab": {
          "base_uri": "https://localhost:8080/"
        },
        "outputId": "b6f4a626-45c7-40d6-d009-64c2a18ba0d4"
      },
      "outputs": [
        {
          "output_type": "stream",
          "name": "stdout",
          "text": [
            "(25000,) (25000,)\n"
          ]
        }
      ],
      "source": [
        "from tensorflow.keras.datasets import imdb\n",
        "(train_input, train_target), (test_input, test_target) = imdb.load_data(num_words=500)\n",
        "print(train_input.shape, test_input.shape)"
      ]
    },
    {
      "cell_type": "code",
      "source": [
        "print(train_input.shape, test_input.shape)\n",
        "#길이가 제각각이라 고정크기의 2차원 배열에 넣는것보단 리뷰마다 파이썬 리스트로 담아야함"
      ],
      "metadata": {
        "colab": {
          "base_uri": "https://localhost:8080/"
        },
        "id": "xE3AajlwyE6-",
        "outputId": "648eb172-94cb-4438-b456-7a7dd072acf0"
      },
      "execution_count": null,
      "outputs": [
        {
          "output_type": "stream",
          "name": "stdout",
          "text": [
            "(25000,) (25000,)\n"
          ]
        }
      ]
    },
    {
      "cell_type": "code",
      "source": [
        "#첫번째 리뷰의 길이\n",
        "print(len(train_input[0]))\n",
        "#두번째 리뷰의 길이\n",
        "print(len(train_input[1]))"
      ],
      "metadata": {
        "colab": {
          "base_uri": "https://localhost:8080/"
        },
        "id": "Ha2l1As2yIC-",
        "outputId": "e3d2dece-6a8a-46b6-db8a-3cc1c4da68d4"
      },
      "execution_count": null,
      "outputs": [
        {
          "output_type": "stream",
          "name": "stdout",
          "text": [
            "218\n",
            "189\n"
          ]
        }
      ]
    },
    {
      "cell_type": "code",
      "source": [
        "#첫번째 리뷰의 내용\n",
        "print(train_input[0])"
      ],
      "metadata": {
        "colab": {
          "base_uri": "https://localhost:8080/"
        },
        "id": "unTieMyNzC10",
        "outputId": "5e44d10f-4ec9-4d7e-de60-24ba67eb275c"
      },
      "execution_count": null,
      "outputs": [
        {
          "output_type": "stream",
          "name": "stdout",
          "text": [
            "[1, 14, 22, 16, 43, 2, 2, 2, 2, 65, 458, 2, 66, 2, 4, 173, 36, 256, 5, 25, 100, 43, 2, 112, 50, 2, 2, 9, 35, 480, 284, 5, 150, 4, 172, 112, 167, 2, 336, 385, 39, 4, 172, 2, 2, 17, 2, 38, 13, 447, 4, 192, 50, 16, 6, 147, 2, 19, 14, 22, 4, 2, 2, 469, 4, 22, 71, 87, 12, 16, 43, 2, 38, 76, 15, 13, 2, 4, 22, 17, 2, 17, 12, 16, 2, 18, 2, 5, 62, 386, 12, 8, 316, 8, 106, 5, 4, 2, 2, 16, 480, 66, 2, 33, 4, 130, 12, 16, 38, 2, 5, 25, 124, 51, 36, 135, 48, 25, 2, 33, 6, 22, 12, 215, 28, 77, 52, 5, 14, 407, 16, 82, 2, 8, 4, 107, 117, 2, 15, 256, 4, 2, 7, 2, 5, 2, 36, 71, 43, 2, 476, 26, 400, 317, 46, 7, 4, 2, 2, 13, 104, 88, 4, 381, 15, 297, 98, 32, 2, 56, 26, 141, 6, 194, 2, 18, 4, 226, 22, 21, 134, 476, 26, 480, 5, 144, 30, 2, 18, 51, 36, 28, 224, 92, 25, 104, 4, 226, 65, 16, 38, 2, 88, 12, 16, 283, 5, 16, 2, 113, 103, 32, 15, 16, 2, 19, 178, 32]\n"
          ]
        }
      ]
    },
    {
      "cell_type": "code",
      "source": [
        "print(train_target[:20])"
      ],
      "metadata": {
        "colab": {
          "base_uri": "https://localhost:8080/"
        },
        "id": "j9yYj6S6zFzc",
        "outputId": "40c4780f-338e-476f-ee40-bfaf5c3d4b5c"
      },
      "execution_count": null,
      "outputs": [
        {
          "output_type": "stream",
          "name": "stdout",
          "text": [
            "[1 0 0 1 0 0 1 0 1 0 1 0 0 0 0 0 1 1 0 1]\n"
          ]
        }
      ]
    },
    {
      "cell_type": "code",
      "source": [
        "from sklearn.model_selection import train_test_split\n",
        "train_input, val_input, train_target, val_target = train_test_split(train_input, train_target, test_size=0.2,random_state=42)"
      ],
      "metadata": {
        "id": "4zZwaz6GzJjf"
      },
      "execution_count": null,
      "outputs": []
    },
    {
      "cell_type": "code",
      "source": [
        "import numpy as np\n",
        "lengths = np.array([len(x) for x in train_input])\n",
        "print(np.mean(lengths), np.median(lengths))\n",
        "#평균 단어 개수는 239개, 중간값이 178\n",
        "#한쪽으로 치우친 분포"
      ],
      "metadata": {
        "colab": {
          "base_uri": "https://localhost:8080/"
        },
        "id": "owVIJ1jSz1KU",
        "outputId": "19d4ec30-48c9-4172-87b7-1a9901b990d3"
      },
      "execution_count": null,
      "outputs": [
        {
          "output_type": "stream",
          "name": "stdout",
          "text": [
            "239.00925 178.0\n"
          ]
        }
      ]
    },
    {
      "cell_type": "code",
      "source": [
        "import matplotlib.pyplot as plt\n",
        "plt.hist(lengths)\n",
        "plt.xlabel('length')\n",
        "plt.ylabel('frequency')\n",
        "plt.show()\n",
        "#오른쪽 끝에 아주 큰 값이 있어서 평균이 높게나옴"
      ],
      "metadata": {
        "colab": {
          "base_uri": "https://localhost:8080/",
          "height": 449
        },
        "id": "Sh3_349e0AjY",
        "outputId": "f4c55f3f-f728-41e6-e9a6-4169c4a34055"
      },
      "execution_count": null,
      "outputs": [
        {
          "output_type": "display_data",
          "data": {
            "text/plain": [
              "<Figure size 640x480 with 1 Axes>"
            ],
            "image/png": "[encoded data removed]"
          },
          "metadata": {}
        }
      ]
    },
    {
      "cell_type": "code",
      "source": [
        "from tensorflow.keras.preprocessing.sequence import pad_sequences\n",
        "train_seq = pad_sequences(train_input, maxlen=100)\n",
        "print(train_seq.shape)\n",
        "#(20000,100)의 이차원 배열이 됨"
      ],
      "metadata": {
        "colab": {
          "base_uri": "https://localhost:8080/"
        },
        "id": "h1_tvUY00P3m",
        "outputId": "648bef37-23a0-4232-e512-9dc4124f5cb4"
      },
      "execution_count": null,
      "outputs": [
        {
          "output_type": "stream",
          "name": "stdout",
          "text": [
            "(20000, 100)\n"
          ]
        }
      ]
    },
    {
      "cell_type": "code",
      "source": [
        "#첫번째 샘플 출력\n",
        "print(train_seq[0])"
      ],
      "metadata": {
        "colab": {
          "base_uri": "https://localhost:8080/"
        },
        "id": "bpnHnOR10fzM",
        "outputId": "f9271466-c0ec-4936-a23f-637f072ad25a"
      },
      "execution_count": null,
      "outputs": [
        {
          "output_type": "stream",
          "name": "stdout",
          "text": [
            "[ 10   4  20   9   2 364 352   5  45   6   2   2  33 269   8   2 142   2\n",
            "   5   2  17  73  17 204   5   2  19  55   2   2  92  66 104  14  20  93\n",
            "  76   2 151  33   4  58  12 188   2 151  12 215  69 224 142  73 237   6\n",
            "   2   7   2   2 188   2 103  14  31  10  10 451   7   2   5   2  80  91\n",
            "   2  30   2  34  14  20 151  50  26 131  49   2  84  46  50  37  80  79\n",
            "   6   2  46   7  14  20  10  10 470 158]\n"
          ]
        }
      ]
    },
    {
      "cell_type": "code",
      "source": [
        "#원본샘플의 끝\n",
        "print(train_input[0][-10:])"
      ],
      "metadata": {
        "colab": {
          "base_uri": "https://localhost:8080/"
        },
        "id": "0nUpikoI0oSj",
        "outputId": "6b485958-edba-4e6b-8149-245d477606c0"
      },
      "execution_count": null,
      "outputs": [
        {
          "output_type": "stream",
          "name": "stdout",
          "text": [
            "[6, 2, 46, 7, 14, 20, 10, 10, 470, 158]\n"
          ]
        }
      ]
    },
    {
      "cell_type": "markdown",
      "source": [
        "* 샘플의 앞부분이 잘린것을 알수 있음\n",
        "* 앞부분이 아니라 뒷부분을 자르고 싶으면 seq를 post로 바꾸면 됨"
      ],
      "metadata": {
        "id": "G22uR9nZ0tXV"
      }
    },
    {
      "cell_type": "code",
      "source": [
        "print(train_seq[5])"
      ],
      "metadata": {
        "colab": {
          "base_uri": "https://localhost:8080/"
        },
        "id": "LhzFV3H_0ryl",
        "outputId": "af017556-b27a-4a67-8d6d-0037fabef8df"
      },
      "execution_count": null,
      "outputs": [
        {
          "output_type": "stream",
          "name": "stdout",
          "text": [
            "[  0   0   0   0   1   2 195  19  49   2   2 190   4   2 352   2 183  10\n",
            "  10  13  82  79   4   2  36  71 269   8   2  25  19  49   7   4   2   2\n",
            "   2   2   2  10  10  48  25  40   2  11   2   2  40   2   2   5   4   2\n",
            "   2  95  14 238  56 129   2  10  10  21   2  94 364 352   2   2  11 190\n",
            "  24 484   2   7  94 205 405  10  10  87   2  34  49   2   7   2   2   2\n",
            "   2   2 290   2  46  48  64  18   4   2]\n"
          ]
        }
      ]
    },
    {
      "cell_type": "code",
      "source": [
        "val_seq = pad_sequences(val_input, maxlen=100)"
      ],
      "metadata": {
        "id": "uZE746Cl05hz"
      },
      "execution_count": null,
      "outputs": []
    },
    {
      "cell_type": "markdown",
      "source": [
        "#순환신경망 만들기"
      ],
      "metadata": {
        "id": "8WCni1-o0-Uz"
      }
    },
    {
      "cell_type": "code",
      "source": [
        "from tensorflow import keras\n",
        "model = keras.Sequential()\n",
        "model.add(keras.layers.SimpleRNN(8,input_shape=(100,500)))\n",
        "model.add(keras.layers.Dense(1,activation='sigmoid'))"
      ],
      "metadata": {
        "id": "A2dZyytQ08SY"
      },
      "execution_count": null,
      "outputs": []
    },
    {
      "cell_type": "markdown",
      "source": [
        "* 순환층의 활성화 함수는 activation 변수의 하이퍼볼릭 탄젠트 함수 사용\n",
        "* 토큰을 정수로 변환한 이 데이터를 신경망에 주입하면 큰 정수가 큰 활성화 출력을 만들기 때문에 단순한 정숫값을 입력해야함\n",
        "\n",
        "### 정수값을 신경망에 입력하기\n",
        "* 원 핫 인코딩 이용"
      ],
      "metadata": {
        "id": "2ql3j2he25eN"
      }
    },
    {
      "cell_type": "code",
      "source": [
        "#to_categorical함수를 이용한 원 핫 인코딩\n",
        "train_oh = keras.utils.to_categorical(train_seq)\n",
        "print(train_oh.shape)"
      ],
      "metadata": {
        "colab": {
          "base_uri": "https://localhost:8080/"
        },
        "id": "o22VNaxB1wim",
        "outputId": "93de59cf-56bc-4ee5-c4f0-906145d784c4"
      },
      "execution_count": null,
      "outputs": [
        {
          "output_type": "stream",
          "name": "stdout",
          "text": [
            "(20000, 100, 500)\n"
          ]
        }
      ]
    },
    {
      "cell_type": "code",
      "source": [
        "print(train_oh[0][0][:12])\n",
        "print(np.sum(train_oh[0][0]))"
      ],
      "metadata": {
        "colab": {
          "base_uri": "https://localhost:8080/"
        },
        "id": "Rktwo2RB3UZl",
        "outputId": "7c853624-4ea9-49d0-f8bb-ccef5362f7a6"
      },
      "execution_count": null,
      "outputs": [
        {
          "output_type": "stream",
          "name": "stdout",
          "text": [
            "[0. 0. 0. 0. 0. 0. 0. 0. 0. 0. 1. 0.]\n",
            "1.0\n"
          ]
        }
      ]
    },
    {
      "cell_type": "code",
      "source": [
        "val_oh = keras.utils.to_categorical(val_seq)\n",
        "model.summary()\n",
        "#500차원 * 순환층의 뉴런 8개 = 4000\n",
        "#은닉상태 크기 8 * 뉴런개수 8 = 64\n",
        "#뉴런마다 하나의 절편\n",
        "#4000+64+8 = 4072개의 모델 파라미터"
      ],
      "metadata": {
        "colab": {
          "base_uri": "https://localhost:8080/"
        },
        "id": "fGFNwhRY3ods",
        "outputId": "2a751595-8f2c-405a-90e2-24ed0e6181b6"
      },
      "execution_count": null,
      "outputs": [
        {
          "output_type": "stream",
          "name": "stdout",
          "text": [
            "Model: \"sequential\"\n",
            "_________________________________________________________________\n",
            " Layer (type)                Output Shape              Param #   \n",
            "=================================================================\n",
            " simple_rnn (SimpleRNN)      (None, 8)                 4072      \n",
            "                                                                 \n",
            " dense (Dense)               (None, 1)                 9         \n",
            "                                                                 \n",
            "=================================================================\n",
            "Total params: 4,081\n",
            "Trainable params: 4,081\n",
            "Non-trainable params: 0\n",
            "_________________________________________________________________\n"
          ]
        }
      ]
    },
    {
      "cell_type": "markdown",
      "source": [
        "#순환 신경망 훈련하기"
      ],
      "metadata": {
        "id": "3f8L860a4b2e"
      }
    },
    {
      "cell_type": "code",
      "source": [
        "rmsprop = keras.optimizers.RMSprop(learning_rate=1e-4)#0.0001로 지정\n",
        "model.compile(optimizer=rmsprop, loss='binary_crossentropy',metrics=['accuracy'])\n",
        "checkpoint_cb = keras.callbacks.ModelCheckpoint('best-simplernn-model.h5',save_best_only=True)\n",
        "early_stopping_cb = keras.callbacks.EarlyStopping(patience=3,restore_best_weights=True)\n",
        "history = model.fit(train_oh, train_target, epochs=100, batch_size=64,validation_data=(val_oh, val_target),callbacks=[checkpoint_cb, early_stopping_cb])"
      ],
      "metadata": {
        "colab": {
          "base_uri": "https://localhost:8080/"
        },
        "id": "-crdEYyn3ww3",
        "outputId": "5628979f-d10e-4fba-f021-5b0788085f78"
      },
      "execution_count": null,
      "outputs": [
        {
          "output_type": "stream",
          "name": "stdout",
          "text": [
            "Epoch 1/100\n",
            "313/313 [==============================] - 13s 37ms/step - loss: 0.7014 - accuracy: 0.5033 - val_loss: 0.6942 - val_accuracy: 0.5184\n",
            "Epoch 2/100\n",
            "313/313 [==============================] - 10s 33ms/step - loss: 0.6949 - accuracy: 0.5153 - val_loss: 0.6910 - val_accuracy: 0.5242\n",
            "Epoch 3/100\n",
            "313/313 [==============================] - 10s 31ms/step - loss: 0.6910 - accuracy: 0.5268 - val_loss: 0.6880 - val_accuracy: 0.5374\n",
            "Epoch 4/100\n",
            "313/313 [==============================] - 11s 34ms/step - loss: 0.6873 - accuracy: 0.5429 - val_loss: 0.6853 - val_accuracy: 0.5480\n",
            "Epoch 5/100\n",
            "313/313 [==============================] - 10s 33ms/step - loss: 0.6827 - accuracy: 0.5598 - val_loss: 0.6800 - val_accuracy: 0.5632\n",
            "Epoch 6/100\n",
            "313/313 [==============================] - 10s 33ms/step - loss: 0.6665 - accuracy: 0.6036 - val_loss: 0.6595 - val_accuracy: 0.6192\n",
            "Epoch 7/100\n",
            "313/313 [==============================] - 10s 33ms/step - loss: 0.6432 - accuracy: 0.6470 - val_loss: 0.6342 - val_accuracy: 0.6590\n",
            "Epoch 8/100\n",
            "313/313 [==============================] - 11s 34ms/step - loss: 0.6172 - accuracy: 0.6816 - val_loss: 0.6089 - val_accuracy: 0.6930\n",
            "Epoch 9/100\n",
            "313/313 [==============================] - 10s 33ms/step - loss: 0.5909 - accuracy: 0.7074 - val_loss: 0.5873 - val_accuracy: 0.7122\n",
            "Epoch 10/100\n",
            "313/313 [==============================] - 11s 36ms/step - loss: 0.5686 - accuracy: 0.7301 - val_loss: 0.5693 - val_accuracy: 0.7232\n",
            "Epoch 11/100\n",
            "313/313 [==============================] - 10s 32ms/step - loss: 0.5500 - accuracy: 0.7434 - val_loss: 0.5530 - val_accuracy: 0.7328\n",
            "Epoch 12/100\n",
            "313/313 [==============================] - 10s 32ms/step - loss: 0.5361 - accuracy: 0.7513 - val_loss: 0.5402 - val_accuracy: 0.7424\n",
            "Epoch 13/100\n",
            "313/313 [==============================] - 10s 33ms/step - loss: 0.5227 - accuracy: 0.7600 - val_loss: 0.5300 - val_accuracy: 0.7496\n",
            "Epoch 14/100\n",
            "313/313 [==============================] - 10s 34ms/step - loss: 0.5128 - accuracy: 0.7660 - val_loss: 0.5199 - val_accuracy: 0.7564\n",
            "Epoch 15/100\n",
            "313/313 [==============================] - 11s 34ms/step - loss: 0.5026 - accuracy: 0.7709 - val_loss: 0.5141 - val_accuracy: 0.7608\n",
            "Epoch 16/100\n",
            "313/313 [==============================] - 10s 33ms/step - loss: 0.4934 - accuracy: 0.7760 - val_loss: 0.5072 - val_accuracy: 0.7624\n",
            "Epoch 17/100\n",
            "313/313 [==============================] - 10s 33ms/step - loss: 0.4849 - accuracy: 0.7821 - val_loss: 0.4999 - val_accuracy: 0.7702\n",
            "Epoch 18/100\n",
            "313/313 [==============================] - 11s 36ms/step - loss: 0.4785 - accuracy: 0.7857 - val_loss: 0.4941 - val_accuracy: 0.7728\n",
            "Epoch 19/100\n",
            "313/313 [==============================] - 10s 31ms/step - loss: 0.4723 - accuracy: 0.7880 - val_loss: 0.4921 - val_accuracy: 0.7744\n",
            "Epoch 20/100\n",
            "313/313 [==============================] - 10s 32ms/step - loss: 0.4664 - accuracy: 0.7914 - val_loss: 0.4871 - val_accuracy: 0.7778\n",
            "Epoch 21/100\n",
            "313/313 [==============================] - 11s 34ms/step - loss: 0.4615 - accuracy: 0.7958 - val_loss: 0.4825 - val_accuracy: 0.7804\n",
            "Epoch 22/100\n",
            "313/313 [==============================] - 10s 33ms/step - loss: 0.4566 - accuracy: 0.7977 - val_loss: 0.4791 - val_accuracy: 0.7836\n",
            "Epoch 23/100\n",
            "313/313 [==============================] - 10s 32ms/step - loss: 0.4523 - accuracy: 0.8016 - val_loss: 0.4844 - val_accuracy: 0.7772\n",
            "Epoch 24/100\n",
            "313/313 [==============================] - 10s 32ms/step - loss: 0.4492 - accuracy: 0.8025 - val_loss: 0.4746 - val_accuracy: 0.7838\n",
            "Epoch 25/100\n",
            "313/313 [==============================] - 10s 32ms/step - loss: 0.4460 - accuracy: 0.8033 - val_loss: 0.4724 - val_accuracy: 0.7858\n",
            "Epoch 26/100\n",
            "313/313 [==============================] - 9s 30ms/step - loss: 0.4429 - accuracy: 0.8054 - val_loss: 0.4706 - val_accuracy: 0.7848\n",
            "Epoch 27/100\n",
            "313/313 [==============================] - 10s 33ms/step - loss: 0.4397 - accuracy: 0.8090 - val_loss: 0.4710 - val_accuracy: 0.7884\n",
            "Epoch 28/100\n",
            "313/313 [==============================] - 10s 33ms/step - loss: 0.4378 - accuracy: 0.8086 - val_loss: 0.4679 - val_accuracy: 0.7852\n",
            "Epoch 29/100\n",
            "313/313 [==============================] - 10s 33ms/step - loss: 0.4349 - accuracy: 0.8106 - val_loss: 0.4676 - val_accuracy: 0.7888\n",
            "Epoch 30/100\n",
            "313/313 [==============================] - 10s 33ms/step - loss: 0.4324 - accuracy: 0.8112 - val_loss: 0.4832 - val_accuracy: 0.7776\n",
            "Epoch 31/100\n",
            "313/313 [==============================] - 10s 34ms/step - loss: 0.4308 - accuracy: 0.8113 - val_loss: 0.4656 - val_accuracy: 0.7826\n",
            "Epoch 32/100\n",
            "313/313 [==============================] - 11s 34ms/step - loss: 0.4287 - accuracy: 0.8138 - val_loss: 0.4685 - val_accuracy: 0.7820\n",
            "Epoch 33/100\n",
            "313/313 [==============================] - 10s 32ms/step - loss: 0.4265 - accuracy: 0.8144 - val_loss: 0.4733 - val_accuracy: 0.7828\n",
            "Epoch 34/100\n",
            "313/313 [==============================] - 10s 32ms/step - loss: 0.4255 - accuracy: 0.8149 - val_loss: 0.4613 - val_accuracy: 0.7866\n",
            "Epoch 35/100\n",
            "313/313 [==============================] - 10s 33ms/step - loss: 0.4241 - accuracy: 0.8152 - val_loss: 0.4634 - val_accuracy: 0.7906\n",
            "Epoch 36/100\n",
            "313/313 [==============================] - 11s 34ms/step - loss: 0.4222 - accuracy: 0.8163 - val_loss: 0.4770 - val_accuracy: 0.7720\n",
            "Epoch 37/100\n",
            "313/313 [==============================] - 10s 33ms/step - loss: 0.4208 - accuracy: 0.8159 - val_loss: 0.4649 - val_accuracy: 0.7888\n"
          ]
        }
      ]
    },
    {
      "cell_type": "code",
      "source": [
        "plt.plot(history.history['loss'])\n",
        "plt.plot(history.history['val_loss'])\n",
        "plt.xlabel('epoch')\n",
        "plt.ylabel('loss')\n",
        "plt.legend(['train','val'])\n",
        "#plt.show()"
      ],
      "metadata": {
        "colab": {
          "base_uri": "https://localhost:8080/",
          "height": 449
        },
        "id": "npzNjKFV5If0",
        "outputId": "82f480ae-d11f-4634-afcd-a9477299d335"
      },
      "execution_count": null,
      "outputs": [
        {
          "output_type": "display_data",
          "data": {
            "text/plain": [
              "<Figure size 640x480 with 1 Axes>"
            ],
            "image/png": "[encoded data removed]"
          },
          "metadata": {}
        }
      ]
    },
    {
      "cell_type": "code",
      "source": [
        "#입력 데이터가 엄청 커짐\n",
        "print(train_seq.nbytes, train_oh.nbytes)"
      ],
      "metadata": {
        "colab": {
          "base_uri": "https://localhost:8080/"
        },
        "id": "6sYlfhAr-amd",
        "outputId": "0b528402-76ac-4183-9e64-1e7165a670f4"
      },
      "execution_count": null,
      "outputs": [
        {
          "output_type": "stream",
          "name": "stdout",
          "text": [
            "8000000 4000000000\n"
          ]
        }
      ]
    },
    {
      "cell_type": "markdown",
      "source": [
        "#단어 임베딩\n",
        "* 입력을 정수로 받음\n",
        "* 자연어 처리에서 더 좋은 성능을 냄\n",
        "* 고정된 크기의 실수 벡터로 바꾸어 줌"
      ],
      "metadata": {
        "id": "3giwjU-VATqn"
      }
    },
    {
      "cell_type": "code",
      "source": [
        "model2 = keras.Sequential()\n",
        "model2.add(keras.layers.Embedding(500, 16, input_length=100))\n",
        "model2.add(keras.layers.SimpleRNN(8))\n",
        "model2.add(keras.layers.Dense(1,activation='sigmoid'))"
      ],
      "metadata": {
        "id": "VxUNYMX__Eze"
      },
      "execution_count": null,
      "outputs": []
    },
    {
      "cell_type": "code",
      "source": [
        "model2.summary()"
      ],
      "metadata": {
        "colab": {
          "base_uri": "https://localhost:8080/"
        },
        "id": "4YZSVZVUBE1f",
        "outputId": "34442b37-58c3-4f2b-83b5-0eeba0315928"
      },
      "execution_count": null,
      "outputs": [
        {
          "output_type": "stream",
          "name": "stdout",
          "text": [
            "Model: \"sequential_1\"\n",
            "_________________________________________________________________\n",
            " Layer (type)                Output Shape              Param #   \n",
            "=================================================================\n",
            " embedding (Embedding)       (None, 100, 16)           8000      \n",
            "                                                                 \n",
            " simple_rnn_1 (SimpleRNN)    (None, 8)                 200       \n",
            "                                                                 \n",
            " dense_1 (Dense)             (None, 1)                 9         \n",
            "                                                                 \n",
            "=================================================================\n",
            "Total params: 8,209\n",
            "Trainable params: 8,209\n",
            "Non-trainable params: 0\n",
            "_________________________________________________________________\n"
          ]
        }
      ]
    },
    {
      "cell_type": "markdown",
      "source": [
        "* 500*16 = 8000\n",
        "* 임베딩 벡터의 크기 16*8 = 128\n",
        "* 은닉상태 8*8 = 64\n",
        "* 8개 절편\n",
        "* = 200\n",
        "* Dense층의 가중치 개수는 9개"
      ],
      "metadata": {
        "id": "1OUXqFP7BXBi"
      }
    },
    {
      "cell_type": "code",
      "source": [
        "rmsprop = keras.optimizers.RMSprop(learning_rate=1e-4)\n",
        "model2.compile(optimizer=rmsprop, loss='binary_crossentropy',metrics=['accuracy'])\n",
        "checkpoint_cb = keras.callbacks.ModelCheckpoint('best-embedding-model.h5',save_best_only=True)\n",
        "early_stopping_cb = keras.callbacks.EarlyStopping(patience=3,restore_best_weights=True)\n",
        "history = model2.fit(train_seq, train_target, epochs=100, batch_size=64, validation_data = (val_seq, val_target),callbacks=[checkpoint_cb, early_stopping_cb])"
      ],
      "metadata": {
        "colab": {
          "base_uri": "https://localhost:8080/"
        },
        "id": "OZ5BOwG6BUkk",
        "outputId": "20841721-669e-4ac1-be37-5701798f0fab"
      },
      "execution_count": null,
      "outputs": [
        {
          "output_type": "stream",
          "name": "stdout",
          "text": [
            "Epoch 1/100\n",
            "313/313 [==============================] - 9s 22ms/step - loss: 0.6955 - accuracy: 0.5081 - val_loss: 0.6944 - val_accuracy: 0.5084\n",
            "Epoch 2/100\n",
            "313/313 [==============================] - 7s 21ms/step - loss: 0.6914 - accuracy: 0.5257 - val_loss: 0.6927 - val_accuracy: 0.5116\n",
            "Epoch 3/100\n",
            "313/313 [==============================] - 7s 21ms/step - loss: 0.6882 - accuracy: 0.5426 - val_loss: 0.6912 - val_accuracy: 0.5190\n",
            "Epoch 4/100\n",
            "313/313 [==============================] - 7s 22ms/step - loss: 0.6850 - accuracy: 0.5616 - val_loss: 0.6899 - val_accuracy: 0.5284\n",
            "Epoch 5/100\n",
            "313/313 [==============================] - 6s 20ms/step - loss: 0.6814 - accuracy: 0.5733 - val_loss: 0.6883 - val_accuracy: 0.5352\n",
            "Epoch 6/100\n",
            "313/313 [==============================] - 7s 21ms/step - loss: 0.6772 - accuracy: 0.5870 - val_loss: 0.6869 - val_accuracy: 0.5418\n",
            "Epoch 7/100\n",
            "313/313 [==============================] - 6s 20ms/step - loss: 0.6727 - accuracy: 0.5987 - val_loss: 0.6852 - val_accuracy: 0.5476\n",
            "Epoch 8/100\n",
            "313/313 [==============================] - 7s 21ms/step - loss: 0.6679 - accuracy: 0.6087 - val_loss: 0.6823 - val_accuracy: 0.5592\n",
            "Epoch 9/100\n",
            "313/313 [==============================] - 7s 21ms/step - loss: 0.6629 - accuracy: 0.6178 - val_loss: 0.6811 - val_accuracy: 0.5700\n",
            "Epoch 10/100\n",
            "313/313 [==============================] - 6s 20ms/step - loss: 0.6577 - accuracy: 0.6281 - val_loss: 0.6786 - val_accuracy: 0.5732\n",
            "Epoch 11/100\n",
            "313/313 [==============================] - 7s 22ms/step - loss: 0.6525 - accuracy: 0.6355 - val_loss: 0.6773 - val_accuracy: 0.5758\n",
            "Epoch 12/100\n",
            "313/313 [==============================] - 6s 20ms/step - loss: 0.6472 - accuracy: 0.6403 - val_loss: 0.6767 - val_accuracy: 0.5842\n",
            "Epoch 13/100\n",
            "313/313 [==============================] - 7s 22ms/step - loss: 0.6421 - accuracy: 0.6456 - val_loss: 0.6745 - val_accuracy: 0.5826\n",
            "Epoch 14/100\n",
            "313/313 [==============================] - 6s 20ms/step - loss: 0.6372 - accuracy: 0.6501 - val_loss: 0.6736 - val_accuracy: 0.5842\n",
            "Epoch 15/100\n",
            "313/313 [==============================] - 7s 22ms/step - loss: 0.6324 - accuracy: 0.6550 - val_loss: 0.6725 - val_accuracy: 0.5860\n",
            "Epoch 16/100\n",
            "313/313 [==============================] - 7s 21ms/step - loss: 0.6278 - accuracy: 0.6585 - val_loss: 0.6723 - val_accuracy: 0.5920\n",
            "Epoch 17/100\n",
            "313/313 [==============================] - 6s 20ms/step - loss: 0.6235 - accuracy: 0.6622 - val_loss: 0.6715 - val_accuracy: 0.5954\n",
            "Epoch 18/100\n",
            "313/313 [==============================] - 7s 22ms/step - loss: 0.6195 - accuracy: 0.6668 - val_loss: 0.6703 - val_accuracy: 0.5962\n",
            "Epoch 19/100\n",
            "313/313 [==============================] - 6s 20ms/step - loss: 0.6153 - accuracy: 0.6694 - val_loss: 0.6703 - val_accuracy: 0.5962\n",
            "Epoch 20/100\n",
            "313/313 [==============================] - 7s 22ms/step - loss: 0.6115 - accuracy: 0.6720 - val_loss: 0.6697 - val_accuracy: 0.5914\n",
            "Epoch 21/100\n",
            "313/313 [==============================] - 6s 20ms/step - loss: 0.6079 - accuracy: 0.6747 - val_loss: 0.6713 - val_accuracy: 0.5950\n",
            "Epoch 22/100\n",
            "313/313 [==============================] - 7s 22ms/step - loss: 0.6046 - accuracy: 0.6770 - val_loss: 0.6698 - val_accuracy: 0.5978\n",
            "Epoch 23/100\n",
            "313/313 [==============================] - 7s 22ms/step - loss: 0.6010 - accuracy: 0.6809 - val_loss: 0.6708 - val_accuracy: 0.5950\n"
          ]
        }
      ]
    },
    {
      "cell_type": "code",
      "source": [
        "plt.plot(history.history['loss'])\n",
        "plt.plot(history.history['val_loss'])\n",
        "plt.xlabel('epoch')\n",
        "plt.ylabel('loss')\n",
        "plt.legend(['train','val'])\n",
        "plt.show()"
      ],
      "metadata": {
        "colab": {
          "base_uri": "https://localhost:8080/",
          "height": 454
        },
        "id": "sEOiLG2XCbO3",
        "outputId": "b7a4012a-ae39-4f41-d2de-9584bf50fd5d"
      },
      "execution_count": null,
      "outputs": [
        {
          "output_type": "display_data",
          "data": {
            "text/plain": [
              "<Figure size 640x480 with 1 Axes>"
            ],
            "image/png": "[encoded data removed]"
          },
          "metadata": {}
        }
      ]
    },
    {
      "cell_type": "markdown",
      "source": [],
      "metadata": {
        "id": "HVQRagTHEH9a"
      }
    },
    {
      "cell_type": "code",
      "source": [],
      "metadata": {
        "id": "oNg988CUDEdu"
      },
      "execution_count": null,
      "outputs": []
    }
  ]
}