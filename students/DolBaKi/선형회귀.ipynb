{
  "nbformat": 4,
  "nbformat_minor": 0,
  "metadata": {
    "colab": {
      "provenance": [],
      "authorship_tag": "ABX9TyOitcrSLrELNLoq+wATelFJ",
      "include_colab_link": true
    },
    "kernelspec": {
      "name": "python3",
      "display_name": "Python 3"
    },
    "language_info": {
      "name": "python"
    }
  },
  "cells": [
    {
      "cell_type": "markdown",
      "metadata": {
        "id": "view-in-github",
        "colab_type": "text"
      },
      "source": [
        "<a href=\"https://colab.research.google.com/github/enjoyPG/2023Gifted/blob/main/students/DolBaKi/%EC%84%A0%ED%98%95%ED%9A%8C%EA%B7%80.ipynb\" target=\"_parent\"><img src=\"https://colab.research.google.com/assets/colab-badge.svg\" alt=\"Open In Colab\"/></a>"
      ]
    },
    {
      "cell_type": "code",
      "execution_count": 25,
      "metadata": {
        "colab": {
          "base_uri": "https://localhost:8080/"
        },
        "id": "zJhDGnQH6u0Q",
        "outputId": "d300e0ee-1219-4a1b-dafd-e197d93ea79c"
      },
      "outputs": [
        {
          "output_type": "stream",
          "name": "stdout",
          "text": [
            "10000\n",
            "0.09122250266137444 543\n"
          ]
        }
      ],
      "source": [
        "def update():\n",
        "  for i in range(4):\n",
        "    global w\n",
        "    w=w-alpha*(2*w*x[i]*x[i]-2*x[i]*y[i])\n",
        "\n",
        "import numpy as np\n",
        "x=np.array([100,90,95,70])\n",
        "y=np.array([10,8,9,5])\n",
        "global alpha\n",
        "alpha=1e-6\n",
        "global w\n",
        "w=1/20\n",
        "a=int(input())\n",
        "for i in range(a):\n",
        "  bw=w\n",
        "  update()\n",
        "  if bw==w:\n",
        "    break\n",
        "\n",
        "\n",
        "print(w,i)"
      ]
    },
    {
      "cell_type": "code",
      "source": [],
      "metadata": {
        "id": "MjvMsNSE8bV9"
      },
      "execution_count": null,
      "outputs": []
    }
  ]
}