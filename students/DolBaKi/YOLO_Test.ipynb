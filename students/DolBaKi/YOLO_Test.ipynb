{
  "nbformat": 4,
  "nbformat_minor": 0,
  "metadata": {
    "colab": {
      "provenance": [],
      "gpuType": "T4",
      "authorship_tag": "ABX9TyOMGXzXTYmDGX1f7cF84NnK",
      "include_colab_link": true
    },
    "kernelspec": {
      "name": "python3",
      "display_name": "Python 3"
    },
    "language_info": {
      "name": "python"
    },
    "accelerator": "GPU"
  },
  "cells": [
    {
      "cell_type": "markdown",
      "metadata": {
        "id": "view-in-github",
        "colab_type": "text"
      },
      "source": [
        "<a href=\"https://colab.research.google.com/github/enjoyPG/2023Gifted/blob/main/students/DolBaKi/YOLO_Test.ipynb\" target=\"_parent\"><img src=\"https://colab.research.google.com/assets/colab-badge.svg\" alt=\"Open In Colab\"/></a>"
      ]
    },
    {
      "cell_type": "code",
      "execution_count": 1,
      "metadata": {
        "colab": {
          "base_uri": "https://localhost:8080/"
        },
        "id": "LpPUreggNhJI",
        "outputId": "07b9f288-26c9-44a2-b324-86b62816d99c"
      },
      "outputs": [
        {
          "output_type": "stream",
          "name": "stdout",
          "text": [
            "Cloning into 'Materials1'...\n",
            "remote: Enumerating objects: 595, done.\u001b[K\n",
            "remote: Counting objects: 100% (37/37), done.\u001b[K\n",
            "remote: Compressing objects: 100% (37/37), done.\u001b[K\n",
            "remote: Total 595 (delta 1), reused 0 (delta 0), pack-reused 558\u001b[K\n",
            "Receiving objects: 100% (595/595), 95.48 MiB | 14.03 MiB/s, done.\n",
            "Resolving deltas: 100% (16/16), done.\n",
            "Cloning into 'yolov5'...\n",
            "remote: Enumerating objects: 15967, done.\u001b[K\n",
            "remote: Total 15967 (delta 0), reused 0 (delta 0), pack-reused 15967\u001b[K\n",
            "Receiving objects: 100% (15967/15967), 14.56 MiB | 8.45 MiB/s, done.\n",
            "Resolving deltas: 100% (10966/10966), done.\n",
            "/content/yolov5\n",
            "\u001b[2K     \u001b[90m━━━━━━━━━━━━━━━━━━━━━━━━━━━━━━━━━━━━━━━\u001b[0m \u001b[32m189.5/189.5 kB\u001b[0m \u001b[31m3.2 MB/s\u001b[0m eta \u001b[36m0:00:00\u001b[0m\n",
            "\u001b[2K     \u001b[90m━━━━━━━━━━━━━━━━━━━━━━━━━━━━━━━━━━━━━━\u001b[0m \u001b[32m617.0/617.0 kB\u001b[0m \u001b[31m33.4 MB/s\u001b[0m eta \u001b[36m0:00:00\u001b[0m\n",
            "\u001b[2K     \u001b[90m━━━━━━━━━━━━━━━━━━━━━━━━━━━━━━━━━━━━━━━━\u001b[0m \u001b[32m62.7/62.7 kB\u001b[0m \u001b[31m7.8 MB/s\u001b[0m eta \u001b[36m0:00:00\u001b[0m\n",
            "\u001b[?25h"
          ]
        }
      ],
      "source": [
        "!git clone https://github.com/DolBaKi/Materials1 # 데이터세트\n",
        "!git clone https://github.com/ultralytics/yolov5 # YOLO\n",
        "%cd yolov5\n",
        "!pip install -qr requirements.txt"
      ]
    },
    {
      "cell_type": "code",
      "source": [
        "!python val.py --task test --data /content/Materials1/dataset/headkart_for_yolov5/data.yaml --img 600 --weight best.pt --iou-thres 0.1"
      ],
      "metadata": {
        "colab": {
          "base_uri": "https://localhost:8080/"
        },
        "id": "4olZpNLEOH3K",
        "outputId": "3f5eb06e-d14d-4c10-b377-b6c02ce5c365"
      },
      "execution_count": 4,
      "outputs": [
        {
          "output_type": "stream",
          "name": "stdout",
          "text": [
            "\u001b[34m\u001b[1mval: \u001b[0mdata=/content/Materials1/dataset/headkart_for_yolov5/data.yaml, weights=['best.pt'], batch_size=32, imgsz=600, conf_thres=0.001, iou_thres=0.1, max_det=300, task=test, device=, workers=8, single_cls=False, augment=False, verbose=False, save_txt=False, save_hybrid=False, save_conf=False, save_json=False, project=runs/val, name=exp, exist_ok=False, half=False, dnn=False\n",
            "YOLOv5 🚀 v7.0-218-g9e97ac3 Python-3.10.12 torch-2.0.1+cu118 CUDA:0 (Tesla T4, 15102MiB)\n",
            "\n",
            "Fusing layers... \n",
            "YOLOv5s summary: 157 layers, 7015519 parameters, 0 gradients, 15.8 GFLOPs\n",
            "WARNING ⚠️ --img-size 600 must be multiple of max stride 32, updating to 608\n",
            "\u001b[34m\u001b[1mtest: \u001b[0mScanning /content/Materials1/dataset/headkart_for_yolov5/test/labels.cache... 8 images, 0 backgrounds, 0 corrupt: 100% 8/8 [00:00<?, ?it/s]\n",
            "                 Class     Images  Instances          P          R      mAP50   mAP50-95: 100% 1/1 [00:00<00:00,  1.85it/s]\n",
            "                   all          8         16      0.993          1      0.995      0.736\n",
            "                  head          8          8      0.994          1      0.995      0.756\n",
            "                  kart          8          8      0.992          1      0.995      0.716\n",
            "Speed: 0.2ms pre-process, 22.0ms inference, 2.7ms NMS per image at shape (32, 3, 608, 608)\n",
            "Results saved to \u001b[1mruns/val/exp3\u001b[0m\n"
          ]
        }
      ]
    }
  ]
}