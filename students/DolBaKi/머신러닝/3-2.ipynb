{
  "nbformat": 4,
  "nbformat_minor": 0,
  "metadata": {
    "colab": {
      "provenance": [],
      "authorship_tag": "ABX9TyP2H6j3B7xqe7pTSioA/KpX",
      "include_colab_link": true
    },
    "kernelspec": {
      "name": "python3",
      "display_name": "Python 3"
    },
    "language_info": {
      "name": "python"
    }
  },
  "cells": [
    {
      "cell_type": "markdown",
      "metadata": {
        "id": "view-in-github",
        "colab_type": "text"
      },
      "source": [
        "<a href=\"https://colab.research.google.com/github/enjoyPG/2023Gifted/blob/main/students/DolBaKi/%EB%A8%B8%EC%8B%A0%EB%9F%AC%EB%8B%9D/3-2.ipynb\" target=\"_parent\"><img src=\"https://colab.research.google.com/assets/colab-badge.svg\" alt=\"Open In Colab\"/></a>"
      ]
    },
    {
      "cell_type": "markdown",
      "source": [
        "### 선형 회귀\n",
        " * 하는 이유 : knn의 한계(주변 len에 대한 wei값이 없다!)"
      ],
      "metadata": {
        "id": "Wi_ij5N4wGIf"
      }
    },
    {
      "cell_type": "code",
      "execution_count": null,
      "metadata": {
        "id": "hdI7EOr0vqFr"
      },
      "outputs": [],
      "source": [
        "import numpy as np\n",
        "\n",
        "perch_length = np.array(\n",
        "    [8.4, 13.7, 15.0, 16.2, 17.4, 18.0, 18.7, 19.0, 19.6, 20.0, \n",
        "     21.0, 21.0, 21.0, 21.3, 22.0, 22.0, 22.0, 22.0, 22.0, 22.5, \n",
        "     22.5, 22.7, 23.0, 23.5, 24.0, 24.0, 24.6, 25.0, 25.6, 26.5, \n",
        "     27.3, 27.5, 27.5, 27.5, 28.0, 28.7, 30.0, 32.8, 34.5, 35.0, \n",
        "     36.5, 36.0, 37.0, 37.0, 39.0, 39.0, 39.0, 40.0, 40.0, 40.0, \n",
        "     40.0, 42.0, 43.0, 43.0, 43.5, 44.0]\n",
        "     )\n",
        "perch_weight = np.array(\n",
        "    [5.9, 32.0, 40.0, 51.5, 70.0, 100.0, 78.0, 80.0, 85.0, 85.0, \n",
        "     110.0, 115.0, 125.0, 130.0, 120.0, 120.0, 130.0, 135.0, 110.0, \n",
        "     130.0, 150.0, 145.0, 150.0, 170.0, 225.0, 145.0, 188.0, 180.0, \n",
        "     197.0, 218.0, 300.0, 260.0, 265.0, 250.0, 250.0, 300.0, 320.0, \n",
        "     514.0, 556.0, 840.0, 685.0, 700.0, 700.0, 690.0, 900.0, 650.0, \n",
        "     820.0, 850.0, 900.0, 1015.0, 820.0, 1100.0, 1000.0, 1100.0, \n",
        "     1000.0, 1000.0]\n",
        "     )"
      ]
    },
    {
      "cell_type": "code",
      "source": [
        "from sklearn.model_selection import train_test_split\n",
        "train_input,test_input,train_target,test_target=train_test_split(perch_length,perch_weight,random_state=42)\n",
        "train_input=train_input.reshape(-1,1)\n",
        "test_input=test_input.reshape(-1,1)"
      ],
      "metadata": {
        "id": "PuoC2pbgwxbl"
      },
      "execution_count": null,
      "outputs": []
    },
    {
      "cell_type": "code",
      "source": [
        "from sklearn.neighbors import KNeighborsRegressor\n",
        "import matplotlib.pyplot as plt\n",
        "knr=KNeighborsRegressor(n_neighbors=3)\n",
        "knr.fit(train_input,train_target)"
      ],
      "metadata": {
        "colab": {
          "base_uri": "https://localhost:8080/",
          "height": 75
        },
        "id": "ZA0AR3ApxHC6",
        "outputId": "ef19da2c-1f25-4e09-8124-08c4aa3562e9"
      },
      "execution_count": null,
      "outputs": [
        {
          "output_type": "execute_result",
          "data": {
            "text/plain": [
              "KNeighborsRegressor(n_neighbors=3)"
            ],
            "text/html": [
              "<style>#sk-container-id-1 {color: black;background-color: white;}#sk-container-id-1 pre{padding: 0;}#sk-container-id-1 div.sk-toggleable {background-color: white;}#sk-container-id-1 label.sk-toggleable__label {cursor: pointer;display: block;width: 100%;margin-bottom: 0;padding: 0.3em;box-sizing: border-box;text-align: center;}#sk-container-id-1 label.sk-toggleable__label-arrow:before {content: \"▸\";float: left;margin-right: 0.25em;color: #696969;}#sk-container-id-1 label.sk-toggleable__label-arrow:hover:before {color: black;}#sk-container-id-1 div.sk-estimator:hover label.sk-toggleable__label-arrow:before {color: black;}#sk-container-id-1 div.sk-toggleable__content {max-height: 0;max-width: 0;overflow: hidden;text-align: left;background-color: #f0f8ff;}#sk-container-id-1 div.sk-toggleable__content pre {margin: 0.2em;color: black;border-radius: 0.25em;background-color: #f0f8ff;}#sk-container-id-1 input.sk-toggleable__control:checked~div.sk-toggleable__content {max-height: 200px;max-width: 100%;overflow: auto;}#sk-container-id-1 input.sk-toggleable__control:checked~label.sk-toggleable__label-arrow:before {content: \"▾\";}#sk-container-id-1 div.sk-estimator input.sk-toggleable__control:checked~label.sk-toggleable__label {background-color: #d4ebff;}#sk-container-id-1 div.sk-label input.sk-toggleable__control:checked~label.sk-toggleable__label {background-color: #d4ebff;}#sk-container-id-1 input.sk-hidden--visually {border: 0;clip: rect(1px 1px 1px 1px);clip: rect(1px, 1px, 1px, 1px);height: 1px;margin: -1px;overflow: hidden;padding: 0;position: absolute;width: 1px;}#sk-container-id-1 div.sk-estimator {font-family: monospace;background-color: #f0f8ff;border: 1px dotted black;border-radius: 0.25em;box-sizing: border-box;margin-bottom: 0.5em;}#sk-container-id-1 div.sk-estimator:hover {background-color: #d4ebff;}#sk-container-id-1 div.sk-parallel-item::after {content: \"\";width: 100%;border-bottom: 1px solid gray;flex-grow: 1;}#sk-container-id-1 div.sk-label:hover label.sk-toggleable__label {background-color: #d4ebff;}#sk-container-id-1 div.sk-serial::before {content: \"\";position: absolute;border-left: 1px solid gray;box-sizing: border-box;top: 0;bottom: 0;left: 50%;z-index: 0;}#sk-container-id-1 div.sk-serial {display: flex;flex-direction: column;align-items: center;background-color: white;padding-right: 0.2em;padding-left: 0.2em;position: relative;}#sk-container-id-1 div.sk-item {position: relative;z-index: 1;}#sk-container-id-1 div.sk-parallel {display: flex;align-items: stretch;justify-content: center;background-color: white;position: relative;}#sk-container-id-1 div.sk-item::before, #sk-container-id-1 div.sk-parallel-item::before {content: \"\";position: absolute;border-left: 1px solid gray;box-sizing: border-box;top: 0;bottom: 0;left: 50%;z-index: -1;}#sk-container-id-1 div.sk-parallel-item {display: flex;flex-direction: column;z-index: 1;position: relative;background-color: white;}#sk-container-id-1 div.sk-parallel-item:first-child::after {align-self: flex-end;width: 50%;}#sk-container-id-1 div.sk-parallel-item:last-child::after {align-self: flex-start;width: 50%;}#sk-container-id-1 div.sk-parallel-item:only-child::after {width: 0;}#sk-container-id-1 div.sk-dashed-wrapped {border: 1px dashed gray;margin: 0 0.4em 0.5em 0.4em;box-sizing: border-box;padding-bottom: 0.4em;background-color: white;}#sk-container-id-1 div.sk-label label {font-family: monospace;font-weight: bold;display: inline-block;line-height: 1.2em;}#sk-container-id-1 div.sk-label-container {text-align: center;}#sk-container-id-1 div.sk-container {/* jupyter's `normalize.less` sets `[hidden] { display: none; }` but bootstrap.min.css set `[hidden] { display: none !important; }` so we also need the `!important` here to be able to override the default hidden behavior on the sphinx rendered scikit-learn.org. See: https://github.com/scikit-learn/scikit-learn/issues/21755 */display: inline-block !important;position: relative;}#sk-container-id-1 div.sk-text-repr-fallback {display: none;}</style><div id=\"sk-container-id-1\" class=\"sk-top-container\"><div class=\"sk-text-repr-fallback\"><pre>KNeighborsRegressor(n_neighbors=3)</pre><b>In a Jupyter environment, please rerun this cell to show the HTML representation or trust the notebook. <br />On GitHub, the HTML representation is unable to render, please try loading this page with nbviewer.org.</b></div><div class=\"sk-container\" hidden><div class=\"sk-item\"><div class=\"sk-estimator sk-toggleable\"><input class=\"sk-toggleable__control sk-hidden--visually\" id=\"sk-estimator-id-1\" type=\"checkbox\" checked><label for=\"sk-estimator-id-1\" class=\"sk-toggleable__label sk-toggleable__label-arrow\">KNeighborsRegressor</label><div class=\"sk-toggleable__content\"><pre>KNeighborsRegressor(n_neighbors=3)</pre></div></div></div></div></div>"
            ]
          },
          "metadata": {},
          "execution_count": 5
        }
      ]
    },
    {
      "cell_type": "code",
      "source": [
        "print(knr.predict([[50]]))"
      ],
      "metadata": {
        "colab": {
          "base_uri": "https://localhost:8080/"
        },
        "id": "M9Fsxd5zzmG7",
        "outputId": "0be6bcaa-fe81-4da4-bc1f-b49c5b282104"
      },
      "execution_count": null,
      "outputs": [
        {
          "output_type": "stream",
          "name": "stdout",
          "text": [
            "[1033.33333333]\n"
          ]
        }
      ]
    },
    {
      "cell_type": "code",
      "source": [
        "distances,indexes=knr.kneighbors([[50]])\n",
        "plt.scatter(train_input,train_target)\n",
        "plt.scatter(train_input[indexes],train_target[indexes],marker='D')\n",
        "plt.scatter(50,1033,marker='^')\n",
        "plt.xlabel('len')\n",
        "plt.ylabel('wei')\n",
        "plt.show()"
      ],
      "metadata": {
        "colab": {
          "base_uri": "https://localhost:8080/",
          "height": 279
        },
        "id": "BUcEF4n0zpy0",
        "outputId": "1fe8630e-df7a-4a02-bd10-f0f79e51d2ab"
      },
      "execution_count": null,
      "outputs": [
        {
          "output_type": "display_data",
          "data": {
            "text/plain": [
              "<Figure size 432x288 with 1 Axes>"
            ],
            "image/png": "[encoded data removed]"
          },
          "metadata": {
            "needs_background": "light"
          }
        }
      ]
    },
    {
      "cell_type": "code",
      "source": [
        "print(np.mean(train_target[indexes]))"
      ],
      "metadata": {
        "colab": {
          "base_uri": "https://localhost:8080/"
        },
        "id": "N1V1Qou1z4SC",
        "outputId": "464da265-3310-4dd4-9ee7-b5cbce41422a"
      },
      "execution_count": null,
      "outputs": [
        {
          "output_type": "stream",
          "name": "stdout",
          "text": [
            "1033.3333333333333\n"
          ]
        }
      ]
    },
    {
      "cell_type": "code",
      "source": [
        "print(knr.predict([[100]])) # 이건 확실히 문제가 있다. 데이터가 한정되어있을 때 데이터를 예측할 수 있는 것이 필요해!"
      ],
      "metadata": {
        "colab": {
          "base_uri": "https://localhost:8080/"
        },
        "id": "yIObtmmsz8od",
        "outputId": "a562abab-773e-4543-a0a9-eb0cb2863422"
      },
      "execution_count": null,
      "outputs": [
        {
          "output_type": "stream",
          "name": "stdout",
          "text": [
            "[1033.33333333]\n"
          ]
        }
      ]
    },
    {
      "cell_type": "code",
      "source": [
        "distances,indexes=knr.kneighbors([[100]])\n",
        "plt.scatter(train_input,train_target)\n",
        "plt.scatter(train_input[indexes],train_target[indexes],marker='D')\n",
        "plt.scatter(100,1033,marker='^')\n",
        "plt.xlabel('len')\n",
        "plt.ylabel('wei')\n",
        "plt.show()\n",
        "# 그래프가 심각하군... 최근접으로 하다간 망하겠어\n",
        "# 머신러닝 모델은 주기적으로 훈련이 필요! 시간과 환경이 변하면서 데이터도 바뀌기 때문에 주기적 업데이트가 필수적으로 된다."
      ],
      "metadata": {
        "colab": {
          "base_uri": "https://localhost:8080/",
          "height": 279
        },
        "id": "p4UThcBH0B8S",
        "outputId": "cfd38c9b-d2e6-4632-ae3d-c46bc596b1a7"
      },
      "execution_count": null,
      "outputs": [
        {
          "output_type": "display_data",
          "data": {
            "text/plain": [
              "<Figure size 432x288 with 1 Axes>"
            ],
            "image/png": "[encoded data removed]"
          },
          "metadata": {
            "needs_background": "light"
          }
        }
      ]
    },
    {
      "cell_type": "markdown",
      "source": [
        "### 선형 회귀\n",
        "### 밑 그림 참고\n",
        " * 결론 : 결정계수가 중요하다\n",
        "![image.png](data:image/png;base64,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)"
      ],
      "metadata": {
        "id": "sfFcO0PQ1EuG"
      }
    },
    {
      "cell_type": "code",
      "source": [
        "from sklearn.linear_model import LinearRegression # 선형 회귀\n",
        "lr=LinearRegression()\n",
        "lr.fit(train_input,train_target)\n",
        "print(lr.predict([[50]]))\n",
        "# 그나마 비슷. 그러나 나는 더 완벽을 추구한다 우오오"
      ],
      "metadata": {
        "colab": {
          "base_uri": "https://localhost:8080/"
        },
        "id": "SB0KzIKQ0w0K",
        "outputId": "39805e51-d4fa-4381-88cf-b6a83aad7f76"
      },
      "execution_count": null,
      "outputs": [
        {
          "output_type": "stream",
          "name": "stdout",
          "text": [
            "[1241.83860323]\n"
          ]
        }
      ]
    },
    {
      "cell_type": "code",
      "source": [
        "print(lr.coef_,lr.intercept_) # 머신러닝에서 기울기를 종종 계수 혹은 가중치라 한다"
      ],
      "metadata": {
        "colab": {
          "base_uri": "https://localhost:8080/"
        },
        "id": "f-lwmojf1wpI",
        "outputId": "a505f837-cdc8-42bd-974a-7cd64c13479c"
      },
      "execution_count": null,
      "outputs": [
        {
          "output_type": "stream",
          "name": "stdout",
          "text": [
            "[39.01714496] -709.0186449535477\n"
          ]
        }
      ]
    },
    {
      "cell_type": "code",
      "source": [
        "plt.scatter(train_input,train_target)\n",
        "plt.plot([15,50],[15*lr.coef_+lr.intercept_,50*lr.coef_+lr.intercept_]) # 1차함수 그래프\n",
        "plt.scatter(50,1241.8,marker='^') # 예측한 길이 50에 맞는 무게\n",
        "plt.xlabel('len')\n",
        "plt.ylabel('wei')\n",
        "plt.show()\n",
        "# 어느정도 믿을 만 하다"
      ],
      "metadata": {
        "colab": {
          "base_uri": "https://localhost:8080/",
          "height": 279
        },
        "id": "glYDiyWj2GuC",
        "outputId": "079cbdb2-6cc0-4bbc-9508-6b41599e5cd3"
      },
      "execution_count": null,
      "outputs": [
        {
          "output_type": "display_data",
          "data": {
            "text/plain": [
              "<Figure size 432x288 with 1 Axes>"
            ],
            "image/png": "[encoded data removed]"
          },
          "metadata": {
            "needs_background": "light"
          }
        }
      ]
    },
    {
      "cell_type": "code",
      "source": [
        "# 결정계수 확인\n",
        "print(lr.score(train_input,train_target))\n",
        "print(lr.score(test_input,test_target))\n",
        "# 조금 차이가 나서 해결할 방법을 찾아보니 선을 곡선으로 만들면 되겠구나라는 생각을 함\n",
        "# 그래서 나온 게 다항 회귀"
      ],
      "metadata": {
        "colab": {
          "base_uri": "https://localhost:8080/"
        },
        "id": "0VLmRFds2gh6",
        "outputId": "2dcf7f14-4e27-4913-d257-3df11cd62546"
      },
      "execution_count": null,
      "outputs": [
        {
          "output_type": "stream",
          "name": "stdout",
          "text": [
            "0.939846333997604\n",
            "0.8247503123313558\n"
          ]
        }
      ]
    },
    {
      "cell_type": "code",
      "source": [
        "# 2차방정식 그리려면 길이 제곱한 항이 훈련 세트 추가되어야 함\n",
        "train_poly=np.column_stack((train_input**2,train_input))\n",
        "test_poly=np.column_stack((test_input**2,test_input))"
      ],
      "metadata": {
        "id": "Gn6Ewjdh26w1"
      },
      "execution_count": null,
      "outputs": []
    },
    {
      "cell_type": "code",
      "source": [
        "print(train_poly.shape,test_poly.shape)"
      ],
      "metadata": {
        "colab": {
          "base_uri": "https://localhost:8080/"
        },
        "id": "res_5Dgm3qbG",
        "outputId": "d77d6657-5ea7-480a-937a-c30507049360"
      },
      "execution_count": null,
      "outputs": [
        {
          "output_type": "stream",
          "name": "stdout",
          "text": [
            "(42, 2) (14, 2)\n"
          ]
        }
      ]
    },
    {
      "cell_type": "code",
      "source": [
        "lr=LinearRegression()\n",
        "lr.fit(train_poly,train_target)\n",
        "print(lr.predict([[50**2,50]]))"
      ],
      "metadata": {
        "colab": {
          "base_uri": "https://localhost:8080/"
        },
        "id": "4vho_mBb3uqK",
        "outputId": "9a708c21-34fe-4209-9d50-bc6c8f42cd85"
      },
      "execution_count": null,
      "outputs": [
        {
          "output_type": "stream",
          "name": "stdout",
          "text": [
            "[1573.98423528]\n"
          ]
        }
      ]
    },
    {
      "cell_type": "code",
      "source": [
        "print(lr.coef_,lr.intercept_)\n",
        "# 무게 = 1.01*길이^2 - 21.6*길이 + 116.05"
      ],
      "metadata": {
        "colab": {
          "base_uri": "https://localhost:8080/"
        },
        "id": "ELV1FUpO4ViT",
        "outputId": "391a0e47-dd95-44cc-e412-9d5a45e16c72"
      },
      "execution_count": null,
      "outputs": [
        {
          "output_type": "stream",
          "name": "stdout",
          "text": [
            "[  1.01433211 -21.55792498] 116.0502107827827\n"
          ]
        }
      ]
    },
    {
      "cell_type": "code",
      "source": [
        "point=np.arange(15,51)\n",
        "plt.scatter(train_input,train_target)\n",
        "plt.plot(point,1.01*point**2 - 21.6*point + 116.05)\n",
        "plt.scatter(50,1574,marker='^')\n",
        "plt.xlabel('len')\n",
        "plt.ylabel('wei')\n",
        "plt.show()"
      ],
      "metadata": {
        "colab": {
          "base_uri": "https://localhost:8080/",
          "height": 279
        },
        "id": "_KbLrAQS4qs3",
        "outputId": "3ee3fd8c-8249-47ce-ab33-420de9c4152a"
      },
      "execution_count": null,
      "outputs": [
        {
          "output_type": "display_data",
          "data": {
            "text/plain": [
              "<Figure size 432x288 with 1 Axes>"
            ],
            "image/png": "[encoded data removed]"
          },
          "metadata": {
            "needs_background": "light"
          }
        }
      ]
    },
    {
      "cell_type": "code",
      "source": [
        "print(lr.score(train_poly,train_target))\n",
        "print(lr.score(test_poly,test_target))"
      ],
      "metadata": {
        "colab": {
          "base_uri": "https://localhost:8080/"
        },
        "id": "WNi9xK2z5VAy",
        "outputId": "32af27f6-6955-44ed-9c8f-2356b543ce76"
      },
      "execution_count": null,
      "outputs": [
        {
          "output_type": "stream",
          "name": "stdout",
          "text": [
            "0.9706807451768623\n",
            "0.9775935108325122\n"
          ]
        }
      ]
    },
    {
      "cell_type": "code",
      "source": [
        "# 과소,과대적합에 들지도 않고, 훈련케이스와 테스트케이스랑 차이도 0.7%라 별로 차이 안남"
      ],
      "metadata": {
        "id": "ZOpkYTpe5hpn"
      },
      "execution_count": null,
      "outputs": []
    }
  ]
}