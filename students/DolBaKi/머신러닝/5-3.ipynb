{
  "nbformat": 4,
  "nbformat_minor": 0,
  "metadata": {
    "colab": {
      "provenance": [],
      "authorship_tag": "ABX9TyOuohJRry5sC/enzv/TYfXT",
      "include_colab_link": true
    },
    "kernelspec": {
      "name": "python3",
      "display_name": "Python 3"
    },
    "language_info": {
      "name": "python"
    }
  },
  "cells": [
    {
      "cell_type": "markdown",
      "metadata": {
        "id": "view-in-github",
        "colab_type": "text"
      },
      "source": [
        "<a href=\"https://colab.research.google.com/github/enjoyPG/2023Gifted/blob/main/students/DolBaKi/%EB%A8%B8%EC%8B%A0%EB%9F%AC%EB%8B%9D/5-3.ipynb\" target=\"_parent\"><img src=\"https://colab.research.google.com/assets/colab-badge.svg\" alt=\"Open In Colab\"/></a>"
      ]
    },
    {
      "cell_type": "markdown",
      "source": [
        "###앙상블 학습\n",
        "  * 정형 데이터를 다루기에 최적화되어있는 학습\n",
        "  * 더 좋은 예측 결과를 내기 위해 여러 모델 훈련하는 머신러닝 알고리즘\n",
        "  * 대부분 결정트리 기반\n",
        "  * 데이터량이 적당할 때 많이 사용\n",
        "\n",
        "###부트스트랩\n",
        "  * 데이터 세트 중복 허용 데이터 샘플링 방식\n",
        "  * 특성 수^(1/2)만큼 랜덤 선택\n",
        "  * 남는 샘플을 OOB라고 함\n",
        "  * OOB점수 사용시 교차검증 대신 가능, 훈련세트 효율 증가\n"
      ],
      "metadata": {
        "id": "N6X_j3JkTDnX"
      }
    },
    {
      "cell_type": "code",
      "execution_count": null,
      "metadata": {
        "id": "DLJa2JVkScXt"
      },
      "outputs": [],
      "source": [
        "import numpy as np\n",
        "import pandas as pd\n",
        "from sklearn.model_selection import train_test_split\n",
        "wine=pd.read_csv('https://bit.ly/wine_csv_data')\n",
        "data=wine[['alcohol','sugar','pH']].to_numpy()\n",
        "target=wine['class'].to_numpy()\n",
        "train_input,test_input,train_target,test_target=train_test_split(data, target,test_size=0.2,random_state=42)"
      ]
    },
    {
      "cell_type": "code",
      "source": [
        "from sklearn.model_selection import cross_validate\n",
        "from sklearn.ensemble import RandomForestClassifier\n",
        "rf=RandomForestClassifier(n_jobs=-1,random_state=42)\n",
        "scores=cross_validate(rf, train_input,train_target,return_train_score=True,n_jobs=-1)\n",
        "print(np.mean(scores['train_score']),np.mean(scores['test_score']))"
      ],
      "metadata": {
        "colab": {
          "base_uri": "https://localhost:8080/"
        },
        "id": "HAQQcwdbSiob",
        "outputId": "23a90d42-2f97-47a5-dca3-390538d44ea8"
      },
      "execution_count": null,
      "outputs": [
        {
          "output_type": "stream",
          "name": "stdout",
          "text": [
            "0.9973541965122431 0.8905151032797809\n"
          ]
        }
      ]
    },
    {
      "cell_type": "code",
      "source": [
        "rf.fit(train_input,train_target)\n",
        "print(rf.feature_importances_)"
      ],
      "metadata": {
        "colab": {
          "base_uri": "https://localhost:8080/"
        },
        "id": "B0po0pjCSpoP",
        "outputId": "5320c9a8-f04b-4d39-d9cc-552905e3ae23"
      },
      "execution_count": null,
      "outputs": [
        {
          "output_type": "stream",
          "name": "stdout",
          "text": [
            "[0.23167441 0.50039841 0.26792718]\n"
          ]
        }
      ]
    },
    {
      "cell_type": "markdown",
      "source": [
        "전보다 더 줄음\n",
        "\n",
        "과대적합률 감소, 조금 더 많은 특성들이 훈련에 기여 가능"
      ],
      "metadata": {
        "id": "bxlxG8HmPKvW"
      }
    },
    {
      "cell_type": "code",
      "source": [
        "rf = RandomForestClassifier(oob_score=True, n_jobs=-1,random_state=42)\n",
        "rf.fit(train_input,train_target)\n",
        "print(rf.oob_score_)"
      ],
      "metadata": {
        "colab": {
          "base_uri": "https://localhost:8080/"
        },
        "id": "uQr-VZffStxc",
        "outputId": "5b72abfd-0a04-4845-b063-de8117773249"
      },
      "execution_count": null,
      "outputs": [
        {
          "output_type": "stream",
          "name": "stdout",
          "text": [
            "0.8934000384837406\n"
          ]
        }
      ]
    },
    {
      "cell_type": "markdown",
      "source": [
        "###엑슽으라틀이\n",
        " * 랜덤포레스트와 차이:**부트스트랩 사용안함**\n",
        " * 엑스트라 트리가 사용하는 결정 트리:splitter='random'\n",
        " * 랜덤하게 노드 분할\n",
        "\n"
      ],
      "metadata": {
        "id": "lL4CjdLLSzFR"
      }
    },
    {
      "cell_type": "code",
      "source": [
        "from sklearn.ensemble import ExtraTreesClassifier\n",
        "et=ExtraTreesClassifier(n_jobs=-1,random_state=42)\n",
        "scores=cross_validate(et,train_input,train_target,return_train_score=True,n_jobs=-1) # cross_validate는 교차 검증\n",
        "print(np.mean(scores['train_score']),np.mean(scores['test_score']))"
      ],
      "metadata": {
        "colab": {
          "base_uri": "https://localhost:8080/"
        },
        "id": "AZQsbT_zSwVY",
        "outputId": "52e8485d-3fe3-4258-b40b-b5d76f829783"
      },
      "execution_count": null,
      "outputs": [
        {
          "output_type": "stream",
          "name": "stdout",
          "text": [
            "0.9974503966084433 0.8887848893166506\n"
          ]
        }
      ]
    },
    {
      "cell_type": "code",
      "source": [
        "et.fit(train_input,train_target)\n",
        "print(et.feature_importances_)"
      ],
      "metadata": {
        "colab": {
          "base_uri": "https://localhost:8080/"
        },
        "id": "aPZoy4B3S6rk",
        "outputId": "7a4c3ec8-6b96-4d33-fd83-a14e9cfa6ed8"
      },
      "execution_count": null,
      "outputs": [
        {
          "output_type": "stream",
          "name": "stdout",
          "text": [
            "[0.20183568 0.52242907 0.27573525]\n"
          ]
        }
      ]
    },
    {
      "cell_type": "markdown",
      "source": [
        "###Gradient Boost\n",
        " * 깊이 얕은 결정트리 사용해 이전 트리의 오차를 보완하는 방식\n",
        " * 깊이가 얕아 **과대적합에 강하고 높은 일반화 성능**을 가짐"
      ],
      "metadata": {
        "id": "5Qb16TvfTJvG"
      }
    },
    {
      "cell_type": "code",
      "source": [
        "from sklearn.ensemble import GradientBoostingClassifier\n",
        "gb=GradientBoostingClassifier(random_state=42)\n",
        "scores=cross_validate(gb,train_input,train_target,return_train_score=True,n_jobs=-1)\n",
        "print(np.mean(scores['train_score']),np.mean(scores['test_score']))"
      ],
      "metadata": {
        "colab": {
          "base_uri": "https://localhost:8080/"
        },
        "id": "AX4KixguTIZJ",
        "outputId": "c3df4608-71e8-4b7d-ed13-9b862fdc94ff"
      },
      "execution_count": null,
      "outputs": [
        {
          "output_type": "stream",
          "name": "stdout",
          "text": [
            "0.8881086892152563 0.8720430147331015\n"
          ]
        }
      ]
    },
    {
      "cell_type": "markdown",
      "source": [
        "#진짜 강하다"
      ],
      "metadata": {
        "id": "A1iJ8qq5SbuV"
      }
    },
    {
      "cell_type": "code",
      "source": [
        "gb=GradientBoostingClassifier(n_estimators=500,learning_rate=0.2,random_state=42)\n",
        "scores=cross_validate(gb,train_input,train_target,return_train_score=True,n_jobs=-1)\n",
        "\n",
        "print(np.mean(scores['train_score']),np.mean(scores['test_score']))"
      ],
      "metadata": {
        "colab": {
          "base_uri": "https://localhost:8080/"
        },
        "id": "50krfBLeTfmV",
        "outputId": "d60263a3-6f81-4ce8-c332-c1eefd4a7ea2"
      },
      "execution_count": null,
      "outputs": [
        {
          "output_type": "stream",
          "name": "stdout",
          "text": [
            "0.9464595437171814 0.8780082549788999\n"
          ]
        }
      ]
    },
    {
      "cell_type": "code",
      "source": [
        "gb.fit(train_input,train_target)\n",
        "print(gb.feature_importances_)"
      ],
      "metadata": {
        "colab": {
          "base_uri": "https://localhost:8080/"
        },
        "id": "lng694T-TmiZ",
        "outputId": "373f0c89-a860-4de5-fe40-459567cb2c04"
      },
      "execution_count": null,
      "outputs": [
        {
          "output_type": "stream",
          "name": "stdout",
          "text": [
            "[0.15872278 0.68010884 0.16116839]\n"
          ]
        }
      ]
    },
    {
      "cell_type": "markdown",
      "source": [
        "###힛읕오깁안 붓읕잉\n",
        " * 미리 256개 구간으로 나눠서 노드 분할 시 최적분할을 매우 빠르게 찾을 수 있음\n",
        " * 입력 누락되어도 따로 전처리할 이유 없음\n",
        " * 빠르고 편리해서 인기 많음"
      ],
      "metadata": {
        "id": "3oTEQCl_Tss2"
      }
    },
    {
      "cell_type": "code",
      "source": [
        "from sklearn.ensemble import HistGradientBoostingClassifier\n",
        "hgb=HistGradientBoostingClassifier(random_state=42)\n",
        "scores=cross_validate(hgb,train_input,train_target,return_train_score=True,n_jobs=-1)\n",
        "print(np.mean(scores['train_score']),np.mean(scores['test_score']))"
      ],
      "metadata": {
        "colab": {
          "base_uri": "https://localhost:8080/"
        },
        "id": "zfIQtQwUTqhb",
        "outputId": "7e30b599-a637-470b-858c-e1bc5536dd71"
      },
      "execution_count": null,
      "outputs": [
        {
          "output_type": "stream",
          "name": "stdout",
          "text": [
            "0.9321723946453317 0.8801241948619236\n"
          ]
        }
      ]
    },
    {
      "cell_type": "code",
      "source": [
        "from sklearn.inspection import permutation_importance\n",
        "hgb.fit(train_input, train_target)\n",
        "result=permutation_importance(hgb,train_input,train_target,n_repeats=10,random_state=42,n_jobs=-1)\n",
        "print(result.importances_mean)"
      ],
      "metadata": {
        "colab": {
          "base_uri": "https://localhost:8080/"
        },
        "id": "QiQXIcsvT7QH",
        "outputId": "884ff50b-4320-42b8-cf31-c28e0fb73ec1"
      },
      "execution_count": null,
      "outputs": [
        {
          "output_type": "stream",
          "name": "stdout",
          "text": [
            "[0.08876275 0.23438522 0.08027708]\n"
          ]
        }
      ]
    },
    {
      "cell_type": "code",
      "source": [
        "result=permutation_importance(hgb,test_input,test_target,n_repeats=10,random_state=42,n_jobs=-1)\n",
        "print(result.importances_mean)"
      ],
      "metadata": {
        "colab": {
          "base_uri": "https://localhost:8080/"
        },
        "id": "M2JdTNtVUAzq",
        "outputId": "8d4b68a6-99df-4afd-f588-f7d840e8f7e4"
      },
      "execution_count": null,
      "outputs": [
        {
          "output_type": "stream",
          "name": "stdout",
          "text": [
            "[0.05969231 0.20238462 0.049     ]\n"
          ]
        }
      ]
    },
    {
      "cell_type": "code",
      "source": [
        "hgb.score(test_input,test_target)"
      ],
      "metadata": {
        "colab": {
          "base_uri": "https://localhost:8080/"
        },
        "id": "TSObtG5kUGYj",
        "outputId": "227d9b59-179c-4e1c-e7fc-119ece537cec"
      },
      "execution_count": null,
      "outputs": [
        {
          "output_type": "execute_result",
          "data": {
            "text/plain": [
              "0.8723076923076923"
            ]
          },
          "metadata": {},
          "execution_count": 13
        }
      ]
    },
    {
      "cell_type": "code",
      "source": [
        "from xgboost import XGBClassifier\n",
        "xgb=XGBClassifier(tree_method='hist',random_state=42)\n",
        "scores=cross_validate(xgb,train_input,train_target,return_train_score=True,n_jobs=-1)\n",
        "print(np.mean(scores['train_score']),np.mean(scores['test_score']))"
      ],
      "metadata": {
        "colab": {
          "base_uri": "https://localhost:8080/"
        },
        "id": "Lu6NRzESUJdb",
        "outputId": "4368cfa9-a3dc-4f63-bd56-2da494bbf162"
      },
      "execution_count": null,
      "outputs": [
        {
          "output_type": "stream",
          "name": "stdout",
          "text": [
            "0.9555033709953124 0.8799326275264677\n"
          ]
        }
      ]
    },
    {
      "cell_type": "code",
      "source": [
        "from lightgbm import LGBMClassifier\n",
        "lgb=LGBMClassifier(random_state=42)\n",
        "scores = cross_validate(lgb,train_input,train_target,return_train_score=True,n_jobs=-1)\n",
        "print(np.mean(scores['train_score']),np.mean(scores['test_score']))"
      ],
      "metadata": {
        "colab": {
          "base_uri": "https://localhost:8080/"
        },
        "id": "jveJ4KDfUaVB",
        "outputId": "0a6646b0-a2a0-4e55-8c85-4de0c18518aa"
      },
      "execution_count": null,
      "outputs": [
        {
          "output_type": "stream",
          "name": "stdout",
          "text": [
            "0.935828414851749 0.8801251203079884\n"
          ]
        }
      ]
    },
    {
      "cell_type": "code",
      "source": [],
      "metadata": {
        "id": "qV1X2SjKUgFb"
      },
      "execution_count": null,
      "outputs": []
    },
    {
      "cell_type": "markdown",
      "source": [
        "### 사이킷런\n",
        " * 랜덤 포레스트 : 부트스트랩 샘플 사용. 대표 앙상블 학습 알고리즘\n",
        " * 엑스트라 트리 : 결정 트리의 노드를 랜덤하게 분할\n",
        " * 그레이디언트 부스팅 : 이전 트리 손실 보완하는 식으로 얕은 결정트리 연속 추가\n",
        " * 히스토 기반 그레이디언트 부스팅 : 훈련 데이터 256개 정수 구간으로 나눠 빠르고 높은 성능냄"
      ],
      "metadata": {
        "id": "2WfC_6UqUcVW"
      }
    }
  ]
}