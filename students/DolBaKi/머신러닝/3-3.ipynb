{
  "nbformat": 4,
  "nbformat_minor": 0,
  "metadata": {
    "colab": {
      "provenance": [],
      "authorship_tag": "ABX9TyOZ3CpXDHrUlCDrLU3Fu1GM",
      "include_colab_link": true
    },
    "kernelspec": {
      "name": "python3",
      "display_name": "Python 3"
    },
    "language_info": {
      "name": "python"
    }
  },
  "cells": [
    {
      "cell_type": "markdown",
      "metadata": {
        "id": "view-in-github",
        "colab_type": "text"
      },
      "source": [
        "<a href=\"https://colab.research.google.com/github/enjoyPG/2023Gifted/blob/main/students/DolBaKi/%EB%A8%B8%EC%8B%A0%EB%9F%AC%EB%8B%9D/3-3.ipynb\" target=\"_parent\"><img src=\"https://colab.research.google.com/assets/colab-badge.svg\" alt=\"Open In Colab\"/></a>"
      ]
    },
    {
      "cell_type": "markdown",
      "source": [
        "###특성 공학과 규제"
      ],
      "metadata": {
        "id": "Qny_YB93BrNF"
      }
    },
    {
      "cell_type": "code",
      "source": [
        "import pandas as pd\n",
        "df=pd.read_csv('https://bit.ly/perch_csv_data')\n",
        "perch_full=df.to_numpy()\n",
        "print(perch_full)"
      ],
      "metadata": {
        "colab": {
          "base_uri": "https://localhost:8080/"
        },
        "id": "nGyWRbJMB2CY",
        "outputId": "4b3e8476-5af6-4890-bf6b-c667ffa2af88"
      },
      "execution_count": null,
      "outputs": [
        {
          "output_type": "stream",
          "name": "stdout",
          "text": [
            "[[ 8.4   2.11  1.41]\n",
            " [13.7   3.53  2.  ]\n",
            " [15.    3.82  2.43]\n",
            " [16.2   4.59  2.63]\n",
            " [17.4   4.59  2.94]\n",
            " [18.    5.22  3.32]\n",
            " [18.7   5.2   3.12]\n",
            " [19.    5.64  3.05]\n",
            " [19.6   5.14  3.04]\n",
            " [20.    5.08  2.77]\n",
            " [21.    5.69  3.56]\n",
            " [21.    5.92  3.31]\n",
            " [21.    5.69  3.67]\n",
            " [21.3   6.38  3.53]\n",
            " [22.    6.11  3.41]\n",
            " [22.    5.64  3.52]\n",
            " [22.    6.11  3.52]\n",
            " [22.    5.88  3.52]\n",
            " [22.    5.52  4.  ]\n",
            " [22.5   5.86  3.62]\n",
            " [22.5   6.79  3.62]\n",
            " [22.7   5.95  3.63]\n",
            " [23.    5.22  3.63]\n",
            " [23.5   6.28  3.72]\n",
            " [24.    7.29  3.72]\n",
            " [24.    6.38  3.82]\n",
            " [24.6   6.73  4.17]\n",
            " [25.    6.44  3.68]\n",
            " [25.6   6.56  4.24]\n",
            " [26.5   7.17  4.14]\n",
            " [27.3   8.32  5.14]\n",
            " [27.5   7.17  4.34]\n",
            " [27.5   7.05  4.34]\n",
            " [27.5   7.28  4.57]\n",
            " [28.    7.82  4.2 ]\n",
            " [28.7   7.59  4.64]\n",
            " [30.    7.62  4.77]\n",
            " [32.8  10.03  6.02]\n",
            " [34.5  10.26  6.39]\n",
            " [35.   11.49  7.8 ]\n",
            " [36.5  10.88  6.86]\n",
            " [36.   10.61  6.74]\n",
            " [37.   10.84  6.26]\n",
            " [37.   10.57  6.37]\n",
            " [39.   11.14  7.49]\n",
            " [39.   11.14  6.  ]\n",
            " [39.   12.43  7.35]\n",
            " [40.   11.93  7.11]\n",
            " [40.   11.73  7.22]\n",
            " [40.   12.38  7.46]\n",
            " [40.   11.14  6.63]\n",
            " [42.   12.8   6.87]\n",
            " [43.   11.93  7.28]\n",
            " [43.   12.51  7.42]\n",
            " [43.5  12.6   8.14]\n",
            " [44.   12.49  7.6 ]]\n"
          ]
        }
      ]
    },
    {
      "cell_type": "code",
      "source": [
        "import numpy as np\n",
        "\n",
        "perch_weight = np.array(\n",
        "    [5.9, 32.0, 40.0, 51.5, 70.0, 100.0, 78.0, 80.0, 85.0, 85.0, \n",
        "     110.0, 115.0, 125.0, 130.0, 120.0, 120.0, 130.0, 135.0, 110.0, \n",
        "     130.0, 150.0, 145.0, 150.0, 170.0, 225.0, 145.0, 188.0, 180.0, \n",
        "     197.0, 218.0, 300.0, 260.0, 265.0, 250.0, 250.0, 300.0, 320.0, \n",
        "     514.0, 556.0, 840.0, 685.0, 700.0, 700.0, 690.0, 900.0, 650.0, \n",
        "     820.0, 850.0, 900.0, 1015.0, 820.0, 1100.0, 1000.0, 1100.0, \n",
        "     1000.0, 1000.0]\n",
        "     )"
      ],
      "metadata": {
        "id": "7bX4-s0RCFdL"
      },
      "execution_count": null,
      "outputs": []
    },
    {
      "cell_type": "code",
      "source": [
        "from sklearn.model_selection import train_test_split\n",
        "train_input,test_input,train_target,test_target=train_test_split(perch_full, perch_weight, random_state=42)"
      ],
      "metadata": {
        "id": "o6mspj8wCbRD"
      },
      "execution_count": null,
      "outputs": []
    },
    {
      "cell_type": "code",
      "source": [
        "from sklearn.preprocessing import PolynomialFeatures"
      ],
      "metadata": {
        "id": "wEcm3czXCr9O"
      },
      "execution_count": null,
      "outputs": []
    },
    {
      "cell_type": "code",
      "source": [
        "poly=PolynomialFeatures()\n",
        "poly.fit([[2,3]]) # 훈련을 해야 변환이 가능\n",
        "print(poly.transform([[2,3]]))"
      ],
      "metadata": {
        "colab": {
          "base_uri": "https://localhost:8080/"
        },
        "id": "KeOWW-qeCy1k",
        "outputId": "2032b57c-f376-4688-986a-5a9c326f78b3"
      },
      "execution_count": null,
      "outputs": [
        {
          "output_type": "stream",
          "name": "stdout",
          "text": [
            "[[1. 2. 3. 4. 6. 9.]]\n"
          ]
        }
      ]
    },
    {
      "cell_type": "code",
      "source": [
        "poly=PolynomialFeatures(include_bias=False)\n",
        "poly.fit([[2,3]]) # 혼돈을 피하기 위해 명시적으로 지정\n",
        "print(poly.transform([[2,3]]))"
      ],
      "metadata": {
        "colab": {
          "base_uri": "https://localhost:8080/"
        },
        "id": "6xleL80WDNOB",
        "outputId": "da6f80a7-1e5f-4553-fe82-1f36895c7f5b"
      },
      "execution_count": null,
      "outputs": [
        {
          "output_type": "stream",
          "name": "stdout",
          "text": [
            "[[2. 3. 4. 6. 9.]]\n"
          ]
        }
      ]
    },
    {
      "cell_type": "code",
      "source": [
        "poly=PolynomialFeatures(include_bias=False)\n",
        "poly.fit(train_input)\n",
        "train_poly=poly.transform(train_input)\n",
        "print(train_poly.shape)"
      ],
      "metadata": {
        "colab": {
          "base_uri": "https://localhost:8080/"
        },
        "id": "SD44RZ3aDhe8",
        "outputId": "bfb2a11b-3dc3-4116-b8e7-aeba7b709cf9"
      },
      "execution_count": null,
      "outputs": [
        {
          "output_type": "stream",
          "name": "stdout",
          "text": [
            "(42, 9)\n"
          ]
        }
      ]
    },
    {
      "cell_type": "code",
      "source": [
        "poly.get_feature_names_out()"
      ],
      "metadata": {
        "colab": {
          "base_uri": "https://localhost:8080/"
        },
        "id": "G1-5ETYgEArK",
        "outputId": "02c92c39-ebcb-4b2b-d11d-41d0938a268e"
      },
      "execution_count": null,
      "outputs": [
        {
          "output_type": "execute_result",
          "data": {
            "text/plain": [
              "array(['x0', 'x1', 'x2', 'x0^2', 'x0 x1', 'x0 x2', 'x1^2', 'x1 x2',\n",
              "       'x2^2'], dtype=object)"
            ]
          },
          "metadata": {},
          "execution_count": 11
        }
      ]
    },
    {
      "cell_type": "code",
      "source": [
        "test_poly=poly.transform(test_input)"
      ],
      "metadata": {
        "id": "tXzNvZ2MEjDr"
      },
      "execution_count": null,
      "outputs": []
    },
    {
      "cell_type": "markdown",
      "source": [
        "###다중 회귀 모델 훈련"
      ],
      "metadata": {
        "id": "flCHq5vgEqsC"
      }
    },
    {
      "cell_type": "code",
      "source": [
        "from sklearn.linear_model import LinearRegression\n",
        "lr=LinearRegression()\n",
        "lr.fit(train_poly,train_target)\n",
        "print(lr.score(train_poly,train_target))"
      ],
      "metadata": {
        "colab": {
          "base_uri": "https://localhost:8080/"
        },
        "id": "3ACo7h-wEtXv",
        "outputId": "473e1454-1038-4c74-bc2d-f94e8cd1197a"
      },
      "execution_count": null,
      "outputs": [
        {
          "output_type": "stream",
          "name": "stdout",
          "text": [
            "0.9903183436982125\n"
          ]
        }
      ]
    },
    {
      "cell_type": "code",
      "source": [
        "print(lr.score(test_poly,test_target))"
      ],
      "metadata": {
        "colab": {
          "base_uri": "https://localhost:8080/"
        },
        "id": "nMK6DoK_E8lX",
        "outputId": "378e0c93-13e9-44f6-c0b6-0f3959237dbb"
      },
      "execution_count": null,
      "outputs": [
        {
          "output_type": "stream",
          "name": "stdout",
          "text": [
            "0.9714559911594111\n"
          ]
        }
      ]
    },
    {
      "cell_type": "code",
      "source": [
        "poly=PolynomialFeatures(degree=5,include_bias=False)\n",
        "poly.fit(train_input)\n",
        "train_poly=poly.transform(train_input)\n",
        "test_poly=poly.transform(test_input)\n",
        "print(train_poly.shape)"
      ],
      "metadata": {
        "colab": {
          "base_uri": "https://localhost:8080/"
        },
        "id": "7PUcgRVvGcrW",
        "outputId": "dc5b6bc6-7ee9-4112-b18b-8bb150c40684"
      },
      "execution_count": null,
      "outputs": [
        {
          "output_type": "stream",
          "name": "stdout",
          "text": [
            "(42, 55)\n"
          ]
        }
      ]
    },
    {
      "cell_type": "markdown",
      "source": [
        "![image.png](data:image/png;base64,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)\n",
        "###현실고증..."
      ],
      "metadata": {
        "id": "iGK646q8G29n"
      }
    },
    {
      "cell_type": "code",
      "source": [
        "lr.fit(train_poly,train_target)\n",
        "print(lr.score(train_poly,train_target))"
      ],
      "metadata": {
        "colab": {
          "base_uri": "https://localhost:8080/"
        },
        "id": "2xhFi7aXGr1n",
        "outputId": "0333e18e-fa41-4229-cba8-58605cc04a48"
      },
      "execution_count": null,
      "outputs": [
        {
          "output_type": "stream",
          "name": "stdout",
          "text": [
            "0.9999999999996433\n"
          ]
        }
      ]
    },
    {
      "cell_type": "code",
      "source": [
        "print(lr.score(test_poly,test_target),\"\\n이거 맞나요...?\")"
      ],
      "metadata": {
        "colab": {
          "base_uri": "https://localhost:8080/"
        },
        "id": "CGLOTz6aHYNQ",
        "outputId": "0a218867-9439-4dae-d94b-94c6aa2bc00f"
      },
      "execution_count": null,
      "outputs": [
        {
          "output_type": "stream",
          "name": "stdout",
          "text": [
            "-144.40579436844948 \n",
            "이거 맞나요...?\n"
          ]
        }
      ]
    },
    {
      "cell_type": "markdown",
      "source": [
        "###규제"
      ],
      "metadata": {
        "id": "12oaAdD_HpXL"
      }
    },
    {
      "cell_type": "code",
      "source": [
        "from sklearn.preprocessing import StandardScaler\n",
        "ss=StandardScaler()\n",
        "ss.fit(train_poly)\n",
        "train_scaled=ss.transform(train_poly)\n",
        "test_scaled=ss.transform(test_poly)"
      ],
      "metadata": {
        "id": "NNiAlpD7He_p"
      },
      "execution_count": null,
      "outputs": []
    },
    {
      "cell_type": "markdown",
      "source": [
        "###릿지와 라쏘의 차이\n",
        "* 릿지는 계수 제곱한 값 기준 규제\n",
        "* 계수의 절댓값 기준\n",
        "\n",
        "중요한 것은 상황에 따라 둘 다 사용할 줄 알아야 함"
      ],
      "metadata": {
        "id": "daW_UebkL5Xr"
      }
    },
    {
      "cell_type": "markdown",
      "source": [
        "###릿지"
      ],
      "metadata": {
        "id": "l8w40y-jH0qR"
      }
    },
    {
      "cell_type": "code",
      "source": [
        "from sklearn.linear_model import Ridge\n",
        "\n",
        "ridge = Ridge()\n",
        "ridge.fit(train_scaled,train_target)\n",
        "print(ridge.score(train_scaled,train_target))"
      ],
      "metadata": {
        "colab": {
          "base_uri": "https://localhost:8080/"
        },
        "id": "-wNvDk5fHzXX",
        "outputId": "72e0bad3-8d23-49e0-d9d5-ded8e30bfd98"
      },
      "execution_count": null,
      "outputs": [
        {
          "output_type": "stream",
          "name": "stdout",
          "text": [
            "0.9896101671037343\n"
          ]
        }
      ]
    },
    {
      "cell_type": "code",
      "source": [
        "print(ridge.score(test_scaled,test_target))"
      ],
      "metadata": {
        "colab": {
          "base_uri": "https://localhost:8080/"
        },
        "id": "Vs_KbuVNH_29",
        "outputId": "5db4babd-7eef-4754-f5e2-d4b26d4f3ac1"
      },
      "execution_count": null,
      "outputs": [
        {
          "output_type": "stream",
          "name": "stdout",
          "text": [
            "0.9790693977615387\n"
          ]
        }
      ]
    },
    {
      "cell_type": "code",
      "source": [
        "import matplotlib.pyplot as plt\n",
        "train_score=[]\n",
        "test_score=[]\n",
        "alpha_list=[0.001,0.01,0.1,1,10,100]\n",
        "for alpha in alpha_list:\n",
        "   # 릿지 모델 생성\n",
        "  ridge=Ridge(alpha=alpha)\n",
        "   # 릿지 모델 훈련\n",
        "  ridge.fit(train_scaled,train_target)\n",
        "   # 훈련 점수 테스트 점수 저장\n",
        "  train_score.append(ridge.score(train_scaled,train_target))\n",
        "  test_score.append(ridge.score(test_scaled,test_target))"
      ],
      "metadata": {
        "id": "oukXb4qDJlhk"
      },
      "execution_count": null,
      "outputs": []
    },
    {
      "cell_type": "code",
      "source": [
        "plt.plot(np.log10(alpha_list),train_score)\n",
        "plt.plot(np.log10(alpha_list),test_score)\n",
        "plt.xlabel('alpha')\n",
        "plt.ylabel('R^2')\n",
        "plt.show()"
      ],
      "metadata": {
        "colab": {
          "base_uri": "https://localhost:8080/",
          "height": 279
        },
        "id": "XU4ObLv-KzjW",
        "outputId": "904da419-ba38-41ec-b17b-eb667937c0b3"
      },
      "execution_count": null,
      "outputs": [
        {
          "output_type": "display_data",
          "data": {
            "text/plain": [
              "<Figure size 432x288 with 1 Axes>"
            ],
            "image/png": "[encoded data removed]"
          },
          "metadata": {
            "needs_background": "light"
          }
        }
      ]
    },
    {
      "cell_type": "code",
      "source": [
        "ridge = Ridge(alpha=0.1)\n",
        "ridge.fit(train_scaled, train_target)\n",
        "print(ridge.score(train_scaled,train_target))\n",
        "print(ridge.score(test_scaled,test_target))"
      ],
      "metadata": {
        "colab": {
          "base_uri": "https://localhost:8080/"
        },
        "id": "eUIo1CJcLjSF",
        "outputId": "f2799fd3-ab31-47e1-c9d0-7a74a0eda76f"
      },
      "execution_count": null,
      "outputs": [
        {
          "output_type": "stream",
          "name": "stdout",
          "text": [
            "0.9903815817570367\n",
            "0.9827976465386928\n"
          ]
        }
      ]
    },
    {
      "cell_type": "markdown",
      "source": [
        "###라쏘"
      ],
      "metadata": {
        "id": "r1dRGnB2LrOt"
      }
    },
    {
      "cell_type": "code",
      "source": [
        "from sklearn.linear_model import Lasso\n",
        "lasso=Lasso()\n",
        "lasso.fit(train_scaled,train_target)\n",
        "print(lasso.score(train_scaled,train_target))"
      ],
      "metadata": {
        "colab": {
          "base_uri": "https://localhost:8080/"
        },
        "id": "ygX2r3dwLlkR",
        "outputId": "352b1c93-650c-417f-dcd0-862a46d66ab6"
      },
      "execution_count": null,
      "outputs": [
        {
          "output_type": "stream",
          "name": "stdout",
          "text": [
            "0.989789897208096\n"
          ]
        }
      ]
    },
    {
      "cell_type": "code",
      "source": [
        "print(lasso.score(test_scaled,test_target))"
      ],
      "metadata": {
        "colab": {
          "base_uri": "https://localhost:8080/"
        },
        "id": "nJ7H9_KqMX2Z",
        "outputId": "a2bdf468-77a1-4721-ab9a-eab62aa59235"
      },
      "execution_count": null,
      "outputs": [
        {
          "output_type": "stream",
          "name": "stdout",
          "text": [
            "0.9800593698421883\n"
          ]
        }
      ]
    },
    {
      "cell_type": "code",
      "source": [
        "train_score=[]\n",
        "test_score=[]\n",
        "alpha_list=[0.001,0.01,0.1,1,10,100]\n",
        "for alpha in alpha_list:\n",
        "   # 라쏘 모델 제작\n",
        "  lasso=Lasso(alpha=alpha,max_iter=10000)\n",
        "   # 라쏘 모델 훈련\n",
        "  lasso.fit(train_scaled,train_target)\n",
        "   # 훈련 점수 테스트 점수 저장\n",
        "  train_score.append(lasso.score(train_scaled,train_target))\n",
        "  test_score.append(lasso.score(test_scaled,test_target))"
      ],
      "metadata": {
        "colab": {
          "base_uri": "https://localhost:8080/"
        },
        "id": "AkAIZrxfMc8P",
        "outputId": "57b282aa-bdb0-47cd-c9af-27fcfacc1315"
      },
      "execution_count": null,
      "outputs": [
        {
          "output_type": "stream",
          "name": "stderr",
          "text": [
            "/usr/local/lib/python3.9/dist-packages/sklearn/linear_model/_coordinate_descent.py:631: ConvergenceWarning: Objective did not converge. You might want to increase the number of iterations, check the scale of the features or consider increasing regularisation. Duality gap: 1.878e+04, tolerance: 5.183e+02\n",
            "  model = cd_fast.enet_coordinate_descent(\n",
            "/usr/local/lib/python3.9/dist-packages/sklearn/linear_model/_coordinate_descent.py:631: ConvergenceWarning: Objective did not converge. You might want to increase the number of iterations, check the scale of the features or consider increasing regularisation. Duality gap: 1.297e+04, tolerance: 5.183e+02\n",
            "  model = cd_fast.enet_coordinate_descent(\n"
          ]
        }
      ]
    },
    {
      "cell_type": "markdown",
      "source": [
        "### ConvergenceWarning은 지정한 반복 횟수가 부족할 때 경고 발생"
      ],
      "metadata": {
        "id": "ihUQN45aNQzq"
      }
    },
    {
      "cell_type": "code",
      "source": [
        "plt.plot(np.log10(alpha_list), train_score)\n",
        "plt.plot(np.log10(alpha_list), test_score)\n",
        "plt.xlabel('alpha')\n",
        "plt.ylabel('R^2')\n",
        "plt.show()"
      ],
      "metadata": {
        "colab": {
          "base_uri": "https://localhost:8080/",
          "height": 279
        },
        "id": "PTVlrFJnM_3o",
        "outputId": "dbd91135-e471-49af-b36c-b6563982cf8f"
      },
      "execution_count": null,
      "outputs": [
        {
          "output_type": "display_data",
          "data": {
            "text/plain": [
              "<Figure size 432x288 with 1 Axes>"
            ],
            "image/png": "[encoded data removed]"
          },
          "metadata": {
            "needs_background": "light"
          }
        }
      ]
    },
    {
      "cell_type": "code",
      "source": [
        "lasso = Lasso(alpha=10)\n",
        "lasso.fit(train_scaled,train_target)\n",
        "print(lasso.score(train_scaled,train_target))\n",
        "print(lasso.score(test_scaled,test_target))"
      ],
      "metadata": {
        "colab": {
          "base_uri": "https://localhost:8080/"
        },
        "id": "4B7vNbA1Na5V",
        "outputId": "693ace50-3626-421c-912e-a07f658a3871"
      },
      "execution_count": null,
      "outputs": [
        {
          "output_type": "stream",
          "name": "stdout",
          "text": [
            "0.9888067471131867\n",
            "0.9824470598706695\n"
          ]
        }
      ]
    },
    {
      "cell_type": "code",
      "source": [
        "print(np.sum(lasso.coef_==0))"
      ],
      "metadata": {
        "id": "oT4Ln4a8NmqF",
        "outputId": "d503ccbc-fbdb-4c05-d97c-68d014f1a7b8",
        "colab": {
          "base_uri": "https://localhost:8080/"
        }
      },
      "execution_count": null,
      "outputs": [
        {
          "output_type": "stream",
          "name": "stdout",
          "text": [
            "40\n"
          ]
        }
      ]
    },
    {
      "cell_type": "code",
      "source": [],
      "metadata": {
        "id": "ruOipWRRNqJE"
      },
      "execution_count": null,
      "outputs": []
    }
  ]
}