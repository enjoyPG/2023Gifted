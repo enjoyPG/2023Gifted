{
  "nbformat": 4,
  "nbformat_minor": 0,
  "metadata": {
    "colab": {
      "provenance": [],
      "authorship_tag": "ABX9TyNoThueMbVZ0KiWFrbyzAYh",
      "include_colab_link": true
    },
    "kernelspec": {
      "name": "python3",
      "display_name": "Python 3"
    },
    "language_info": {
      "name": "python"
    }
  },
  "cells": [
    {
      "cell_type": "markdown",
      "metadata": {
        "id": "view-in-github",
        "colab_type": "text"
      },
      "source": [
        "<a href=\"https://colab.research.google.com/github/enjoyPG/2023Gifted/blob/main/20230301/%ED%83%9C%EC%A3%BC_Colab_Test.ipynb\" target=\"_parent\"><img src=\"https://colab.research.google.com/assets/colab-badge.svg\" alt=\"Open In Colab\"/></a>"
      ]
    },
    {
      "cell_type": "markdown",
      "source": [
        "### 라이브러리 설명\n",
        "\n",
        "* OpenCV: 컴퓨터 비전 라이브러리\n",
        "* NumPy: 행렬, 벡터, 스칼라같은 수 데이터를 처리하고 연산하기 위한 라이브러리\n",
        "* Pandas: 테이블 데이터 처리 => 엑셀\n",
        "* Matplotlib: 데이터 시각화 라이브러리\n"
      ],
      "metadata": {
        "id": "E4VxhnYFHS6b"
      }
    },
    {
      "cell_type": "code",
      "execution_count": null,
      "metadata": {
        "id": "pbmaiJJ3FtlX"
      },
      "outputs": [],
      "source": [
        "import cv2 #컴퓨터 비전 라이브러리\n",
        "import numpy as np #행렬 => 2차원 배열, 벡터 => 1차원 배열, 스칼라 => 변수\n",
        "import pandas as pd #엑셀 데이터를 처리\n",
        "import matplotlib # 시각화 라이브러리\n"
      ]
    }
  ]
}
