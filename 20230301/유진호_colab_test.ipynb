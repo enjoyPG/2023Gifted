{
  "nbformat": 4,
  "nbformat_minor": 0,
  "metadata": {
    "colab": {
      "private_outputs": true,
      "provenance": [],
      "authorship_tag": "ABX9TyMzJyfl5L9tnO/oQ/G/NPe8",
      "include_colab_link": true
    },
    "kernelspec": {
      "name": "python3",
      "display_name": "Python 3"
    },
    "language_info": {
      "name": "python"
    }
  },
  "cells": [
    {
      "cell_type": "markdown",
      "metadata": {
        "id": "view-in-github",
        "colab_type": "text"
      },
      "source": [
        "<a href=\"https://colab.research.google.com/github/enjoyPG/2023Gifted/blob/main/20230301/%EC%9C%A0%EC%A7%84%ED%98%B8_colab_test.ipynb\" target=\"_parent\"><img src=\"https://colab.research.google.com/assets/colab-badge.svg\" alt=\"Open In Colab\"/></a>"
      ]
    },
    {
      "cell_type": "code",
      "execution_count": null,
      "metadata": {
        "id": "1NP5kmmMFy5Y"
      },
      "outputs": [],
      "source": [
        "print(\"hello world\")"
      ]
    },
    {
      "cell_type": "code",
      "source": [
        "import matplotlib #시각화 라이브러리       \n",
        "import pandas as pd #엑셀게이터 정리\n",
        "import numpy as np # 행렬=>2차원배열 백처 =.1차원배열 스카라=>변수\n",
        "import cv2 # 컴퓨터 비전 라이브러리"
      ],
      "metadata": {
        "id": "Yx-4RzEdF-2f"
      },
      "execution_count": null,
      "outputs": []
    }
  ]
}