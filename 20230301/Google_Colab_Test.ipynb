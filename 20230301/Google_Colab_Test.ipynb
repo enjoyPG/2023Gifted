{
  "nbformat": 4,
  "nbformat_minor": 0,
  "metadata": {
    "colab": {
      "provenance": [],
      "authorship_tag": "ABX9TyP1KAYqJghjqxUM8HhK78dh",
      "include_colab_link": true
    },
    "kernelspec": {
      "name": "python3",
      "display_name": "Python 3"
    },
    "language_info": {
      "name": "python"
    }
  },
  "cells": [
    {
      "cell_type": "markdown",
      "metadata": {
        "id": "view-in-github",
        "colab_type": "text"
      },
      "source": [
        "<a href=\"https://colab.research.google.com/github/enjoyPG/2023Gifted/blob/main/20230301/Google_Colab_Test.ipynb\" target=\"_parent\"><img src=\"https://colab.research.google.com/assets/colab-badge.svg\" alt=\"Open In Colab\"/></a>"
      ]
    },
    {
      "cell_type": "code",
      "execution_count": 1,
      "metadata": {
        "colab": {
          "base_uri": "https://localhost:8080/"
        },
        "id": "r6JW0boPFtav",
        "outputId": "a53d79fb-0725-45f3-a40b-32b54aa60d95"
      },
      "outputs": [
        {
          "output_type": "stream",
          "name": "stdout",
          "text": [
            "Hello World\n"
          ]
        }
      ],
      "source": [
        "print(\"Hello World\")"
      ]
    },
    {
      "cell_type": "markdown",
      "source": [
        "#### 라이브러리 설명\n",
        "\n",
        "* OpenCV: 컴퓨터 비전 관련 라이브러리\n",
        "* NumPy: 행렬, 벡터, 스칼라같은 수 데이터를 처리하고 연산하기 위한 라이브러리\n",
        "* Pandas: 테이블 형식의 데이터를 처리 => 엑셀\n",
        "* Matplotlib: 데이터 시각화 라이브러리"
      ],
      "metadata": {
        "id": "VnHHJUlSHLyi"
      }
    },
    {
      "cell_type": "code",
      "source": [
        "import cv2 # 컴퓨터 비전 라이브러리\n",
        "import numpy as np # 행렬 => 2차원 배열, 벡터 => 1차원 배열, 스칼라 => 변수\n",
        "import pandas as pd # 엑셀 데이터를 처리\n",
        "import matplotlib # 시각화 라이브러리"
      ],
      "metadata": {
        "id": "RZpuFzz4F5UO"
      },
      "execution_count": null,
      "outputs": []
    }
  ]
}