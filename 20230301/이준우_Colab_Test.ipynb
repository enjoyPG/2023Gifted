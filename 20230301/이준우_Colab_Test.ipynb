{
  "nbformat": 4,
  "nbformat_minor": 0,
  "metadata": {
    "colab": {
      "provenance": [],
      "authorship_tag": "ABX9TyPgWvKlyb8sBsRjH6x9IP4Z",
      "include_colab_link": true
    },
    "kernelspec": {
      "name": "python3",
      "display_name": "Python 3"
    },
    "language_info": {
      "name": "python"
    }
  },
  "cells": [
    {
      "cell_type": "markdown",
      "metadata": {
        "id": "view-in-github",
        "colab_type": "text"
      },
      "source": [
        "<a href=\"https://colab.research.google.com/github/enjoyPG/2023Gifted/blob/main/20230301/%EC%9D%B4%EC%A4%80%EC%9A%B0_Colab_Test.ipynb\" target=\"_parent\"><img src=\"https://colab.research.google.com/assets/colab-badge.svg\" alt=\"Open In Colab\"/></a>"
      ]
    },
    {
      "cell_type": "code",
      "execution_count": 1,
      "metadata": {
        "colab": {
          "base_uri": "https://localhost:8080/"
        },
        "id": "9E7mcWGnFzrI",
        "outputId": "54d20ed9-3615-404b-dd2b-ea08906471d8"
      },
      "outputs": [
        {
          "output_type": "stream",
          "name": "stdout",
          "text": [
            "Hello World\n"
          ]
        }
      ],
      "source": [
        "print(\"Hello World\")"
      ]
    },
    {
      "cell_type": "code",
      "source": [
        "import cv2 #컴퓨터 비전 라이브러리(이미지와 동영상 처리)\n",
        "import numpy as np #행렬=2차원배열, 벡터=1차원배열, 스칼라=변수\n",
        "import pandas as pd #엑셀데이터 처리(문서)\n",
        "import matplotlib #시각화 라이브러리"
      ],
      "metadata": {
        "id": "hICNIZfZF7hV"
      },
      "execution_count": null,
      "outputs": []
    },
    {
      "cell_type": "markdown",
      "source": [
        "###라이브러리 설명\n",
        "\n",
        "* cv2 = 컴퓨터 비전(이미지와 동영상 처리)라이브러리\n",
        "* numpy = 행렬(2차원배열), 벡터(1차원배열), 스칼라(변수)\n",
        "* pandas = 문서형태(엑셀 등등)\n",
        "* matplotlib = 시각화 라이브러리"
      ],
      "metadata": {
        "id": "5p2uahlKHSCQ"
      }
    }
  ]
}