{
  "nbformat": 4,
  "nbformat_minor": 0,
  "metadata": {
    "colab": {
      "provenance": [],
      "authorship_tag": "ABX9TyNLCY/FA9g/0xbyAxnHVj8P",
      "include_colab_link": true
    },
    "kernelspec": {
      "name": "python3",
      "display_name": "Python 3"
    },
    "language_info": {
      "name": "python"
    }
  },
  "cells": [
    {
      "cell_type": "markdown",
      "metadata": {
        "id": "view-in-github",
        "colab_type": "text"
      },
      "source": [
        "<a href=\"https://colab.research.google.com/github/enjoyPG/2023Gifted/blob/main/20230301/%EC%B0%A8%EC%8A%B9%EC%9A%B0_Untitled4.ipynb\" target=\"_parent\"><img src=\"https://colab.research.google.com/assets/colab-badge.svg\" alt=\"Open In Colab\"/></a>"
      ]
    },
    {
      "cell_type": "markdown",
      "source": [
        "###라이브러리 설명\n",
        "\n",
        "OpenCV: 컴퓨터 비전 라이브러리\n",
        "NumPy: 행렬 백터 스칼라같은 수 데이터 처리, 연산\n",
        "Pandas: 테이블 형식의 데이터 처리(액셀)\n",
        "Matplotlib: 데이터 시각화\n"
      ],
      "metadata": {
        "id": "a2iu81yQHOYb"
      }
    },
    {
      "cell_type": "code",
      "execution_count": null,
      "metadata": {
        "id": "z6JC00TXF8ji"
      },
      "outputs": [],
      "source": [
        "import cv2 # 컴퓨터 비전 라이브러리\n",
        "from numpy import np # 행렬=2차원 배열, 벡터=1차원 배열, 스칼라=변수\n",
        "import pandas as pd # 액셀처리\n",
        "import matplotlib # 시각화해주는거"
      ]
    }
  ]
}